{
 "cells": [
  {
   "cell_type": "markdown",
   "id": "8a77807f92f26ee",
   "metadata": {},
   "source": [
    "# utils & framework"
   ]
  },
  {
   "cell_type": "code",
   "id": "fbc121e30a2defb3",
   "metadata": {
    "ExecuteTime": {
     "end_time": "2025-10-09T02:51:25.314802Z",
     "start_time": "2025-10-09T02:51:24.758251Z"
    }
   },
   "source": [
    "from collections.abc import Iterable\n",
    "\n",
    "from IPython.core.display import Markdown\n",
    "from sympy import *\n",
    "\n",
    "tag_id = 0\n",
    "var_id = 0\n",
    "\n",
    "conditions = []\n",
    "values = {}\n",
    "\n",
    "\n",
    "def save_as_condition(condition):\n",
    "    global tag_id, conditions\n",
    "    cached_condition_id = cond_id\n",
    "    conditions.append(condition)\n",
    "    cond_id += 1\n",
    "    return cached_condition_id\n",
    "\n",
    "\n",
    "def substitute_values(expression):\n",
    "    while True:\n",
    "        left = False\n",
    "        for (key, value) in values.items():\n",
    "            before = str(expression)\n",
    "            expression = expression.subs(key, value)\n",
    "            expression = simplify(expression)\n",
    "            if str(expression) != before:\n",
    "                left = True\n",
    "\n",
    "        if not left:\n",
    "            break\n",
    "\n",
    "    return expression\n",
    "\n",
    "\n",
    "def save_as_variable(symbol, value):\n",
    "    global values\n",
    "    if symbol in values.keys():\n",
    "        raise ValueError(f\"variable {symbol} already exists\")\n",
    "    values[symbol] = substitute_values(value)\n",
    "\n",
    "\n",
    "def get_conditions(ids) -> tuple:\n",
    "    return tuple(map(lambda i: conditions[i], ids))\n",
    "\n",
    "\n",
    "def beautiful_print(expression, message=\"\", tag=None):\n",
    "    # escape the message for LaTeX and append the expression\n",
    "    inline = not message.endswith('$')\n",
    "    tag_str = f'\\\\tag{{{tag}}}' if tag is not None else \"\"\n",
    "    if inline:\n",
    "        full_latex = message + '$' + latex(expression) + '$'\n",
    "    else:\n",
    "        full_latex = message + '$' + latex(expression) + tag_str + '$$'\n",
    "    display(Markdown(full_latex))\n",
    "def beautiful_peek(symbol, message=\"$\"):\n",
    "    value = substitute_values(symbol)\n",
    "    beautiful_print(Eq(symbol, value, evaluate=False), message)\n",
    "    save_as_variable(symbol, value)\n",
    "\n",
    "def beautiful_solve(cond, variables):\n",
    "    cond = [cond] if not isinstance(cond, Iterable) else cond\n",
    "    variables = [variables] if not isinstance(variables, Iterable) else variables\n",
    "    solution = solve(get_conditions(cond), tuple(variables), dict=True)[0]\n",
    "    conclusions = []\n",
    "    display(Markdown(f\"${','.join(f\"\\\\left ( {i} \\\\right ) \" for i in cond)} \\\\Longrightarrow$\"))\n",
    "    for (variable, conclusion) in solution.items():\n",
    "        beautiful_print(Eq(variable, conclusion), \"$\")\n",
    "        save_as_variable(variable, conclusion)\n",
    "        conclusions.append(conclusion)\n",
    "    return tuple(conclusions)\n",
    "\n",
    "\n",
    "def beautiful_condition(expression, message=\"$\"):\n",
    "    beautiful_print(expression(False) if callable(expression) else expression, message, tag_id)\n",
    "    return save_as_condition(expression(True) if callable(expression) else expression)\n",
    "\n",
    "\n",
    "def beautiful_compute(symbol, expression=None, message=\"$\", tag: bool = False):\n",
    "    beautiful_print(Eq(symbol, expression(False) if callable(expression) else expression), message,\n",
    "                    tag_id if tag else None)\n",
    "    save_as_variable(symbol, expression)\n",
    "\n",
    "\n"
   ],
   "outputs": [],
   "execution_count": 1
  },
  {
   "cell_type": "markdown",
   "id": "7c055ce8b6caccf7",
   "metadata": {},
   "source": [
    "# Define variables"
   ]
  },
  {
   "cell_type": "code",
   "id": "1307e74f74a7b3a",
   "metadata": {
    "ExecuteTime": {
     "end_time": "2025-10-09T02:51:25.331905Z",
     "start_time": "2025-10-09T02:51:25.322002Z"
    }
   },
   "source": [
    "v = symbols('v')\n",
    "p = symbols('p')\n",
    "r = symbols('r')\n",
    "\n",
    "pitch = symbols('pitch')\n",
    "t = symbols('t')\n",
    "varphi = Function('varphi')(t)\n",
    "varphi_d1 = diff(varphi, t, 1)\n",
    "varphi_d2 = diff(varphi, t, 2)\n",
    "\n",
    "rho = Function('rho')(t)\n",
    "rho_d1 = diff(rho, t, 1)\n",
    "rho_d2 = diff(rho, t, 2)\n",
    "h = Function('h')(t)\n",
    "h_d1 = diff(h, t, 1)\n",
    "h_d2 = diff(h, t, 2)\n",
    "\n"
   ],
   "outputs": [],
   "execution_count": 2
  },
  {
   "cell_type": "code",
   "id": "68ca6cbf5554382",
   "metadata": {
    "ExecuteTime": {
     "end_time": "2025-10-09T02:51:25.717510Z",
     "start_time": "2025-10-09T02:51:25.354311Z"
    }
   },
   "source": [
    "cond1 = beautiful_condition(lambda e: Eq(tan(pitch), p / (2 * pi * r)), \"by geometry:$\")\n",
    "cond2 = beautiful_condition(lambda e: Eq(sin(pitch), h_d1 / v), \"by geometry:$\")\n",
    "cond3 = beautiful_condition(lambda e: Eq(cos(pitch), varphi_d1 * r / v), \"by geometry:$\")\n",
    "_ = beautiful_solve([cond1, cond2, cond3], [pitch, h_d1, varphi_d1])\n",
    "\n"
   ],
   "outputs": [
    {
     "data": {
      "text/plain": [
       "<IPython.core.display.Markdown object>"
      ],
      "text/markdown": "by geometry:$$\\tan{\\left(pitch \\right)} = \\frac{p}{2 \\pi r}\\tag{0}$$"
     },
     "metadata": {},
     "output_type": "display_data",
     "jetTransient": {
      "display_id": null
     }
    },
    {
     "ename": "UnboundLocalError",
     "evalue": "cannot access local variable 'cond_id' where it is not associated with a value",
     "output_type": "error",
     "traceback": [
      "\u001B[31m---------------------------------------------------------------------------\u001B[39m",
      "\u001B[31mUnboundLocalError\u001B[39m                         Traceback (most recent call last)",
      "\u001B[36mCell\u001B[39m\u001B[36m \u001B[39m\u001B[32mIn[3]\u001B[39m\u001B[32m, line 1\u001B[39m\n\u001B[32m----> \u001B[39m\u001B[32m1\u001B[39m cond1 = \u001B[43mbeautiful_condition\u001B[49m\u001B[43m(\u001B[49m\u001B[38;5;28;43;01mlambda\u001B[39;49;00m\u001B[43m \u001B[49m\u001B[43me\u001B[49m\u001B[43m:\u001B[49m\u001B[43m \u001B[49m\u001B[43mEq\u001B[49m\u001B[43m(\u001B[49m\u001B[43mtan\u001B[49m\u001B[43m(\u001B[49m\u001B[43mpitch\u001B[49m\u001B[43m)\u001B[49m\u001B[43m,\u001B[49m\u001B[43m \u001B[49m\u001B[43mp\u001B[49m\u001B[43m \u001B[49m\u001B[43m/\u001B[49m\u001B[43m \u001B[49m\u001B[43m(\u001B[49m\u001B[32;43m2\u001B[39;49m\u001B[43m \u001B[49m\u001B[43m*\u001B[49m\u001B[43m \u001B[49m\u001B[43mpi\u001B[49m\u001B[43m \u001B[49m\u001B[43m*\u001B[49m\u001B[43m \u001B[49m\u001B[43mr\u001B[49m\u001B[43m)\u001B[49m\u001B[43m)\u001B[49m\u001B[43m,\u001B[49m\u001B[43m \u001B[49m\u001B[33;43m\"\u001B[39;49m\u001B[33;43mby geometry:$\u001B[39;49m\u001B[33;43m\"\u001B[39;49m\u001B[43m)\u001B[49m\n\u001B[32m      2\u001B[39m cond2 = beautiful_condition(\u001B[38;5;28;01mlambda\u001B[39;00m e: Eq(sin(pitch), h_d1 / v), \u001B[33m\"\u001B[39m\u001B[33mby geometry:$\u001B[39m\u001B[33m\"\u001B[39m)\n\u001B[32m      3\u001B[39m cond3 = beautiful_condition(\u001B[38;5;28;01mlambda\u001B[39;00m e: Eq(cos(pitch), varphi_d1 * r / v), \u001B[33m\"\u001B[39m\u001B[33mby geometry:$\u001B[39m\u001B[33m\"\u001B[39m)\n",
      "\u001B[36mCell\u001B[39m\u001B[36m \u001B[39m\u001B[32mIn[1]\u001B[39m\u001B[32m, line 77\u001B[39m, in \u001B[36mbeautiful_condition\u001B[39m\u001B[34m(expression, message)\u001B[39m\n\u001B[32m     75\u001B[39m \u001B[38;5;28;01mdef\u001B[39;00m\u001B[38;5;250m \u001B[39m\u001B[34mbeautiful_condition\u001B[39m(expression, message=\u001B[33m\"\u001B[39m\u001B[33m$\u001B[39m\u001B[33m\"\u001B[39m):\n\u001B[32m     76\u001B[39m     beautiful_print(expression(\u001B[38;5;28;01mFalse\u001B[39;00m) \u001B[38;5;28;01mif\u001B[39;00m \u001B[38;5;28mcallable\u001B[39m(expression) \u001B[38;5;28;01melse\u001B[39;00m expression, message, tag_id)\n\u001B[32m---> \u001B[39m\u001B[32m77\u001B[39m     \u001B[38;5;28;01mreturn\u001B[39;00m \u001B[43msave_as_condition\u001B[49m\u001B[43m(\u001B[49m\u001B[43mexpression\u001B[49m\u001B[43m(\u001B[49m\u001B[38;5;28;43;01mTrue\u001B[39;49;00m\u001B[43m)\u001B[49m\u001B[43m \u001B[49m\u001B[38;5;28;43;01mif\u001B[39;49;00m\u001B[43m \u001B[49m\u001B[38;5;28;43mcallable\u001B[39;49m\u001B[43m(\u001B[49m\u001B[43mexpression\u001B[49m\u001B[43m)\u001B[49m\u001B[43m \u001B[49m\u001B[38;5;28;43;01melse\u001B[39;49;00m\u001B[43m \u001B[49m\u001B[43mexpression\u001B[49m\u001B[43m)\u001B[49m\n",
      "\u001B[36mCell\u001B[39m\u001B[36m \u001B[39m\u001B[32mIn[1]\u001B[39m\u001B[32m, line 15\u001B[39m, in \u001B[36msave_as_condition\u001B[39m\u001B[34m(condition)\u001B[39m\n\u001B[32m     13\u001B[39m \u001B[38;5;28;01mdef\u001B[39;00m\u001B[38;5;250m \u001B[39m\u001B[34msave_as_condition\u001B[39m(condition):\n\u001B[32m     14\u001B[39m     \u001B[38;5;28;01mglobal\u001B[39;00m tag_id, conditions\n\u001B[32m---> \u001B[39m\u001B[32m15\u001B[39m     cached_condition_id = \u001B[43mcond_id\u001B[49m\n\u001B[32m     16\u001B[39m     conditions.append(condition)\n\u001B[32m     17\u001B[39m     cond_id += \u001B[32m1\u001B[39m\n",
      "\u001B[31mUnboundLocalError\u001B[39m: cannot access local variable 'cond_id' where it is not associated with a value"
     ]
    }
   ],
   "execution_count": 3
  },
  {
   "cell_type": "code",
   "id": "2f624ddfabd97660",
   "metadata": {
    "ExecuteTime": {
     "end_time": "2025-10-09T02:51:25.728500500Z",
     "start_time": "2025-09-24T07:17:13.307859Z"
    }
   },
   "source": [
    "beautiful_condition(Eq(diff(v,t,evaluate= false),0),\"by const vel:$\")\n",
    "beautiful_peek(h_d2,\"so as to:$\")\n",
    "beautiful_peek(varphi_d2,\"so as to:$\")\n"
   ],
   "outputs": [
    {
     "data": {
      "text/plain": [
       "<IPython.core.display.Markdown object>"
      ],
      "text/markdown": "by const vel:$$\\frac{d}{d t} v = 0\\tag{3}$$"
     },
     "metadata": {},
     "output_type": "display_data",
     "jetTransient": {
      "display_id": null
     }
    },
    {
     "data": {
      "text/plain": [
       "<IPython.core.display.Markdown object>"
      ],
      "text/markdown": "so as to:$$\\frac{d^{2}}{d t^{2}} h{\\left(t \\right)} = \\frac{\\partial}{\\partial t} \\frac{p v}{r \\sqrt{\\frac{p^{2}}{r^{2}} + 4 \\pi^{2}}}$$"
     },
     "metadata": {},
     "output_type": "display_data",
     "jetTransient": {
      "display_id": null
     }
    },
    {
     "data": {
      "text/plain": [
       "<IPython.core.display.Markdown object>"
      ],
      "text/markdown": "so as to:$$\\frac{d^{2}}{d t^{2}} \\varphi{\\left(t \\right)} = \\frac{\\partial}{\\partial t} \\frac{2 \\pi v}{r \\sqrt{\\frac{p^{2}}{r^{2}} + 4 \\pi^{2}}}$$"
     },
     "metadata": {},
     "output_type": "display_data",
     "jetTransient": {
      "display_id": null
     }
    }
   ],
   "execution_count": 4
  },
  {
   "cell_type": "code",
   "id": "55a51349b45cf941",
   "metadata": {
    "ExecuteTime": {
     "end_time": "2025-10-09T02:51:25.740384800Z",
     "start_time": "2025-09-24T07:17:13.372959Z"
    }
   },
   "source": [
    "beautiful_compute(rho,r,\"by const radius:$\")\n",
    "beautiful_peek(rho_d1,\"so as to:$\")\n",
    "beautiful_peek(rho_d2,\"so as to:$\")\n"
   ],
   "outputs": [
    {
     "data": {
      "text/plain": [
       "<IPython.core.display.Markdown object>"
      ],
      "text/markdown": "by const radius:$$\\rho{\\left(t \\right)} = r$$"
     },
     "metadata": {},
     "output_type": "display_data",
     "jetTransient": {
      "display_id": null
     }
    },
    {
     "data": {
      "text/plain": [
       "<IPython.core.display.Markdown object>"
      ],
      "text/markdown": "so as to:$$\\frac{d}{d t} \\rho{\\left(t \\right)} = \\frac{d}{d t} r$$"
     },
     "metadata": {},
     "output_type": "display_data",
     "jetTransient": {
      "display_id": null
     }
    },
    {
     "data": {
      "text/plain": [
       "<IPython.core.display.Markdown object>"
      ],
      "text/markdown": "so as to:$$\\frac{d^{2}}{d t^{2}} \\rho{\\left(t \\right)} = \\frac{d^{2}}{d t^{2}} r$$"
     },
     "metadata": {},
     "output_type": "display_data",
     "jetTransient": {
      "display_id": null
     }
    }
   ],
   "execution_count": 5
  },
  {
   "cell_type": "code",
   "id": "e112f07bff252cdb",
   "metadata": {
    "ExecuteTime": {
     "end_time": "2025-10-09T02:51:25.745500Z",
     "start_time": "2025-09-24T07:17:13.481464Z"
    }
   },
   "source": [
    "velocity = Matrix([rho_d1,rho *varphi_d1,h_d1])\n",
    "beautiful_print(velocity, r\"velocity vector in polar coordinates:$\")\n",
    "velocity = substitute_values(velocity)\n",
    "beautiful_print(velocity, r\"and inlined:$\")\n"
   ],
   "outputs": [
    {
     "data": {
      "text/plain": [
       "<IPython.core.display.Markdown object>"
      ],
      "text/markdown": "velocity vector in polar coordinates:$$\\left[\\begin{matrix}\\frac{d}{d t} \\rho{\\left(t \\right)}\\\\\\rho{\\left(t \\right)} \\frac{d}{d t} \\varphi{\\left(t \\right)}\\\\\\frac{d}{d t} h{\\left(t \\right)}\\end{matrix}\\right]$$"
     },
     "metadata": {},
     "output_type": "display_data",
     "jetTransient": {
      "display_id": null
     }
    },
    {
     "data": {
      "text/plain": [
       "<IPython.core.display.Markdown object>"
      ],
      "text/markdown": "and inlined:$$\\left[\\begin{matrix}\\frac{d}{d t} r\\\\\\frac{2 \\pi v}{\\sqrt{\\frac{p^{2}}{r^{2}} + 4 \\pi^{2}}}\\\\\\frac{p v}{r \\sqrt{\\frac{p^{2}}{r^{2}} + 4 \\pi^{2}}}\\end{matrix}\\right]$$"
     },
     "metadata": {},
     "output_type": "display_data",
     "jetTransient": {
      "display_id": null
     }
    }
   ],
   "execution_count": 6
  },
  {
   "cell_type": "code",
   "id": "65e51ee8de4318c9",
   "metadata": {
    "ExecuteTime": {
     "end_time": "2025-10-09T02:51:25.745500Z",
     "start_time": "2025-09-24T07:17:13.688860Z"
    }
   },
   "source": [
    "acceleration = Matrix([rho_d2- rho* varphi_d1**2 ,  2*varphi_d1*rho_d1, h_d2])\n",
    "beautiful_print(acceleration, r\"acceleration vector in polar coordinates:$\")\n",
    "acceleration = substitute_values(acceleration)\n",
    "beautiful_print(acceleration, r\"and inlined:$\")\n"
   ],
   "outputs": [
    {
     "data": {
      "text/plain": [
       "<IPython.core.display.Markdown object>"
      ],
      "text/markdown": "acceleration vector in polar coordinates:$$\\left[\\begin{matrix}- \\rho{\\left(t \\right)} \\left(\\frac{d}{d t} \\varphi{\\left(t \\right)}\\right)^{2} + \\frac{d^{2}}{d t^{2}} \\rho{\\left(t \\right)}\\\\2 \\frac{d}{d t} \\rho{\\left(t \\right)} \\frac{d}{d t} \\varphi{\\left(t \\right)}\\\\\\frac{d^{2}}{d t^{2}} h{\\left(t \\right)}\\end{matrix}\\right]$$"
     },
     "metadata": {},
     "output_type": "display_data",
     "jetTransient": {
      "display_id": null
     }
    },
    {
     "data": {
      "text/plain": [
       "<IPython.core.display.Markdown object>"
      ],
      "text/markdown": "and inlined:$$\\left[\\begin{matrix}\\frac{d^{2}}{d t^{2}} r - \\frac{4 \\pi^{2} v^{2}}{r \\left(\\frac{p^{2}}{r^{2}} + 4 \\pi^{2}\\right)}\\\\\\frac{4 \\pi v \\frac{d}{d t} r}{r \\sqrt{\\frac{p^{2}}{r^{2}} + 4 \\pi^{2}}}\\\\\\frac{\\partial}{\\partial t} \\frac{p v}{r \\sqrt{\\frac{p^{2}}{r^{2}} + 4 \\pi^{2}}}\\end{matrix}\\right]$$"
     },
     "metadata": {},
     "output_type": "display_data",
     "jetTransient": {
      "display_id": null
     }
    }
   ],
   "execution_count": 7
  },
  {
   "cell_type": "code",
   "id": "90c4d99366ccb5f5",
   "metadata": {
    "ExecuteTime": {
     "end_time": "2025-10-09T02:51:25.745500Z",
     "start_time": "2025-09-24T07:17:13.765675Z"
    }
   },
   "source": [
    "beautiful_compute(v,S(20),\"assign:$\")\n",
    "beautiful_compute(p,S(0.2),)\n",
    "beautiful_compute(r,S(0.5),)"
   ],
   "outputs": [
    {
     "data": {
      "text/plain": [
       "<IPython.core.display.Markdown object>"
      ],
      "text/markdown": "assign:$$v = 20$$"
     },
     "metadata": {},
     "output_type": "display_data",
     "jetTransient": {
      "display_id": null
     }
    },
    {
     "data": {
      "text/plain": [
       "<IPython.core.display.Markdown object>"
      ],
      "text/markdown": "$$p = 0.2$$"
     },
     "metadata": {},
     "output_type": "display_data",
     "jetTransient": {
      "display_id": null
     }
    },
    {
     "data": {
      "text/plain": [
       "<IPython.core.display.Markdown object>"
      ],
      "text/markdown": "$$r = 0.5$$"
     },
     "metadata": {},
     "output_type": "display_data",
     "jetTransient": {
      "display_id": null
     }
    }
   ],
   "execution_count": 8
  },
  {
   "cell_type": "code",
   "id": "68390c297a90c5a7",
   "metadata": {
    "ExecuteTime": {
     "end_time": "2025-10-09T02:51:25.745500Z",
     "start_time": "2025-09-24T07:17:13.936695Z"
    }
   },
   "source": [
    "velocity = substitute_values(velocity)\n",
    "beautiful_print(velocity, r\"and evaluated vel:$\")\n",
    "acceleration = substitute_values(acceleration)\n",
    "beautiful_print(acceleration, r\"and evaluated acc:$\")\n"
   ],
   "outputs": [
    {
     "data": {
      "text/plain": [
       "<IPython.core.display.Markdown object>"
      ],
      "text/markdown": "and evaluated vel:$$\\left[\\begin{matrix}\\frac{d}{d t} 0.5\\\\\\frac{40 \\pi}{\\sqrt{0.16 + 4 \\pi^{2}}}\\\\\\frac{8.0}{\\sqrt{0.16 + 4 \\pi^{2}}}\\end{matrix}\\right]$$"
     },
     "metadata": {},
     "output_type": "display_data",
     "jetTransient": {
      "display_id": null
     }
    },
    {
     "data": {
      "text/plain": [
       "<IPython.core.display.Markdown object>"
      ],
      "text/markdown": "and evaluated acc:$$\\left[\\begin{matrix}\\frac{d^{2}}{d t^{2}} 0.5 - \\frac{3200.0 \\pi^{2}}{0.16 + 4 \\pi^{2}}\\\\\\frac{160.0 \\pi \\frac{d}{d t} 0.5}{\\sqrt{0.16 + 4 \\pi^{2}}}\\\\\\frac{d}{d t} \\frac{8.0}{\\sqrt{0.16 + 4 \\pi^{2}}}\\end{matrix}\\right]$$"
     },
     "metadata": {},
     "output_type": "display_data",
     "jetTransient": {
      "display_id": null
     }
    }
   ],
   "execution_count": 9
  }
 ],
 "metadata": {
  "kernelspec": {
   "display_name": "Python 3 (ipykernel)",
   "language": "python",
   "name": "python3"
  },
  "language_info": {
   "codemirror_mode": {
    "name": "ipython",
    "version": 3
   },
   "file_extension": ".py",
   "mimetype": "text/x-python",
   "name": "python",
   "nbconvert_exporter": "python",
   "pygments_lexer": "ipython3",
   "version": "3.13.7"
  }
 },
 "nbformat": 4,
 "nbformat_minor": 5
}
