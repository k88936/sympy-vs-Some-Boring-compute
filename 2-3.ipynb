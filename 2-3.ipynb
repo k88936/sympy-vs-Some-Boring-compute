{
 "cells": [
  {
   "cell_type": "markdown",
   "id": "8a77807f92f26ee",
   "metadata": {},
   "source": [
    "# utils & framework"
   ]
  },
  {
   "cell_type": "code",
   "id": "fbc121e30a2defb3",
   "metadata": {
    "ExecuteTime": {
     "end_time": "2025-10-09T02:51:14.966529Z",
     "start_time": "2025-10-09T02:51:14.959254Z"
    }
   },
   "source": [
    "from collections.abc import Iterable\n",
    "\n",
    "from IPython.core.display import Markdown\n",
    "from sympy import *\n",
    "\n",
    "tag_id = 0\n",
    "var_id = 0\n",
    "\n",
    "conditions = []\n",
    "values = {}\n",
    "\n",
    "\n",
    "def save_as_condition(condition):\n",
    "    global tag_id, conditions\n",
    "    cached_condition_id = cond_id\n",
    "    conditions.append(condition)\n",
    "    cond_id += 1\n",
    "    return cached_condition_id\n",
    "\n",
    "\n",
    "def substitute_values(expression):\n",
    "    while True:\n",
    "        left = False\n",
    "        for (key, value) in values.items():\n",
    "            before = str(expression)\n",
    "            expression = expression.subs(key, value)\n",
    "            expression = simplify(expression)\n",
    "            if str(expression) != before:\n",
    "                left = True\n",
    "\n",
    "        if not left:\n",
    "            break\n",
    "\n",
    "    return expression\n",
    "\n",
    "\n",
    "def save_as_variable(symbol, value):\n",
    "    global values\n",
    "    if symbol in values.keys():\n",
    "        raise ValueError(f\"variable {symbol} already exists\")\n",
    "    values[symbol] = substitute_values(value)\n",
    "\n",
    "\n",
    "def get_conditions(ids) -> tuple:\n",
    "    return tuple(map(lambda i: conditions[i], ids))\n",
    "\n",
    "\n",
    "def beautiful_print(expression, message=\"\", tag=None):\n",
    "    # escape the message for LaTeX and append the expression\n",
    "    inline = not message.endswith('$')\n",
    "    tag_str = f'\\\\tag{{{tag}}}' if tag is not None else \"\"\n",
    "    if inline:\n",
    "        full_latex = message + '$' + latex(expression) + '$'\n",
    "    else:\n",
    "        full_latex = message + '$' + latex(expression) + tag_str + '$$'\n",
    "    display(Markdown(full_latex))\n",
    "\n",
    "\n",
    "def beautiful_peek(symbol, message=\"$\",tag=None):\n",
    "    value = substitute_values(symbol)\n",
    "    beautiful_print(Eq(symbol, value, evaluate=False), message,tag)\n",
    "\n",
    "\n",
    "def beautiful_solve(cond, variables):\n",
    "    cond = [cond] if not isinstance(cond, Iterable) else cond\n",
    "    variables = [variables] if not isinstance(variables, Iterable) else variables\n",
    "    solution = solve(get_conditions(cond), tuple(variables), dict=True)[0]\n",
    "    conclusions = []\n",
    "    display(Markdown(f\"${','.join(f\"\\\\left ( {i} \\\\right ) \" for i in cond)} \\\\Longrightarrow$\"))\n",
    "    for (variable, conclusion) in solution.items():\n",
    "        beautiful_print(Eq(variable, conclusion), \"$\")\n",
    "        save_as_variable(variable, conclusion)\n",
    "        conclusions.append(conclusion)\n",
    "\n",
    "\n",
    "def beautiful_condition(expression, message=\"$\"):\n",
    "    beautiful_print(expression(False) if callable(expression) else expression, message, tag_id)\n",
    "    return save_as_condition(expression(True) if callable(expression) else expression)\n",
    "\n",
    "\n",
    "def beautiful_compute(symbol, expression=None, message=\"$\", tag: bool = False):\n",
    "    beautiful_print(Eq(symbol, expression(False) if callable(expression) else expression, evaluate=False), message,\n",
    "                    tag_id if tag else None)\n",
    "    save_as_variable(symbol, expression)\n",
    "\n",
    "\n"
   ],
   "outputs": [],
   "execution_count": 5
  },
  {
   "cell_type": "markdown",
   "id": "7c055ce8b6caccf7",
   "metadata": {},
   "source": "# Define params"
  },
  {
   "metadata": {
    "ExecuteTime": {
     "end_time": "2025-10-09T02:51:15.071160Z",
     "start_time": "2025-10-09T02:51:15.067149Z"
    }
   },
   "cell_type": "code",
   "source": [
    "r = symbols('r')\n",
    "t = symbols('t')\n",
    "R = symbols('R')\n",
    "epsilon = symbols('epsilon_0')\n",
    "varphi = Function('varphi')(t)\n",
    "\n",
    "theta = Function('theta')(t)\n",
    "Rot_A = symbols('Rot_A')\n",
    "Pos_A = symbols('Pos_A')\n"
   ],
   "id": "62f55fe69d217702",
   "outputs": [],
   "execution_count": 6
  },
  {
   "metadata": {
    "ExecuteTime": {
     "end_time": "2025-10-09T02:51:15.178786Z",
     "start_time": "2025-10-09T02:51:15.078276Z"
    }
   },
   "cell_type": "code",
   "source": [
    "beautiful_compute(varphi, 0.5 * epsilon * t ** 2, \"by const angular vel and zero init cond:$\")\n",
    "beautiful_compute(Pos_A, Matrix([(R + r) * cos(varphi), (R + r) * sin(varphi), 0]), \"by geometry:$\")\n",
    "beautiful_compute(Rot_A,\n",
    "                  Matrix([[cos(theta), -sin(theta), 0],\n",
    "                [sin(theta), cos(theta), 0],\n",
    "                [0, 0, 1]])\n",
    "                  , \"by geometry:$\")\n"
   ],
   "id": "44f52219638b57b2",
   "outputs": [
    {
     "data": {
      "text/plain": [
       "<IPython.core.display.Markdown object>"
      ],
      "text/markdown": "by const angular vel and zero init cond:$$\\varphi{\\left(t \\right)} = 0.5 \\epsilon_{0} t^{2}$$"
     },
     "metadata": {},
     "output_type": "display_data",
     "jetTransient": {
      "display_id": null
     }
    },
    {
     "data": {
      "text/plain": [
       "<IPython.core.display.Markdown object>"
      ],
      "text/markdown": "by geometry:$$Pos_{A} = \\left[\\begin{matrix}\\left(R + r\\right) \\cos{\\left(\\varphi{\\left(t \\right)} \\right)}\\\\\\left(R + r\\right) \\sin{\\left(\\varphi{\\left(t \\right)} \\right)}\\\\0\\end{matrix}\\right]$$"
     },
     "metadata": {},
     "output_type": "display_data",
     "jetTransient": {
      "display_id": null
     }
    },
    {
     "data": {
      "text/plain": [
       "<IPython.core.display.Markdown object>"
      ],
      "text/markdown": "by geometry:$$Rot_{A} = \\left[\\begin{matrix}\\cos{\\left(\\theta{\\left(t \\right)} \\right)} & - \\sin{\\left(\\theta{\\left(t \\right)} \\right)} & 0\\\\\\sin{\\left(\\theta{\\left(t \\right)} \\right)} & \\cos{\\left(\\theta{\\left(t \\right)} \\right)} & 0\\\\0 & 0 & 1\\end{matrix}\\right]$$"
     },
     "metadata": {},
     "output_type": "display_data",
     "jetTransient": {
      "display_id": null
     }
    }
   ],
   "execution_count": 7
  },
  {
   "metadata": {
    "ExecuteTime": {
     "end_time": "2025-10-09T02:51:15.368648Z",
     "start_time": "2025-10-09T02:51:15.271394Z"
    }
   },
   "cell_type": "code",
   "source": [
    "V_touch = symbols('V_touch')\n",
    "cond_touch = beautiful_condition(Eq(V_touch, (R + r) * diff(varphi, t) - r * diff(theta, t)), \"by geometry:$\")\n",
    "cond_rot = beautiful_condition(lambda e: Eq(V_touch, 0), \"by pure roll on the large gear:$\")\n",
    "theta_d1 = diff(theta, t, 1)\n",
    "beautiful_solve([cond_touch, cond_rot], [V_touch, theta_d1])\n"
   ],
   "id": "4b1673b1056fbf95",
   "outputs": [
    {
     "data": {
      "text/plain": [
       "<IPython.core.display.Markdown object>"
      ],
      "text/markdown": "by geometry:$$V_{touch} = - r \\frac{d}{d t} \\theta{\\left(t \\right)} + \\left(R + r\\right) \\frac{d}{d t} \\varphi{\\left(t \\right)}\\tag{0}$$"
     },
     "metadata": {},
     "output_type": "display_data",
     "jetTransient": {
      "display_id": null
     }
    },
    {
     "ename": "UnboundLocalError",
     "evalue": "cannot access local variable 'cond_id' where it is not associated with a value",
     "output_type": "error",
     "traceback": [
      "\u001B[31m---------------------------------------------------------------------------\u001B[39m",
      "\u001B[31mUnboundLocalError\u001B[39m                         Traceback (most recent call last)",
      "\u001B[36mCell\u001B[39m\u001B[36m \u001B[39m\u001B[32mIn[8]\u001B[39m\u001B[32m, line 2\u001B[39m\n\u001B[32m      1\u001B[39m V_touch = symbols(\u001B[33m'\u001B[39m\u001B[33mV_touch\u001B[39m\u001B[33m'\u001B[39m)\n\u001B[32m----> \u001B[39m\u001B[32m2\u001B[39m cond_touch = \u001B[43mbeautiful_condition\u001B[49m\u001B[43m(\u001B[49m\u001B[43mEq\u001B[49m\u001B[43m(\u001B[49m\u001B[43mV_touch\u001B[49m\u001B[43m,\u001B[49m\u001B[43m \u001B[49m\u001B[43m(\u001B[49m\u001B[43mR\u001B[49m\u001B[43m \u001B[49m\u001B[43m+\u001B[49m\u001B[43m \u001B[49m\u001B[43mr\u001B[49m\u001B[43m)\u001B[49m\u001B[43m \u001B[49m\u001B[43m*\u001B[49m\u001B[43m \u001B[49m\u001B[43mdiff\u001B[49m\u001B[43m(\u001B[49m\u001B[43mvarphi\u001B[49m\u001B[43m,\u001B[49m\u001B[43m \u001B[49m\u001B[43mt\u001B[49m\u001B[43m)\u001B[49m\u001B[43m \u001B[49m\u001B[43m-\u001B[49m\u001B[43m \u001B[49m\u001B[43mr\u001B[49m\u001B[43m \u001B[49m\u001B[43m*\u001B[49m\u001B[43m \u001B[49m\u001B[43mdiff\u001B[49m\u001B[43m(\u001B[49m\u001B[43mtheta\u001B[49m\u001B[43m,\u001B[49m\u001B[43m \u001B[49m\u001B[43mt\u001B[49m\u001B[43m)\u001B[49m\u001B[43m)\u001B[49m\u001B[43m,\u001B[49m\u001B[43m \u001B[49m\u001B[33;43m\"\u001B[39;49m\u001B[33;43mby geometry:$\u001B[39;49m\u001B[33;43m\"\u001B[39;49m\u001B[43m)\u001B[49m\n\u001B[32m      3\u001B[39m cond_rot = beautiful_condition(\u001B[38;5;28;01mlambda\u001B[39;00m e: Eq(V_touch, \u001B[32m0\u001B[39m), \u001B[33m\"\u001B[39m\u001B[33mby pure roll on the large gear:$\u001B[39m\u001B[33m\"\u001B[39m)\n\u001B[32m      4\u001B[39m theta_d1 = diff(theta, t, \u001B[32m1\u001B[39m)\n",
      "\u001B[36mCell\u001B[39m\u001B[36m \u001B[39m\u001B[32mIn[5]\u001B[39m\u001B[32m, line 78\u001B[39m, in \u001B[36mbeautiful_condition\u001B[39m\u001B[34m(expression, message)\u001B[39m\n\u001B[32m     76\u001B[39m \u001B[38;5;28;01mdef\u001B[39;00m\u001B[38;5;250m \u001B[39m\u001B[34mbeautiful_condition\u001B[39m(expression, message=\u001B[33m\"\u001B[39m\u001B[33m$\u001B[39m\u001B[33m\"\u001B[39m):\n\u001B[32m     77\u001B[39m     beautiful_print(expression(\u001B[38;5;28;01mFalse\u001B[39;00m) \u001B[38;5;28;01mif\u001B[39;00m \u001B[38;5;28mcallable\u001B[39m(expression) \u001B[38;5;28;01melse\u001B[39;00m expression, message, tag_id)\n\u001B[32m---> \u001B[39m\u001B[32m78\u001B[39m     \u001B[38;5;28;01mreturn\u001B[39;00m \u001B[43msave_as_condition\u001B[49m\u001B[43m(\u001B[49m\u001B[43mexpression\u001B[49m\u001B[43m(\u001B[49m\u001B[38;5;28;43;01mTrue\u001B[39;49;00m\u001B[43m)\u001B[49m\u001B[43m \u001B[49m\u001B[38;5;28;43;01mif\u001B[39;49;00m\u001B[43m \u001B[49m\u001B[38;5;28;43mcallable\u001B[39;49m\u001B[43m(\u001B[49m\u001B[43mexpression\u001B[49m\u001B[43m)\u001B[49m\u001B[43m \u001B[49m\u001B[38;5;28;43;01melse\u001B[39;49;00m\u001B[43m \u001B[49m\u001B[43mexpression\u001B[49m\u001B[43m)\u001B[49m\n",
      "\u001B[36mCell\u001B[39m\u001B[36m \u001B[39m\u001B[32mIn[5]\u001B[39m\u001B[32m, line 15\u001B[39m, in \u001B[36msave_as_condition\u001B[39m\u001B[34m(condition)\u001B[39m\n\u001B[32m     13\u001B[39m \u001B[38;5;28;01mdef\u001B[39;00m\u001B[38;5;250m \u001B[39m\u001B[34msave_as_condition\u001B[39m(condition):\n\u001B[32m     14\u001B[39m     \u001B[38;5;28;01mglobal\u001B[39;00m tag_id, conditions\n\u001B[32m---> \u001B[39m\u001B[32m15\u001B[39m     cached_condition_id = \u001B[43mcond_id\u001B[49m\n\u001B[32m     16\u001B[39m     conditions.append(condition)\n\u001B[32m     17\u001B[39m     cond_id += \u001B[32m1\u001B[39m\n",
      "\u001B[31mUnboundLocalError\u001B[39m: cannot access local variable 'cond_id' where it is not associated with a value"
     ]
    }
   ],
   "execution_count": 8
  },
  {
   "metadata": {
    "ExecuteTime": {
     "end_time": "2025-10-09T02:51:15.467627200Z",
     "start_time": "2025-09-24T07:16:59.005337Z"
    }
   },
   "cell_type": "code",
   "source": [
    "solve1 = dsolve(Eq(theta_d1, substitute_values(theta_d1)), theta,\n",
    "                # ics={theta.subs(t, 0): 0}\n",
    "                )\n",
    "beautiful_compute(theta, solve1.rhs, \"solved:$\")\n",
    "\n"
   ],
   "id": "3cf051cc816c2131",
   "outputs": [
    {
     "data": {
      "text/plain": [
       "<IPython.core.display.Markdown object>"
      ],
      "text/markdown": "solved:$$\\theta{\\left(t \\right)} = C_{1} + \\frac{R \\epsilon_{0} t^{2}}{2 r} + \\frac{\\epsilon_{0} t^{2}}{2}$$"
     },
     "metadata": {},
     "output_type": "display_data",
     "jetTransient": {
      "display_id": null
     }
    }
   ],
   "execution_count": 11
  },
  {
   "metadata": {
    "ExecuteTime": {
     "end_time": "2025-10-09T02:51:15.467627200Z",
     "start_time": "2025-09-24T07:16:59.239161Z"
    }
   },
   "cell_type": "code",
   "source": [
    "beautiful_peek(Rot_A, \"by geometry:$\",tag=\"answer\")\n",
    "beautiful_peek(Pos_A, \"by geometry:$\",tag=\"answer\")"
   ],
   "id": "fdd3e231c6afda44",
   "outputs": [
    {
     "data": {
      "text/plain": [
       "<IPython.core.display.Markdown object>"
      ],
      "text/markdown": "by geometry:$$Rot_{A} = \\left[\\begin{matrix}\\cos{\\left(C_{1} + \\frac{R \\epsilon_{0} t^{2}}{2 r} + \\frac{\\epsilon_{0} t^{2}}{2} \\right)} & - \\sin{\\left(C_{1} + \\frac{R \\epsilon_{0} t^{2}}{2 r} + \\frac{\\epsilon_{0} t^{2}}{2} \\right)} & 0\\\\\\sin{\\left(C_{1} + \\frac{R \\epsilon_{0} t^{2}}{2 r} + \\frac{\\epsilon_{0} t^{2}}{2} \\right)} & \\cos{\\left(C_{1} + \\frac{R \\epsilon_{0} t^{2}}{2 r} + \\frac{\\epsilon_{0} t^{2}}{2} \\right)} & 0\\\\0 & 0 & 1\\end{matrix}\\right]\\tag{answer}$$"
     },
     "metadata": {},
     "output_type": "display_data",
     "jetTransient": {
      "display_id": null
     }
    },
    {
     "data": {
      "text/plain": [
       "<IPython.core.display.Markdown object>"
      ],
      "text/markdown": "by geometry:$$Pos_{A} = \\left[\\begin{matrix}\\left(R + r\\right) \\cos{\\left(0.5 \\epsilon_{0} t^{2} \\right)}\\\\\\left(R + r\\right) \\sin{\\left(0.5 \\epsilon_{0} t^{2} \\right)}\\\\0\\end{matrix}\\right]\\tag{answer}$$"
     },
     "metadata": {},
     "output_type": "display_data",
     "jetTransient": {
      "display_id": null
     }
    }
   ],
   "execution_count": 12
  }
 ],
 "metadata": {
  "kernelspec": {
   "display_name": "Python 3 (ipykernel)",
   "language": "python",
   "name": "python3"
  },
  "language_info": {
   "codemirror_mode": {
    "name": "ipython",
    "version": 3
   },
   "file_extension": ".py",
   "mimetype": "text/x-python",
   "name": "python",
   "nbconvert_exporter": "python",
   "pygments_lexer": "ipython3",
   "version": "3.13.7"
  }
 },
 "nbformat": 4,
 "nbformat_minor": 5
}
