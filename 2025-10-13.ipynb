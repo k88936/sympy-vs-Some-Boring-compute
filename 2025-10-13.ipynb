{
 "cells": [
  {
   "cell_type": "markdown",
   "id": "8a77807f92f26ee",
   "metadata": {},
   "source": [
    "# utils & framework"
   ]
  },
  {
   "cell_type": "code",
   "id": "fbc121e30a2defb3",
   "metadata": {
    "ExecuteTime": {
     "end_time": "2025-09-30T13:36:01.547420Z",
     "start_time": "2025-09-30T13:35:54.377191Z"
    }
   },
   "source": [
    "from typing import List\n",
    "from collections.abc import Iterable\n",
    "from IPython.core.display import Markdown\n",
    "from scipy.spatial.transform import Rotation\n",
    "from sympy import *\n",
    "from sympy.polys.matrices.dense import ddm_ilu_solve\n",
    "from sympy.vector import *\n",
    "from win32cryptcon import CRYPT_MODE_OFB\n",
    "\n",
    "tag_id = 0\n",
    "conditions = {}\n",
    "values = {}\n",
    "formulas_names = {}\n",
    "restore_stack = []\n",
    "\n",
    "\n",
    "def reset():\n",
    "    global tag_id, conditions, values, formulas_names\n",
    "    if restore_stack:\n",
    "        state = restore_stack[-1]\n",
    "        tag_id = state['tag_id']\n",
    "        conditions = state['conditions'].copy()\n",
    "        values = state['values'].copy()\n",
    "        formulas_names = state['formulas_names'].copy()\n",
    "\n",
    "\n",
    "def push_state():\n",
    "    global restore_stack\n",
    "    restore_stack.append({\n",
    "        'tag_id': tag_id,\n",
    "        'conditions': conditions.copy(),\n",
    "        'values': values.copy(),\n",
    "        'formulas_names': formulas_names.copy()\n",
    "    })\n",
    "\n",
    "\n",
    "def pop_state():\n",
    "    global restore_stack\n",
    "    return restore_stack.pop()\n",
    "\n",
    "\n",
    "def save_as_condition(condition):\n",
    "    global tag_id, conditions\n",
    "    cached_condition_id = tag_id\n",
    "    conditions[tag_id] = condition\n",
    "    tag_id += 1\n",
    "    return cached_condition_id\n",
    "\n",
    "\n",
    "def substitute_values(expression, mask=None):\n",
    "    while True:\n",
    "        left = False\n",
    "        items = values.items() if mask is None else filter(lambda item: item[0] in mask, values.items())\n",
    "        for (key, value) in items:\n",
    "            before = str(expression)\n",
    "            expression = expression.subs(key, value)\n",
    "            expression = simplify(expression)\n",
    "            if str(expression) != before:\n",
    "                left = True\n",
    "        if not left:\n",
    "            break\n",
    "\n",
    "    return expression\n",
    "\n",
    "\n",
    "def save_as_variable(symbol, value):\n",
    "    global values\n",
    "    if symbol in values.keys():\n",
    "        raise ValueError(f\"variable {symbol} already exists\")\n",
    "    values[symbol] = substitute_values(S(value))\n",
    "\n",
    "\n",
    "def save_as_formula_name(symbol, formula):\n",
    "    global tag_id, formulas_names\n",
    "    tag_id += 1\n",
    "    if symbol in formulas_names.keys():\n",
    "        raise ValueError(f\"formula {symbol} already exists\")\n",
    "    formulas_names[symbol] = formula\n",
    "\n",
    "\n",
    "def beautiful_print(expression, message=\"\", tag=None):\n",
    "    expression = expression if isinstance(expression, str) else latex(expression)\n",
    "    inline = not message.endswith('$')\n",
    "    tag_str = f'\\\\tag{{{tag}}}' if tag is not None else \"\"\n",
    "    if inline:\n",
    "        full_latex = message + '$' + expression + '$'\n",
    "    else:\n",
    "        full_latex = message + '$' + expression + tag_str + '$$'\n",
    "    display(Markdown(full_latex))\n",
    "\n",
    "\n",
    "def beautiful_answer(expression, message=\"$\", f: bool = False):\n",
    "    expression = spf(expression)\n",
    "    expression = expression.evalf() if f else expression\n",
    "    beautiful_print(expression, message, tag=\"answer\")\n",
    "\n",
    "\n",
    "def beautiful_peek(symbol, message=\"$\", tag=None):\n",
    "    value = substitute_values(symbol)\n",
    "    beautiful_print(Eq(symbol, value, evaluate=False), message, tag)\n",
    "\n",
    "\n",
    "def beautiful_solve(cond, variables, apply: dict = None):\n",
    "    cond = [cond] if not isinstance(cond, Iterable) else cond\n",
    "    display(Markdown(f\"${','.join(f\"\\\\left ( {i} \\\\right ) \" for i in cond)} \\\\Longrightarrow$\"))\n",
    "\n",
    "    variables = [variables] if not isinstance(variables, Iterable) else variables\n",
    "\n",
    "    apply = apply if apply is not None else {}\n",
    "\n",
    "    cond = tuple(map(lambda i: conditions[i].subs(apply), cond))\n",
    "    solution = solve(cond, tuple(variables), dict=True)[0]\n",
    "    conclusions = []\n",
    "    for (variable, conclusion) in solution.items():\n",
    "        beautiful_print(Eq(variable, conclusion), \"$\")\n",
    "        save_as_variable(variable, conclusion)\n",
    "        conclusions.append(conclusion)\n",
    "\n",
    "\n",
    "def beautiful_condition(expression, message=\"$\"):\n",
    "    beautiful_print(expression(False) if callable(expression) else expression, message, tag_id)\n",
    "    return save_as_condition(expression(True) if callable(expression) else expression)\n",
    "\n",
    "\n",
    "def beautiful_compute(symbol, expression=None, message=\"$\", tag=None):\n",
    "    symbol = symbols(symbol) if isinstance(symbol, str) else symbol\n",
    "    global tag_id\n",
    "    beautiful_print(Eq(symbol, expression(False) if callable(expression) else expression, evaluate=False), message,\n",
    "                    tag_id if tag else None)\n",
    "    if tag:\n",
    "        tag_id += 1\n",
    "    save_as_variable(symbol, expression(True) if callable(expression) else expression)\n",
    "    return symbol\n",
    "\n",
    "\n",
    "def beautiful_formula(symbol: str, expression, message=\"$\", ):\n",
    "    beautiful_print(f\"{symbol}=\" + latex(expression), message, tag_id)\n",
    "    save_as_formula_name(expression, symbol)\n",
    "    return expression\n",
    "\n",
    "\n",
    "def beautiful_at(formula, subs: dict, message=\"$\", tag: bool = None):\n",
    "    result = simplify(formula.subs(subs))\n",
    "    param = '\\\\,'.join(f\"{latex(item[0])}={latex(item[1])}\" for item in subs.items())\n",
    "    beautiful_print(formulas_names[formula] + f\"\\\\bigg|_{{{param}}}=\" + latex(result), message, tag)\n",
    "    return result\n",
    "\n",
    "\n",
    "def spf(expression):\n",
    "    expression = substitute_values(expression)\n",
    "    expression = simplify(expression)\n",
    "    return expression\n",
    "\n",
    "\n",
    "class D:\n",
    "    def __init__(self, symbol: Symbol, name: str = None):\n",
    "        symbol = 'd' + latex(symbol) if name is None else name\n",
    "        self.symbol = Symbol(symbol)\n",
    "\n",
    "    def __enter__(self):\n",
    "        return self.symbol\n",
    "\n",
    "    def __exit__(self, type, value, traceback):\n",
    "        save_as_variable(self.symbol, 1)\n",
    "\n",
    "\n",
    "def map_vector(vec, func):\n",
    "    return sum(\n",
    "        # 0 is i/j/k sharp, 1 is expr\n",
    "        map(lambda item: func(item[1]) * item[0], vec.components.items()),\n",
    "        Vector.zero\n",
    "    )\n",
    "\n",
    "\n",
    "def series_vector(vec, param, x0=0, n=2):\n",
    "    return map_vector(vec, lambda e: series(e, param, x0, n).removeO())\n",
    "\n",
    "\n",
    "def integrate_vector(vec, param):\n",
    "    return map_vector(vec, lambda e: integrate(e, param))\n",
    "\n",
    "\n",
    "def beautiful_vector(xi=0, yj=0, zk=0):\n",
    "    xi = Symbol(xi) if isinstance(xi, str) else xi\n",
    "    yj = Symbol(yj) if isinstance(yj, str) else yj\n",
    "    zk = Symbol(zk) if isinstance(zk, str) else zk\n",
    "    return xi * coord.i + yj * coord.j + zk * coord.k\n",
    "\n",
    "\n",
    "coord = CoordSys3D('')\n"
   ],
   "outputs": [],
   "execution_count": 213
  },
  {
   "cell_type": "markdown",
   "id": "55036118566e2ec8",
   "metadata": {},
   "source": [
    "## Common"
   ]
  },
  {
   "cell_type": "code",
   "id": "3c1bcc504bcddd3f",
   "metadata": {
    "ExecuteTime": {
     "end_time": "2025-09-30T13:36:01.602270Z",
     "start_time": "2025-09-30T13:36:01.553839Z"
    }
   },
   "source": [
    "epsilon = symbols('epsilon_0')\n",
    "k = 1 / (4 * pi * epsilon)\n",
    "q = symbols('q')\n",
    "x = coord.x\n",
    "y = coord.y\n",
    "z = coord.z\n",
    "pos = x * coord.i + y * coord.j + z * coord.k\n",
    "E = beautiful_formula('E', k * q * pos / pos.magnitude() ** 3, \"by Coulomb's law:$\")\n",
    "electric_flux = Symbol('phi_e')\n",
    "enclosed_charge_sum = Symbol('Q_{sum}')\n",
    "Gauss_law = beautiful_condition(Eq(electric_flux, enclosed_charge_sum / epsilon), \"by Gauss's law:$\")\n",
    "P = beautiful_formula('\\\\varphi', k * q / pos.magnitude(), 'electric potential:$')\n",
    "push_state()"
   ],
   "outputs": [
    {
     "data": {
      "text/plain": [
       "<IPython.core.display.Markdown object>"
      ],
      "text/markdown": "by Coulomb's law:$$E=\\left(\\frac{\\mathbf{{x}_{}} q}{4 \\pi \\epsilon_{0} \\left(\\mathbf{{x}_{}}^{2} + \\mathbf{{y}_{}}^{2} + \\mathbf{{z}_{}}^{2}\\right)^{\\frac{3}{2}}}\\right)\\mathbf{\\hat{i}_{}} + \\left(\\frac{\\mathbf{{y}_{}} q}{4 \\pi \\epsilon_{0} \\left(\\mathbf{{x}_{}}^{2} + \\mathbf{{y}_{}}^{2} + \\mathbf{{z}_{}}^{2}\\right)^{\\frac{3}{2}}}\\right)\\mathbf{\\hat{j}_{}} + \\left(\\frac{\\mathbf{{z}_{}} q}{4 \\pi \\epsilon_{0} \\left(\\mathbf{{x}_{}}^{2} + \\mathbf{{y}_{}}^{2} + \\mathbf{{z}_{}}^{2}\\right)^{\\frac{3}{2}}}\\right)\\mathbf{\\hat{k}_{}}\\tag{0}$$"
     },
     "metadata": {},
     "output_type": "display_data",
     "jetTransient": {
      "display_id": null
     }
    },
    {
     "data": {
      "text/plain": [
       "<IPython.core.display.Markdown object>"
      ],
      "text/markdown": "by Gauss's law:$$\\phi_{e} = \\frac{Q_{sum}}{\\epsilon_{0}}\\tag{1}$$"
     },
     "metadata": {},
     "output_type": "display_data",
     "jetTransient": {
      "display_id": null
     }
    },
    {
     "data": {
      "text/plain": [
       "<IPython.core.display.Markdown object>"
      ],
      "text/markdown": "electric potential:$$\\varphi=\\frac{q}{4 \\pi \\epsilon_{0} \\sqrt{\\mathbf{{x}_{}}^{2} + \\mathbf{{y}_{}}^{2} + \\mathbf{{z}_{}}^{2}}}\\tag{2}$$"
     },
     "metadata": {},
     "output_type": "display_data",
     "jetTransient": {
      "display_id": null
     }
    }
   ],
   "execution_count": 214
  },
  {
   "metadata": {},
   "cell_type": "markdown",
   "source": "# 2-5",
   "id": "32c8d73cf45cba4a"
  },
  {
   "metadata": {
    "ExecuteTime": {
     "end_time": "2025-09-30T13:36:02.453955Z",
     "start_time": "2025-09-30T13:36:01.639191Z"
    }
   },
   "cell_type": "code",
   "source": [
    "def t25():\n",
    "    reset()\n",
    "\n",
    "    t = Symbol('t')\n",
    "    x = Function('x')(t)\n",
    "    V_O = Symbol('V_o')\n",
    "\n",
    "    av = Symbol('omega')\n",
    "\n",
    "    r = beautiful_compute('r', 0.1)\n",
    "    R = beautiful_compute('R', 2 * r)\n",
    "    beautiful_compute(x, t ** 2)\n",
    "\n",
    "    V_D = Symbol('V_D')\n",
    "    cd0 = beautiful_condition(Eq(V_D, V_O + av * R), \"by geometry:$\")\n",
    "    cd1 = beautiful_condition(Eq(V_D, diff(x).subs(t, 1)), \"by D on line:$\")\n",
    "    cd3 = beautiful_condition(Eq(0, V_O + av * r), \"by $V_C=0$:$\")\n",
    "    beautiful_solve([cd0, cd1, cd3], [V_D, av, V_O])\n",
    "    beautiful_answer(av, \"angular velocity:$\")\n",
    "\n",
    "    Vector_av = beautiful_vector(zk=av)\n",
    "    beautiful_print(Vector_av, \"Vecto of angular vec is:$\")\n",
    "    Vector_VO = beautiful_vector(xi=V_O)\n",
    "    beautiful_print(Vector_VO, \"Vector of $V_O$ is:$\")\n",
    "\n",
    "    A_offset = beautiful_vector(yj=R)\n",
    "    beautiful_print(A_offset, '$A_{offset}$:$')\n",
    "    V_A = beautiful_compute('V_{A}', Vector_VO + cross(Vector_av, A_offset))\n",
    "    beautiful_peek(V_A)\n",
    "\n",
    "    B_offset = beautiful_vector(yj=r)\n",
    "    beautiful_print(B_offset, '$B_{offset}$:$')\n",
    "    V_B = beautiful_compute('V_{B}', Vector_VO + cross(Vector_av, B_offset))\n",
    "    beautiful_peek(V_B)\n",
    "\n",
    "    C_offset = beautiful_vector(yj=-r)\n",
    "    beautiful_print(C_offset, '$C_{offset}$:$')\n",
    "    V_C = beautiful_compute('V_{C}', Vector_VO + cross(Vector_av, C_offset))\n",
    "    beautiful_peek(V_C)\n",
    "\n",
    "    D_offset = beautiful_vector(yj=-R)\n",
    "    beautiful_print(D_offset, '$D_{offset}$:$')\n",
    "    V_D = beautiful_compute('V_{D}', Vector_VO + cross(Vector_av, D_offset))\n",
    "    beautiful_peek(V_D)\n",
    "\n",
    "    E_offset = beautiful_vector(xi=R)\n",
    "    beautiful_print(E_offset, '$E_{offset}$:$')\n",
    "    V_E = beautiful_compute('V_{E}', Vector_VO + cross(Vector_av, E_offset))\n",
    "    beautiful_peek(V_E)\n",
    "\n",
    "\n",
    "t25()\n"
   ],
   "id": "ae277fdbcabfbe51",
   "outputs": [
    {
     "data": {
      "text/plain": [
       "<IPython.core.display.Markdown object>"
      ],
      "text/markdown": "$$r = 0.1$$"
     },
     "metadata": {},
     "output_type": "display_data",
     "jetTransient": {
      "display_id": null
     }
    },
    {
     "data": {
      "text/plain": [
       "<IPython.core.display.Markdown object>"
      ],
      "text/markdown": "$$R = 2 r$$"
     },
     "metadata": {},
     "output_type": "display_data",
     "jetTransient": {
      "display_id": null
     }
    },
    {
     "data": {
      "text/plain": [
       "<IPython.core.display.Markdown object>"
      ],
      "text/markdown": "$$x{\\left(t \\right)} = t^{2}$$"
     },
     "metadata": {},
     "output_type": "display_data",
     "jetTransient": {
      "display_id": null
     }
    },
    {
     "data": {
      "text/plain": [
       "<IPython.core.display.Markdown object>"
      ],
      "text/markdown": "by geometry:$$V_{D} = R \\omega + V_{o}\\tag{3}$$"
     },
     "metadata": {},
     "output_type": "display_data",
     "jetTransient": {
      "display_id": null
     }
    },
    {
     "data": {
      "text/plain": [
       "<IPython.core.display.Markdown object>"
      ],
      "text/markdown": "by D on line:$$V_{D} = \\left. \\frac{d}{d t} x{\\left(t \\right)} \\right|_{\\substack{ t=1 }}\\tag{4}$$"
     },
     "metadata": {},
     "output_type": "display_data",
     "jetTransient": {
      "display_id": null
     }
    },
    {
     "data": {
      "text/plain": [
       "<IPython.core.display.Markdown object>"
      ],
      "text/markdown": "by $V_C=0$:$$0 = V_{o} + \\omega r\\tag{5}$$"
     },
     "metadata": {},
     "output_type": "display_data",
     "jetTransient": {
      "display_id": null
     }
    },
    {
     "data": {
      "text/plain": [
       "<IPython.core.display.Markdown object>"
      ],
      "text/markdown": "$\\left ( 3 \\right ) ,\\left ( 4 \\right ) ,\\left ( 5 \\right )  \\Longrightarrow$"
     },
     "metadata": {},
     "output_type": "display_data",
     "jetTransient": {
      "display_id": null
     }
    },
    {
     "data": {
      "text/plain": [
       "<IPython.core.display.Markdown object>"
      ],
      "text/markdown": "$$V_{D} = \\left. \\frac{d}{d t} x{\\left(t \\right)} \\right|_{\\substack{ t=1 }}$$"
     },
     "metadata": {},
     "output_type": "display_data",
     "jetTransient": {
      "display_id": null
     }
    },
    {
     "data": {
      "text/plain": [
       "<IPython.core.display.Markdown object>"
      ],
      "text/markdown": "$$V_{o} = \\frac{r \\left. \\frac{d}{d t} x{\\left(t \\right)} \\right|_{\\substack{ t=1 }}}{- R + r}$$"
     },
     "metadata": {},
     "output_type": "display_data",
     "jetTransient": {
      "display_id": null
     }
    },
    {
     "data": {
      "text/plain": [
       "<IPython.core.display.Markdown object>"
      ],
      "text/markdown": "$$\\omega = - \\frac{\\left. \\frac{d}{d t} x{\\left(t \\right)} \\right|_{\\substack{ t=1 }}}{- R + r}$$"
     },
     "metadata": {},
     "output_type": "display_data",
     "jetTransient": {
      "display_id": null
     }
    },
    {
     "data": {
      "text/plain": [
       "<IPython.core.display.Markdown object>"
      ],
      "text/markdown": "angular velocity:$$20.0\\tag{answer}$$"
     },
     "metadata": {},
     "output_type": "display_data",
     "jetTransient": {
      "display_id": null
     }
    },
    {
     "data": {
      "text/plain": [
       "<IPython.core.display.Markdown object>"
      ],
      "text/markdown": "Vecto of angular vec is:$$\\left(\\omega\\right)\\mathbf{\\hat{k}_{}}$$"
     },
     "metadata": {},
     "output_type": "display_data",
     "jetTransient": {
      "display_id": null
     }
    },
    {
     "data": {
      "text/plain": [
       "<IPython.core.display.Markdown object>"
      ],
      "text/markdown": "Vector of $V_O$ is:$$\\left(V_{o}\\right)\\mathbf{\\hat{i}_{}}$$"
     },
     "metadata": {},
     "output_type": "display_data",
     "jetTransient": {
      "display_id": null
     }
    },
    {
     "data": {
      "text/plain": [
       "<IPython.core.display.Markdown object>"
      ],
      "text/markdown": "$A_{offset}$:$$\\left(R\\right)\\mathbf{\\hat{j}_{}}$$"
     },
     "metadata": {},
     "output_type": "display_data",
     "jetTransient": {
      "display_id": null
     }
    },
    {
     "data": {
      "text/plain": [
       "<IPython.core.display.Markdown object>"
      ],
      "text/markdown": "$$V_{A} = \\left(- R \\omega + V_{o}\\right)\\mathbf{\\hat{i}_{}}$$"
     },
     "metadata": {},
     "output_type": "display_data",
     "jetTransient": {
      "display_id": null
     }
    },
    {
     "data": {
      "text/plain": [
       "<IPython.core.display.Markdown object>"
      ],
      "text/markdown": "$$V_{A} = \\left(-6.0\\right)\\mathbf{\\hat{i}_{}}$$"
     },
     "metadata": {},
     "output_type": "display_data",
     "jetTransient": {
      "display_id": null
     }
    },
    {
     "data": {
      "text/plain": [
       "<IPython.core.display.Markdown object>"
      ],
      "text/markdown": "$B_{offset}$:$$\\left(r\\right)\\mathbf{\\hat{j}_{}}$$"
     },
     "metadata": {},
     "output_type": "display_data",
     "jetTransient": {
      "display_id": null
     }
    },
    {
     "data": {
      "text/plain": [
       "<IPython.core.display.Markdown object>"
      ],
      "text/markdown": "$$V_{B} = \\left(V_{o} - \\omega r\\right)\\mathbf{\\hat{i}_{}}$$"
     },
     "metadata": {},
     "output_type": "display_data",
     "jetTransient": {
      "display_id": null
     }
    },
    {
     "data": {
      "text/plain": [
       "<IPython.core.display.Markdown object>"
      ],
      "text/markdown": "$$V_{B} = \\left(-4.0\\right)\\mathbf{\\hat{i}_{}}$$"
     },
     "metadata": {},
     "output_type": "display_data",
     "jetTransient": {
      "display_id": null
     }
    },
    {
     "data": {
      "text/plain": [
       "<IPython.core.display.Markdown object>"
      ],
      "text/markdown": "$C_{offset}$:$$\\left(- r\\right)\\mathbf{\\hat{j}_{}}$$"
     },
     "metadata": {},
     "output_type": "display_data",
     "jetTransient": {
      "display_id": null
     }
    },
    {
     "data": {
      "text/plain": [
       "<IPython.core.display.Markdown object>"
      ],
      "text/markdown": "$$V_{C} = \\left(V_{o} + \\omega r\\right)\\mathbf{\\hat{i}_{}}$$"
     },
     "metadata": {},
     "output_type": "display_data",
     "jetTransient": {
      "display_id": null
     }
    },
    {
     "data": {
      "text/plain": [
       "<IPython.core.display.Markdown object>"
      ],
      "text/markdown": "$$V_{C} = \\mathbf{\\hat{0}}$$"
     },
     "metadata": {},
     "output_type": "display_data",
     "jetTransient": {
      "display_id": null
     }
    },
    {
     "data": {
      "text/plain": [
       "<IPython.core.display.Markdown object>"
      ],
      "text/markdown": "$D_{offset}$:$$\\left(- R\\right)\\mathbf{\\hat{j}_{}}$$"
     },
     "metadata": {},
     "output_type": "display_data",
     "jetTransient": {
      "display_id": null
     }
    },
    {
     "data": {
      "text/plain": [
       "<IPython.core.display.Markdown object>"
      ],
      "text/markdown": "$$V_{D} = \\left(R \\omega + V_{o}\\right)\\mathbf{\\hat{i}_{}}$$"
     },
     "metadata": {},
     "output_type": "display_data",
     "jetTransient": {
      "display_id": null
     }
    },
    {
     "data": {
      "text/plain": [
       "<IPython.core.display.Markdown object>"
      ],
      "text/markdown": "$$V_{D} = \\left(2.0\\right)\\mathbf{\\hat{i}_{}}$$"
     },
     "metadata": {},
     "output_type": "display_data",
     "jetTransient": {
      "display_id": null
     }
    },
    {
     "data": {
      "text/plain": [
       "<IPython.core.display.Markdown object>"
      ],
      "text/markdown": "$E_{offset}$:$$\\left(R\\right)\\mathbf{\\hat{i}_{}}$$"
     },
     "metadata": {},
     "output_type": "display_data",
     "jetTransient": {
      "display_id": null
     }
    },
    {
     "data": {
      "text/plain": [
       "<IPython.core.display.Markdown object>"
      ],
      "text/markdown": "$$V_{E} = \\left(V_{o}\\right)\\mathbf{\\hat{i}_{}} + \\left(R \\omega\\right)\\mathbf{\\hat{j}_{}}$$"
     },
     "metadata": {},
     "output_type": "display_data",
     "jetTransient": {
      "display_id": null
     }
    },
    {
     "data": {
      "text/plain": [
       "<IPython.core.display.Markdown object>"
      ],
      "text/markdown": "$$V_{E} = \\left(-2.0\\right)\\mathbf{\\hat{i}_{}} + \\left(4.0\\right)\\mathbf{\\hat{j}_{}}$$"
     },
     "metadata": {},
     "output_type": "display_data",
     "jetTransient": {
      "display_id": null
     }
    }
   ],
   "execution_count": 215
  },
  {
   "metadata": {},
   "cell_type": "markdown",
   "source": "# 2-14",
   "id": "bb6ae36467d35f25"
  },
  {
   "metadata": {
    "ExecuteTime": {
     "end_time": "2025-09-30T13:36:05.749574Z",
     "start_time": "2025-09-30T13:36:03.473341Z"
    }
   },
   "cell_type": "code",
   "source": [
    "def t214():\n",
    "    reset()\n",
    "    t = Symbol('t')\n",
    "    theta = Function('theta')(t)\n",
    "    V_A = Symbol('V_{A}', positive=True)\n",
    "    R = Symbol('R')\n",
    "\n",
    "    x_d = Function('x_d')(t)\n",
    "    y_d = Function('y_d')(t)\n",
    "    cd1 = beautiful_condition(Eq(R, x_d * sin(theta)), \"by geometry:$\")\n",
    "    cd2 = beautiful_condition(Eq(x_d, y_d * tan(theta)), \"by geometry:$\")\n",
    "    beautiful_solve([cd1, cd2], [y_d, theta])\n",
    "    beautiful_peek(y_d, \"so in world coordinates:$\", \"answer\")\n",
    "\n",
    "    x_ld = Symbol('x_{localD}')\n",
    "    y_ld = Symbol('y_{localD}')\n",
    "    theta_l = Symbol('\\\\theta_{local}')\n",
    "    cd1 = beautiful_condition(Eq(y_ld, x_ld * tan(theta_l)), \"by geometry:$\")\n",
    "    cd2 = beautiful_condition(Eq(y_ld * tan(theta_l), R), \"by geometry:$\")\n",
    "    beautiful_solve([cd1, cd2], [x_ld, theta_l])\n",
    "    beautiful_peek(x_ld, \"so in local coordinates:$\", \"answer\")\n",
    "    beautiful_compute(x_d, R / sin(theta), \"by geometry:$\")\n",
    "\n",
    "    beautiful_compute(diff(x_d, t), V_A, \"by geometry:$\")\n",
    "    av = beautiful_compute('omega', diff(theta, t), \"so:$\")\n",
    "    av = substitute_values(av).subs(x_d, R / sin(theta)).simplify().refine(Q.positive(cos(theta)))\n",
    "    beautiful_print(av, \"inlined:$\", tag=\"answer\")\n",
    "    aav = -beautiful_compute('alpha', lambda e: diff(av, t, evaluate=e), \"so:$\")\n",
    "    aav = substitute_values(aav).subs(x_d, R / sin(theta)).simplify().refine(Q.positive(cos(theta))).simplify()\n",
    "    beautiful_print(aav, \"inlined:$\", tag=\"answer\")\n",
    "\n",
    "    Vector_Va = beautiful_vector(xi=V_A)\n",
    "    beautiful_print(Vector_Va, \"Vector of $V_A$ is:$\")\n",
    "    Vector_av = beautiful_vector(zk=av)\n",
    "    beautiful_print(Vector_av, \"Vector of angular vel is:$\")\n",
    "    C_offset = beautiful_vector(xi=- R * cos(theta) / tan(theta), yj=R * cos(theta))\n",
    "    beautiful_print(C_offset, \"$C_{offset}$:$\")\n",
    "    V_C = Vector_Va + cross(Vector_av, C_offset)\n",
    "    V_C = V_C.simplify()\n",
    "    beautiful_print(V_C, \"Vector of $V_{C}$ is:$\")\n",
    "\n",
    "    beautiful_print(V_C.magnitude().simplify().refine(Q.positive(cos(theta))), \"Size:$\", tag=\"answer\")\n",
    "\n",
    "    Vector_aav = beautiful_vector(zk=aav)\n",
    "    beautiful_print(Vector_aav, \"Vector of acc angular vel is:$\")\n",
    "\n",
    "    A_C = diff(V_A, t) * coord.i + cross(Vector_aav, C_offset) + Vector_av.cross(cross(Vector_av, C_offset))\n",
    "    beautiful_print(A_C, \"Acc $A_{C}$:$\")\n",
    "    A_C = A_C.simplify().refine(Q.positive(cos(theta)))\n",
    "    beautiful_print(A_C, \"simplified $A_{C}$:$\")\n",
    "    beautiful_print(A_C.magnitude().simplify().refine(Q.positive(cos(theta))), \"Size:$\", tag=\"answer\")\n",
    "\n",
    "\n",
    "t214()"
   ],
   "id": "92c7b7ddec03aa14",
   "outputs": [
    {
     "data": {
      "text/plain": [
       "<IPython.core.display.Markdown object>"
      ],
      "text/markdown": "by geometry:$$R = x_{d}{\\left(t \\right)} \\sin{\\left(\\theta{\\left(t \\right)} \\right)}\\tag{3}$$"
     },
     "metadata": {},
     "output_type": "display_data",
     "jetTransient": {
      "display_id": null
     }
    },
    {
     "data": {
      "text/plain": [
       "<IPython.core.display.Markdown object>"
      ],
      "text/markdown": "by geometry:$$x_{d}{\\left(t \\right)} = y_{d}{\\left(t \\right)} \\tan{\\left(\\theta{\\left(t \\right)} \\right)}\\tag{4}$$"
     },
     "metadata": {},
     "output_type": "display_data",
     "jetTransient": {
      "display_id": null
     }
    },
    {
     "data": {
      "text/plain": [
       "<IPython.core.display.Markdown object>"
      ],
      "text/markdown": "$\\left ( 3 \\right ) ,\\left ( 4 \\right )  \\Longrightarrow$"
     },
     "metadata": {},
     "output_type": "display_data",
     "jetTransient": {
      "display_id": null
     }
    },
    {
     "data": {
      "text/plain": [
       "<IPython.core.display.Markdown object>"
      ],
      "text/markdown": "$$\\theta{\\left(t \\right)} = \\pi - \\operatorname{asin}{\\left(\\frac{R}{x_{d}{\\left(t \\right)}} \\right)}$$"
     },
     "metadata": {},
     "output_type": "display_data",
     "jetTransient": {
      "display_id": null
     }
    },
    {
     "data": {
      "text/plain": [
       "<IPython.core.display.Markdown object>"
      ],
      "text/markdown": "$$y_{d}{\\left(t \\right)} = - \\frac{\\sqrt{- \\frac{R^{2}}{x_{d}^{2}{\\left(t \\right)}} + 1} x_{d}^{2}{\\left(t \\right)}}{R}$$"
     },
     "metadata": {},
     "output_type": "display_data",
     "jetTransient": {
      "display_id": null
     }
    },
    {
     "data": {
      "text/plain": [
       "<IPython.core.display.Markdown object>"
      ],
      "text/markdown": "so in world coordinates:$$y_{d}{\\left(t \\right)} = - \\frac{\\sqrt{- \\frac{R^{2}}{x_{d}^{2}{\\left(t \\right)}} + 1} x_{d}^{2}{\\left(t \\right)}}{R}\\tag{answer}$$"
     },
     "metadata": {},
     "output_type": "display_data",
     "jetTransient": {
      "display_id": null
     }
    },
    {
     "data": {
      "text/plain": [
       "<IPython.core.display.Markdown object>"
      ],
      "text/markdown": "by geometry:$$y_{localD} = x_{localD} \\tan{\\left(\\theta_{local} \\right)}\\tag{5}$$"
     },
     "metadata": {},
     "output_type": "display_data",
     "jetTransient": {
      "display_id": null
     }
    },
    {
     "data": {
      "text/plain": [
       "<IPython.core.display.Markdown object>"
      ],
      "text/markdown": "by geometry:$$y_{localD} \\tan{\\left(\\theta_{local} \\right)} = R\\tag{6}$$"
     },
     "metadata": {},
     "output_type": "display_data",
     "jetTransient": {
      "display_id": null
     }
    },
    {
     "data": {
      "text/plain": [
       "<IPython.core.display.Markdown object>"
      ],
      "text/markdown": "$\\left ( 5 \\right ) ,\\left ( 6 \\right )  \\Longrightarrow$"
     },
     "metadata": {},
     "output_type": "display_data",
     "jetTransient": {
      "display_id": null
     }
    },
    {
     "data": {
      "text/plain": [
       "<IPython.core.display.Markdown object>"
      ],
      "text/markdown": "$$\\theta_{local} = \\operatorname{atan}{\\left(\\frac{R}{y_{localD}} \\right)}$$"
     },
     "metadata": {},
     "output_type": "display_data",
     "jetTransient": {
      "display_id": null
     }
    },
    {
     "data": {
      "text/plain": [
       "<IPython.core.display.Markdown object>"
      ],
      "text/markdown": "$$x_{localD} = \\frac{y_{localD}^{2}}{R}$$"
     },
     "metadata": {},
     "output_type": "display_data",
     "jetTransient": {
      "display_id": null
     }
    },
    {
     "data": {
      "text/plain": [
       "<IPython.core.display.Markdown object>"
      ],
      "text/markdown": "so in local coordinates:$$x_{localD} = \\frac{y_{localD}^{2}}{R}\\tag{answer}$$"
     },
     "metadata": {},
     "output_type": "display_data",
     "jetTransient": {
      "display_id": null
     }
    },
    {
     "data": {
      "text/plain": [
       "<IPython.core.display.Markdown object>"
      ],
      "text/markdown": "by geometry:$$x_{d}{\\left(t \\right)} = \\frac{R}{\\sin{\\left(\\theta{\\left(t \\right)} \\right)}}$$"
     },
     "metadata": {},
     "output_type": "display_data",
     "jetTransient": {
      "display_id": null
     }
    },
    {
     "data": {
      "text/plain": [
       "<IPython.core.display.Markdown object>"
      ],
      "text/markdown": "by geometry:$$\\frac{d}{d t} x_{d}{\\left(t \\right)} = V_{A}$$"
     },
     "metadata": {},
     "output_type": "display_data",
     "jetTransient": {
      "display_id": null
     }
    },
    {
     "data": {
      "text/plain": [
       "<IPython.core.display.Markdown object>"
      ],
      "text/markdown": "so:$$\\omega = \\frac{d}{d t} \\theta{\\left(t \\right)}$$"
     },
     "metadata": {},
     "output_type": "display_data",
     "jetTransient": {
      "display_id": null
     }
    },
    {
     "data": {
      "text/plain": [
       "<IPython.core.display.Markdown object>"
      ],
      "text/markdown": "inlined:$$\\frac{V_{A} \\sin^{2}{\\left(\\theta{\\left(t \\right)} \\right)}}{R \\cos{\\left(\\theta{\\left(t \\right)} \\right)}}\\tag{answer}$$"
     },
     "metadata": {},
     "output_type": "display_data",
     "jetTransient": {
      "display_id": null
     }
    },
    {
     "data": {
      "text/plain": [
       "<IPython.core.display.Markdown object>"
      ],
      "text/markdown": "so:$$\\alpha = \\frac{\\partial}{\\partial t} \\frac{V_{A} \\sin^{2}{\\left(\\theta{\\left(t \\right)} \\right)}}{R \\cos{\\left(\\theta{\\left(t \\right)} \\right)}}$$"
     },
     "metadata": {},
     "output_type": "display_data",
     "jetTransient": {
      "display_id": null
     }
    },
    {
     "data": {
      "text/plain": [
       "<IPython.core.display.Markdown object>"
      ],
      "text/markdown": "inlined:$$\\frac{V_{A}^{2} \\left(\\sin^{2}{\\left(\\theta{\\left(t \\right)} \\right)} - 2\\right) \\tan^{3}{\\left(\\theta{\\left(t \\right)} \\right)}}{R^{2}}\\tag{answer}$$"
     },
     "metadata": {},
     "output_type": "display_data",
     "jetTransient": {
      "display_id": null
     }
    },
    {
     "data": {
      "text/plain": [
       "<IPython.core.display.Markdown object>"
      ],
      "text/markdown": "Vector of $V_A$ is:$$\\left(V_{A}\\right)\\mathbf{\\hat{i}_{}}$$"
     },
     "metadata": {},
     "output_type": "display_data",
     "jetTransient": {
      "display_id": null
     }
    },
    {
     "data": {
      "text/plain": [
       "<IPython.core.display.Markdown object>"
      ],
      "text/markdown": "Vector of angular vel is:$$\\left(\\frac{V_{A} \\sin^{2}{\\left(\\theta{\\left(t \\right)} \\right)}}{R \\cos{\\left(\\theta{\\left(t \\right)} \\right)}}\\right)\\mathbf{\\hat{k}_{}}$$"
     },
     "metadata": {},
     "output_type": "display_data",
     "jetTransient": {
      "display_id": null
     }
    },
    {
     "data": {
      "text/plain": [
       "<IPython.core.display.Markdown object>"
      ],
      "text/markdown": "$C_{offset}$:$$\\left(- \\frac{R \\cos{\\left(\\theta{\\left(t \\right)} \\right)}}{\\tan{\\left(\\theta{\\left(t \\right)} \\right)}}\\right)\\mathbf{\\hat{i}_{}} + \\left(R \\cos{\\left(\\theta{\\left(t \\right)} \\right)}\\right)\\mathbf{\\hat{j}_{}}$$"
     },
     "metadata": {},
     "output_type": "display_data",
     "jetTransient": {
      "display_id": null
     }
    },
    {
     "data": {
      "text/plain": [
       "<IPython.core.display.Markdown object>"
      ],
      "text/markdown": "Vector of $V_{C}$ is:$$\\left(V_{A} \\cos^{2}{\\left(\\theta{\\left(t \\right)} \\right)}\\right)\\mathbf{\\hat{i}_{}} + \\left(- \\frac{V_{A} \\sin{\\left(2 \\theta{\\left(t \\right)} \\right)}}{2}\\right)\\mathbf{\\hat{j}_{}}$$"
     },
     "metadata": {},
     "output_type": "display_data",
     "jetTransient": {
      "display_id": null
     }
    },
    {
     "data": {
      "text/plain": [
       "<IPython.core.display.Markdown object>"
      ],
      "text/markdown": "Size:$$V_{A} \\cos{\\left(\\theta{\\left(t \\right)} \\right)}\\tag{answer}$$"
     },
     "metadata": {},
     "output_type": "display_data",
     "jetTransient": {
      "display_id": null
     }
    },
    {
     "data": {
      "text/plain": [
       "<IPython.core.display.Markdown object>"
      ],
      "text/markdown": "Vector of acc angular vel is:$$\\left(\\frac{V_{A}^{2} \\left(\\sin^{2}{\\left(\\theta{\\left(t \\right)} \\right)} - 2\\right) \\tan^{3}{\\left(\\theta{\\left(t \\right)} \\right)}}{R^{2}}\\right)\\mathbf{\\hat{k}_{}}$$"
     },
     "metadata": {},
     "output_type": "display_data",
     "jetTransient": {
      "display_id": null
     }
    },
    {
     "data": {
      "text/plain": [
       "<IPython.core.display.Markdown object>"
      ],
      "text/markdown": "Acc $A_{C}$:$$\\left(- \\frac{V_{A}^{2} \\left(\\sin^{2}{\\left(\\theta{\\left(t \\right)} \\right)} - 2\\right) \\cos{\\left(\\theta{\\left(t \\right)} \\right)} \\tan^{3}{\\left(\\theta{\\left(t \\right)} \\right)}}{R} + \\frac{V_{A}^{2} \\sin^{4}{\\left(\\theta{\\left(t \\right)} \\right)}}{R \\cos{\\left(\\theta{\\left(t \\right)} \\right)} \\tan{\\left(\\theta{\\left(t \\right)} \\right)}}\\right)\\mathbf{\\hat{i}_{}} + \\left(- \\frac{V_{A}^{2} \\left(\\sin^{2}{\\left(\\theta{\\left(t \\right)} \\right)} - 2\\right) \\cos{\\left(\\theta{\\left(t \\right)} \\right)} \\tan^{2}{\\left(\\theta{\\left(t \\right)} \\right)}}{R} - \\frac{V_{A}^{2} \\sin^{4}{\\left(\\theta{\\left(t \\right)} \\right)}}{R \\cos{\\left(\\theta{\\left(t \\right)} \\right)}}\\right)\\mathbf{\\hat{j}_{}}$$"
     },
     "metadata": {},
     "output_type": "display_data",
     "jetTransient": {
      "display_id": null
     }
    },
    {
     "data": {
      "text/plain": [
       "<IPython.core.display.Markdown object>"
      ],
      "text/markdown": "simplified $A_{C}$:$$\\left(\\frac{V_{A}^{2} \\left(3 - 2 \\sin^{2}{\\left(\\theta{\\left(t \\right)} \\right)}\\right) \\sin^{3}{\\left(\\theta{\\left(t \\right)} \\right)}}{R \\cos^{2}{\\left(\\theta{\\left(t \\right)} \\right)}}\\right)\\mathbf{\\hat{i}_{}} + \\left(\\frac{2 V_{A}^{2} \\sin^{2}{\\left(\\theta{\\left(t \\right)} \\right)} \\cos{\\left(\\theta{\\left(t \\right)} \\right)}}{R}\\right)\\mathbf{\\hat{j}_{}}$$"
     },
     "metadata": {},
     "output_type": "display_data",
     "jetTransient": {
      "display_id": null
     }
    },
    {
     "data": {
      "text/plain": [
       "<IPython.core.display.Markdown object>"
      ],
      "text/markdown": "Size:$$V_{A}^{2} \\sqrt{\\frac{\\left(\\left(2 \\sin^{2}{\\left(\\theta{\\left(t \\right)} \\right)} - 3\\right)^{2} \\sin^{2}{\\left(\\theta{\\left(t \\right)} \\right)} + 4 \\cos^{6}{\\left(\\theta{\\left(t \\right)} \\right)}\\right) \\tan^{4}{\\left(\\theta{\\left(t \\right)} \\right)}}{R^{2}}}\\tag{answer}$$"
     },
     "metadata": {},
     "output_type": "display_data",
     "jetTransient": {
      "display_id": null
     }
    }
   ],
   "execution_count": 216
  },
  {
   "metadata": {
    "ExecuteTime": {
     "end_time": "2025-09-30T13:36:09.427032Z",
     "start_time": "2025-09-30T13:36:06.129782Z"
    }
   },
   "cell_type": "code",
   "source": [
    "def t215():\n",
    "    reset()\n",
    "    t = Symbol('t')\n",
    "    angle = Function('\\\\theta')(t)\n",
    "    angular_vel = diff(angle, t)\n",
    "    angular_acc = diff(angular_vel, t)\n",
    "    x_a = Function('x_a')(t)\n",
    "    d_xa = diff(x_a, t)\n",
    "    dd_xa = diff(d_xa, t)\n",
    "    y_a = Symbol('y_a')\n",
    "    length = Symbol('l')\n",
    "    beautiful_compute(angle, atan(y_a / x_a), \"by geometry:$\")\n",
    "\n",
    "    x_b = beautiful_compute(Function('x_b')(t), x_a + length * cos(angle), \"by geometry:$\")\n",
    "    y_b = beautiful_compute(Function('y_b')(t), y_a + length * sin(angle), \"by geometry:$\")\n",
    "\n",
    "    beautiful_peek(diff(x_b, t), \"so:$\")\n",
    "    beautiful_peek(diff(y_b, t), )\n",
    "\n",
    "    beautiful_peek(diff(x_b, t, 2), \"so:$\")\n",
    "    beautiful_peek(diff(y_b, t, 2), )\n",
    "\n",
    "    beautiful_compute(length, 0.1953, \"given:$\")\n",
    "    beautiful_compute(y_a, -0.10, \"given:$\")\n",
    "    beautiful_compute(dd_xa, 0.1, \"given:$\")\n",
    "    beautiful_compute(d_xa, -0.15, \"given:$\")\n",
    "    beautiful_compute(x_a, -0.075, \"given:$\")\n",
    "\n",
    "    beautiful_peek(diff(x_b, t), \"so:$\")\n",
    "    beautiful_peek(diff(y_b, t), )\n",
    "\n",
    "    beautiful_peek(diff(x_b, t, 2), )\n",
    "    beautiful_peek(diff(y_b, t, 2), )\n",
    "\n",
    "    beautiful_peek(angular_vel)\n",
    "    beautiful_peek(angular_acc)\n",
    "\n",
    "\n",
    "t215()"
   ],
   "id": "a066de670b8b55a2",
   "outputs": [
    {
     "data": {
      "text/plain": [
       "<IPython.core.display.Markdown object>"
      ],
      "text/markdown": "by geometry:$$\\theta{\\left(t \\right)} = \\operatorname{atan}{\\left(\\frac{y_{a}}{x_{a}{\\left(t \\right)}} \\right)}$$"
     },
     "metadata": {},
     "output_type": "display_data",
     "jetTransient": {
      "display_id": null
     }
    },
    {
     "data": {
      "text/plain": [
       "<IPython.core.display.Markdown object>"
      ],
      "text/markdown": "by geometry:$$x_{b}{\\left(t \\right)} = l \\cos{\\left(\\theta{\\left(t \\right)} \\right)} + x_{a}{\\left(t \\right)}$$"
     },
     "metadata": {},
     "output_type": "display_data",
     "jetTransient": {
      "display_id": null
     }
    },
    {
     "data": {
      "text/plain": [
       "<IPython.core.display.Markdown object>"
      ],
      "text/markdown": "by geometry:$$y_{b}{\\left(t \\right)} = l \\sin{\\left(\\theta{\\left(t \\right)} \\right)} + y_{a}$$"
     },
     "metadata": {},
     "output_type": "display_data",
     "jetTransient": {
      "display_id": null
     }
    },
    {
     "data": {
      "text/plain": [
       "<IPython.core.display.Markdown object>"
      ],
      "text/markdown": "so:$$\\frac{d}{d t} x_{b}{\\left(t \\right)} = \\frac{l y_{a}^{2} \\frac{d}{d t} x_{a}{\\left(t \\right)}}{\\left(\\frac{y_{a}^{2}}{x_{a}^{2}{\\left(t \\right)}} + 1\\right)^{\\frac{3}{2}} x_{a}^{3}{\\left(t \\right)}} + \\frac{d}{d t} x_{a}{\\left(t \\right)}$$"
     },
     "metadata": {},
     "output_type": "display_data",
     "jetTransient": {
      "display_id": null
     }
    },
    {
     "data": {
      "text/plain": [
       "<IPython.core.display.Markdown object>"
      ],
      "text/markdown": "$$\\frac{d}{d t} y_{b}{\\left(t \\right)} = - \\frac{l y_{a} \\sqrt{\\frac{y_{a}^{2}}{x_{a}^{2}{\\left(t \\right)}} + 1} x_{a}^{2}{\\left(t \\right)} \\frac{d}{d t} x_{a}{\\left(t \\right)}}{\\left(y_{a}^{2} + x_{a}^{2}{\\left(t \\right)}\\right)^{2}}$$"
     },
     "metadata": {},
     "output_type": "display_data",
     "jetTransient": {
      "display_id": null
     }
    },
    {
     "data": {
      "text/plain": [
       "<IPython.core.display.Markdown object>"
      ],
      "text/markdown": "so:$$\\frac{d^{2}}{d t^{2}} x_{b}{\\left(t \\right)} = \\frac{3 l y_{a}^{4} \\left(y_{a}^{2} + x_{a}^{2}{\\left(t \\right)}\\right)^{3} \\left(\\frac{d}{d t} x_{a}{\\left(t \\right)}\\right)^{2} + l y_{a}^{2} \\left(y_{a}^{2} + x_{a}^{2}{\\left(t \\right)}\\right)^{4} x_{a}{\\left(t \\right)} \\frac{d^{2}}{d t^{2}} x_{a}{\\left(t \\right)} - 3 l y_{a}^{2} \\left(y_{a}^{2} + x_{a}^{2}{\\left(t \\right)}\\right)^{4} \\left(\\frac{d}{d t} x_{a}{\\left(t \\right)}\\right)^{2} + \\left(\\frac{y_{a}^{2} + x_{a}^{2}{\\left(t \\right)}}{x_{a}^{2}{\\left(t \\right)}}\\right)^{\\frac{11}{2}} x_{a}^{12}{\\left(t \\right)} \\frac{d^{2}}{d t^{2}} x_{a}{\\left(t \\right)}}{\\left(\\frac{y_{a}^{2} + x_{a}^{2}{\\left(t \\right)}}{x_{a}^{2}{\\left(t \\right)}}\\right)^{\\frac{11}{2}} x_{a}^{12}{\\left(t \\right)}}$$"
     },
     "metadata": {},
     "output_type": "display_data",
     "jetTransient": {
      "display_id": null
     }
    },
    {
     "data": {
      "text/plain": [
       "<IPython.core.display.Markdown object>"
      ],
      "text/markdown": "$$\\frac{d^{2}}{d t^{2}} y_{b}{\\left(t \\right)} = \\frac{l y_{a} \\left(- y_{a}^{2} x_{a}{\\left(t \\right)} \\frac{d^{2}}{d t^{2}} x_{a}{\\left(t \\right)} - y_{a}^{2} \\left(\\frac{d}{d t} x_{a}{\\left(t \\right)}\\right)^{2} - x_{a}^{3}{\\left(t \\right)} \\frac{d^{2}}{d t^{2}} x_{a}{\\left(t \\right)} + 2 x_{a}^{2}{\\left(t \\right)} \\left(\\frac{d}{d t} x_{a}{\\left(t \\right)}\\right)^{2}\\right)}{\\sqrt{\\frac{y_{a}^{2} + x_{a}^{2}{\\left(t \\right)}}{x_{a}^{2}{\\left(t \\right)}}} \\left(y_{a}^{4} + 2 y_{a}^{2} x_{a}^{2}{\\left(t \\right)} + x_{a}^{4}{\\left(t \\right)}\\right) x_{a}{\\left(t \\right)}}$$"
     },
     "metadata": {},
     "output_type": "display_data",
     "jetTransient": {
      "display_id": null
     }
    },
    {
     "data": {
      "text/plain": [
       "<IPython.core.display.Markdown object>"
      ],
      "text/markdown": "given:$$l = 0.1953$$"
     },
     "metadata": {},
     "output_type": "display_data",
     "jetTransient": {
      "display_id": null
     }
    },
    {
     "data": {
      "text/plain": [
       "<IPython.core.display.Markdown object>"
      ],
      "text/markdown": "given:$$y_{a} = -0.1$$"
     },
     "metadata": {},
     "output_type": "display_data",
     "jetTransient": {
      "display_id": null
     }
    },
    {
     "data": {
      "text/plain": [
       "<IPython.core.display.Markdown object>"
      ],
      "text/markdown": "given:$$\\frac{d^{2}}{d t^{2}} x_{a}{\\left(t \\right)} = 0.1$$"
     },
     "metadata": {},
     "output_type": "display_data",
     "jetTransient": {
      "display_id": null
     }
    },
    {
     "data": {
      "text/plain": [
       "<IPython.core.display.Markdown object>"
      ],
      "text/markdown": "given:$$\\frac{d}{d t} x_{a}{\\left(t \\right)} = -0.15$$"
     },
     "metadata": {},
     "output_type": "display_data",
     "jetTransient": {
      "display_id": null
     }
    },
    {
     "data": {
      "text/plain": [
       "<IPython.core.display.Markdown object>"
      ],
      "text/markdown": "given:$$x_{a}{\\left(t \\right)} = -0.075$$"
     },
     "metadata": {},
     "output_type": "display_data",
     "jetTransient": {
      "display_id": null
     }
    },
    {
     "data": {
      "text/plain": [
       "<IPython.core.display.Markdown object>"
      ],
      "text/markdown": "so:$$\\frac{d}{d t} x_{b}{\\left(t \\right)} = -9.60000000002625 \\cdot 10^{-6}$$"
     },
     "metadata": {},
     "output_type": "display_data",
     "jetTransient": {
      "display_id": null
     }
    },
    {
     "data": {
      "text/plain": [
       "<IPython.core.display.Markdown object>"
      ],
      "text/markdown": "$$\\frac{d}{d t} y_{b}{\\left(t \\right)} = -0.1124928$$"
     },
     "metadata": {},
     "output_type": "display_data",
     "jetTransient": {
      "display_id": null
     }
    },
    {
     "data": {
      "text/plain": [
       "<IPython.core.display.Markdown object>"
      ],
      "text/markdown": "$$\\frac{d^{2}}{d t^{2}} x_{b}{\\left(t \\right)} = -0.323972864$$"
     },
     "metadata": {},
     "output_type": "display_data",
     "jetTransient": {
      "display_id": null
     }
    },
    {
     "data": {
      "text/plain": [
       "<IPython.core.display.Markdown object>"
      ],
      "text/markdown": "$$\\frac{d^{2}}{d t^{2}} y_{b}{\\left(t \\right)} = 0.092994048$$"
     },
     "metadata": {},
     "output_type": "display_data",
     "jetTransient": {
      "display_id": null
     }
    },
    {
     "data": {
      "text/plain": [
       "<IPython.core.display.Markdown object>"
      ],
      "text/markdown": "$$\\frac{d}{d t} \\theta{\\left(t \\right)} = -0.96$$"
     },
     "metadata": {},
     "output_type": "display_data",
     "jetTransient": {
      "display_id": null
     }
    },
    {
     "data": {
      "text/plain": [
       "<IPython.core.display.Markdown object>"
      ],
      "text/markdown": "$$\\frac{d^{2}}{d t^{2}} \\theta{\\left(t \\right)} = 2.0224$$"
     },
     "metadata": {},
     "output_type": "display_data",
     "jetTransient": {
      "display_id": null
     }
    }
   ],
   "execution_count": 217
  },
  {
   "metadata": {},
   "cell_type": "markdown",
   "source": [
    "# 2-16\n",
    "<img src=\"data:image/jpeg;base64,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\" alt=\"screenshot\" />"
   ],
   "id": "ec5e653dec5417a5"
  },
  {
   "metadata": {
    "ExecuteTime": {
     "end_time": "2025-09-30T13:37:13.937098Z",
     "start_time": "2025-09-30T13:36:09.784192Z"
    }
   },
   "cell_type": "code",
   "source": [
    "def t216():\n",
    "    reset()\n",
    "    r = Symbol('r', positive=True)\n",
    "    length = Symbol('l')\n",
    "    t = Symbol('t')\n",
    "    R_ball = Symbol('R_{ball}')\n",
    "    R_track = Symbol('R_{track}')\n",
    "\n",
    "    # beautiful_compute(length,0.4,\"given:$\")\n",
    "    # beautiful_compute(r,0.1,\"given:$\")\n",
    "    # beautiful_compute(R_ball,0.1,\"given:$\")\n",
    "    # beautiful_compute(R_track,0.4,\"given:$\")\n",
    "    beautiful_compute(length, 4 * r, \"given:$\")\n",
    "    beautiful_compute(R_ball, 1 * r, \"given:$\")\n",
    "    beautiful_compute(R_track, 4 * r, \"given:$\")\n",
    "\n",
    "    R = beautiful_compute('R', R_ball + R_track, \"by geometry:$\")\n",
    "    x_offset = beautiful_compute('x_{offset}', sqrt(length ** 2 - r ** 2), \"by geometry:$\")\n",
    "\n",
    "    angle_O = Function('\\\\theta_{O}')(t)\n",
    "    angle_E = Function('\\\\theta_{E}')(t)\n",
    "    d_angle_E = diff(angle_E, t)\n",
    "    dd_angle_E = diff(d_angle_E, t)\n",
    "\n",
    "    P1 = beautiful_vector(r * cos(angle_O), r * sin(angle_O))\n",
    "    P2 = beautiful_vector(R * cos(angle_E) + x_offset, R * sin(angle_E) - R)\n",
    "    tmp = beautiful_compute('len(Pos_{A}-Pos_{B})-AB=0', (P1 - P2).magnitude() ** 2 - length ** 2, \"by geometry:$\")\n",
    "    tmp = substitute_values(tmp).expand().simplify()\n",
    "    beautiful_print(tmp, \"so:$\")\n",
    "\n",
    "    tmp1 = diff(tmp, t).simplify()\n",
    "    cd1 = beautiful_condition(tmp1, \"diff it , and got zero\")\n",
    "    beautiful_solve(cd1, d_angle_E)\n",
    "\n",
    "    tmp2 = diff(tmp1, t).simplify()\n",
    "    cd2 = beautiful_condition(tmp2, \"diff it and got zero\")\n",
    "    beautiful_solve(cd2, dd_angle_E)\n",
    "\n",
    "    beautiful_compute(diff(angle_O, t, 2), 0, \"at init:$\")\n",
    "    beautiful_compute(diff(angle_O, t), 10, \"at init:$\")\n",
    "    beautiful_compute(angle_O, pi / 2, \"at init:$\")\n",
    "    beautiful_compute(angle_E, pi / 2, \"at init:$\")\n",
    "\n",
    "    beautiful_peek(d_angle_E)\n",
    "    beautiful_peek(dd_angle_E)\n",
    "\n",
    "    angle_B = Function('\\\\theta_{B}')(t)\n",
    "    beautiful_compute(angle_B, angle_E * 5, \"by geometry:$\")\n",
    "    angle_B = angle_E * 5\n",
    "    beautiful_peek(diff(angle_B, t), \"so:$\")\n",
    "    beautiful_peek(diff(angle_B, t, 2), \"so:$\")\n",
    "\n",
    "    beautiful_compute(r, 0.1, \"given:$\")\n",
    "    beautiful_peek(diff(angle_B, t), \"so:$\", tag=\"answer\")\n",
    "    beautiful_peek(diff(angle_B, t, 2), \"so:$\", tag=\"answer\")\n",
    "\n",
    "\n",
    "t216()"
   ],
   "id": "75e3bdd3e510e0ea",
   "outputs": [
    {
     "data": {
      "text/plain": [
       "<IPython.core.display.Markdown object>"
      ],
      "text/markdown": "given:$$l = 4 r$$"
     },
     "metadata": {},
     "output_type": "display_data",
     "jetTransient": {
      "display_id": null
     }
    },
    {
     "data": {
      "text/plain": [
       "<IPython.core.display.Markdown object>"
      ],
      "text/markdown": "given:$$R_{ball} = r$$"
     },
     "metadata": {},
     "output_type": "display_data",
     "jetTransient": {
      "display_id": null
     }
    },
    {
     "data": {
      "text/plain": [
       "<IPython.core.display.Markdown object>"
      ],
      "text/markdown": "given:$$R_{track} = 4 r$$"
     },
     "metadata": {},
     "output_type": "display_data",
     "jetTransient": {
      "display_id": null
     }
    },
    {
     "data": {
      "text/plain": [
       "<IPython.core.display.Markdown object>"
      ],
      "text/markdown": "by geometry:$$R = R_{ball} + R_{track}$$"
     },
     "metadata": {},
     "output_type": "display_data",
     "jetTransient": {
      "display_id": null
     }
    },
    {
     "data": {
      "text/plain": [
       "<IPython.core.display.Markdown object>"
      ],
      "text/markdown": "by geometry:$$x_{offset} = \\sqrt{l^{2} - r^{2}}$$"
     },
     "metadata": {},
     "output_type": "display_data",
     "jetTransient": {
      "display_id": null
     }
    },
    {
     "data": {
      "text/plain": [
       "<IPython.core.display.Markdown object>"
      ],
      "text/markdown": "by geometry:$$len(Pos_{A}-Pos_{B})-AB=0 = - l^{2} + \\left(- R \\sin{\\left(\\theta_{E}{\\left(t \\right)} \\right)} + R + r \\sin{\\left(\\theta_{O}{\\left(t \\right)} \\right)}\\right)^{2} + \\left(- R \\cos{\\left(\\theta_{E}{\\left(t \\right)} \\right)} + r \\cos{\\left(\\theta_{O}{\\left(t \\right)} \\right)} - x_{offset}\\right)^{2}$$"
     },
     "metadata": {},
     "output_type": "display_data",
     "jetTransient": {
      "display_id": null
     }
    },
    {
     "data": {
      "text/plain": [
       "<IPython.core.display.Markdown object>"
      ],
      "text/markdown": "so:$$r^{2} \\left(- 50 \\sin{\\left(\\theta_{E}{\\left(t \\right)} \\right)} + 10 \\sin{\\left(\\theta_{O}{\\left(t \\right)} \\right)} - 10 \\cos{\\left(\\theta_{E}{\\left(t \\right)} - \\theta_{O}{\\left(t \\right)} \\right)} + 10 \\sqrt{15} \\cos{\\left(\\theta_{E}{\\left(t \\right)} \\right)} - 2 \\sqrt{15} \\cos{\\left(\\theta_{O}{\\left(t \\right)} \\right)} + 50\\right)$$"
     },
     "metadata": {},
     "output_type": "display_data",
     "jetTransient": {
      "display_id": null
     }
    },
    {
     "data": {
      "text/plain": [
       "<IPython.core.display.Markdown object>"
      ],
      "text/markdown": "diff it , and got zero$2 r^{2} \\left(5 \\left(\\frac{d}{d t} \\theta_{E}{\\left(t \\right)} - \\frac{d}{d t} \\theta_{O}{\\left(t \\right)}\\right) \\sin{\\left(\\theta_{E}{\\left(t \\right)} - \\theta_{O}{\\left(t \\right)} \\right)} - 5 \\sqrt{15} \\sin{\\left(\\theta_{E}{\\left(t \\right)} \\right)} \\frac{d}{d t} \\theta_{E}{\\left(t \\right)} + \\sqrt{15} \\sin{\\left(\\theta_{O}{\\left(t \\right)} \\right)} \\frac{d}{d t} \\theta_{O}{\\left(t \\right)} - 25 \\cos{\\left(\\theta_{E}{\\left(t \\right)} \\right)} \\frac{d}{d t} \\theta_{E}{\\left(t \\right)} + 5 \\cos{\\left(\\theta_{O}{\\left(t \\right)} \\right)} \\frac{d}{d t} \\theta_{O}{\\left(t \\right)}\\right)$"
     },
     "metadata": {},
     "output_type": "display_data",
     "jetTransient": {
      "display_id": null
     }
    },
    {
     "data": {
      "text/plain": [
       "<IPython.core.display.Markdown object>"
      ],
      "text/markdown": "$\\left ( 3 \\right )  \\Longrightarrow$"
     },
     "metadata": {},
     "output_type": "display_data",
     "jetTransient": {
      "display_id": null
     }
    },
    {
     "data": {
      "text/plain": [
       "<IPython.core.display.Markdown object>"
      ],
      "text/markdown": "$$\\frac{d}{d t} \\theta_{E}{\\left(t \\right)} = - \\frac{5 \\sin{\\left(\\theta_{E}{\\left(t \\right)} - \\theta_{O}{\\left(t \\right)} \\right)} \\frac{d}{d t} \\theta_{O}{\\left(t \\right)}}{- 5 \\sin{\\left(\\theta_{E}{\\left(t \\right)} - \\theta_{O}{\\left(t \\right)} \\right)} + 5 \\sqrt{15} \\sin{\\left(\\theta_{E}{\\left(t \\right)} \\right)} + 25 \\cos{\\left(\\theta_{E}{\\left(t \\right)} \\right)}} + \\frac{\\sqrt{15} \\sin{\\left(\\theta_{O}{\\left(t \\right)} \\right)} \\frac{d}{d t} \\theta_{O}{\\left(t \\right)}}{- 5 \\sin{\\left(\\theta_{E}{\\left(t \\right)} - \\theta_{O}{\\left(t \\right)} \\right)} + 5 \\sqrt{15} \\sin{\\left(\\theta_{E}{\\left(t \\right)} \\right)} + 25 \\cos{\\left(\\theta_{E}{\\left(t \\right)} \\right)}} + \\frac{5 \\cos{\\left(\\theta_{O}{\\left(t \\right)} \\right)} \\frac{d}{d t} \\theta_{O}{\\left(t \\right)}}{- 5 \\sin{\\left(\\theta_{E}{\\left(t \\right)} - \\theta_{O}{\\left(t \\right)} \\right)} + 5 \\sqrt{15} \\sin{\\left(\\theta_{E}{\\left(t \\right)} \\right)} + 25 \\cos{\\left(\\theta_{E}{\\left(t \\right)} \\right)}}$$"
     },
     "metadata": {},
     "output_type": "display_data",
     "jetTransient": {
      "display_id": null
     }
    },
    {
     "data": {
      "text/plain": [
       "<IPython.core.display.Markdown object>"
      ],
      "text/markdown": "diff it and got zero$2 r^{2} \\left(5 \\left(\\frac{d}{d t} \\theta_{E}{\\left(t \\right)} - \\frac{d}{d t} \\theta_{O}{\\left(t \\right)}\\right)^{2} \\cos{\\left(\\theta_{E}{\\left(t \\right)} - \\theta_{O}{\\left(t \\right)} \\right)} + 5 \\left(\\frac{d^{2}}{d t^{2}} \\theta_{E}{\\left(t \\right)} - \\frac{d^{2}}{d t^{2}} \\theta_{O}{\\left(t \\right)}\\right) \\sin{\\left(\\theta_{E}{\\left(t \\right)} - \\theta_{O}{\\left(t \\right)} \\right)} + 25 \\sin{\\left(\\theta_{E}{\\left(t \\right)} \\right)} \\left(\\frac{d}{d t} \\theta_{E}{\\left(t \\right)}\\right)^{2} - 5 \\sqrt{15} \\sin{\\left(\\theta_{E}{\\left(t \\right)} \\right)} \\frac{d^{2}}{d t^{2}} \\theta_{E}{\\left(t \\right)} - 5 \\sin{\\left(\\theta_{O}{\\left(t \\right)} \\right)} \\left(\\frac{d}{d t} \\theta_{O}{\\left(t \\right)}\\right)^{2} + \\sqrt{15} \\sin{\\left(\\theta_{O}{\\left(t \\right)} \\right)} \\frac{d^{2}}{d t^{2}} \\theta_{O}{\\left(t \\right)} - 5 \\sqrt{15} \\cos{\\left(\\theta_{E}{\\left(t \\right)} \\right)} \\left(\\frac{d}{d t} \\theta_{E}{\\left(t \\right)}\\right)^{2} - 25 \\cos{\\left(\\theta_{E}{\\left(t \\right)} \\right)} \\frac{d^{2}}{d t^{2}} \\theta_{E}{\\left(t \\right)} + \\sqrt{15} \\cos{\\left(\\theta_{O}{\\left(t \\right)} \\right)} \\left(\\frac{d}{d t} \\theta_{O}{\\left(t \\right)}\\right)^{2} + 5 \\cos{\\left(\\theta_{O}{\\left(t \\right)} \\right)} \\frac{d^{2}}{d t^{2}} \\theta_{O}{\\left(t \\right)}\\right)$"
     },
     "metadata": {},
     "output_type": "display_data",
     "jetTransient": {
      "display_id": null
     }
    },
    {
     "data": {
      "text/plain": [
       "<IPython.core.display.Markdown object>"
      ],
      "text/markdown": "$\\left ( 4 \\right )  \\Longrightarrow$"
     },
     "metadata": {},
     "output_type": "display_data",
     "jetTransient": {
      "display_id": null
     }
    },
    {
     "data": {
      "text/plain": [
       "<IPython.core.display.Markdown object>"
      ],
      "text/markdown": "$$\\frac{d^{2}}{d t^{2}} \\theta_{E}{\\left(t \\right)} = - \\frac{5 \\sin{\\left(\\theta_{E}{\\left(t \\right)} - \\theta_{O}{\\left(t \\right)} \\right)} \\frac{d^{2}}{d t^{2}} \\theta_{O}{\\left(t \\right)}}{- 5 \\sin{\\left(\\theta_{E}{\\left(t \\right)} - \\theta_{O}{\\left(t \\right)} \\right)} + 5 \\sqrt{15} \\sin{\\left(\\theta_{E}{\\left(t \\right)} \\right)} + 25 \\cos{\\left(\\theta_{E}{\\left(t \\right)} \\right)}} + \\frac{25 \\sin{\\left(\\theta_{E}{\\left(t \\right)} \\right)} \\left(\\frac{d}{d t} \\theta_{E}{\\left(t \\right)}\\right)^{2}}{- 5 \\sin{\\left(\\theta_{E}{\\left(t \\right)} - \\theta_{O}{\\left(t \\right)} \\right)} + 5 \\sqrt{15} \\sin{\\left(\\theta_{E}{\\left(t \\right)} \\right)} + 25 \\cos{\\left(\\theta_{E}{\\left(t \\right)} \\right)}} - \\frac{5 \\sin{\\left(\\theta_{O}{\\left(t \\right)} \\right)} \\left(\\frac{d}{d t} \\theta_{O}{\\left(t \\right)}\\right)^{2}}{- 5 \\sin{\\left(\\theta_{E}{\\left(t \\right)} - \\theta_{O}{\\left(t \\right)} \\right)} + 5 \\sqrt{15} \\sin{\\left(\\theta_{E}{\\left(t \\right)} \\right)} + 25 \\cos{\\left(\\theta_{E}{\\left(t \\right)} \\right)}} + \\frac{\\sqrt{15} \\sin{\\left(\\theta_{O}{\\left(t \\right)} \\right)} \\frac{d^{2}}{d t^{2}} \\theta_{O}{\\left(t \\right)}}{- 5 \\sin{\\left(\\theta_{E}{\\left(t \\right)} - \\theta_{O}{\\left(t \\right)} \\right)} + 5 \\sqrt{15} \\sin{\\left(\\theta_{E}{\\left(t \\right)} \\right)} + 25 \\cos{\\left(\\theta_{E}{\\left(t \\right)} \\right)}} + \\frac{5 \\cos{\\left(\\theta_{E}{\\left(t \\right)} - \\theta_{O}{\\left(t \\right)} \\right)} \\left(\\frac{d}{d t} \\theta_{E}{\\left(t \\right)}\\right)^{2}}{- 5 \\sin{\\left(\\theta_{E}{\\left(t \\right)} - \\theta_{O}{\\left(t \\right)} \\right)} + 5 \\sqrt{15} \\sin{\\left(\\theta_{E}{\\left(t \\right)} \\right)} + 25 \\cos{\\left(\\theta_{E}{\\left(t \\right)} \\right)}} - \\frac{10 \\cos{\\left(\\theta_{E}{\\left(t \\right)} - \\theta_{O}{\\left(t \\right)} \\right)} \\frac{d}{d t} \\theta_{E}{\\left(t \\right)} \\frac{d}{d t} \\theta_{O}{\\left(t \\right)}}{- 5 \\sin{\\left(\\theta_{E}{\\left(t \\right)} - \\theta_{O}{\\left(t \\right)} \\right)} + 5 \\sqrt{15} \\sin{\\left(\\theta_{E}{\\left(t \\right)} \\right)} + 25 \\cos{\\left(\\theta_{E}{\\left(t \\right)} \\right)}} + \\frac{5 \\cos{\\left(\\theta_{E}{\\left(t \\right)} - \\theta_{O}{\\left(t \\right)} \\right)} \\left(\\frac{d}{d t} \\theta_{O}{\\left(t \\right)}\\right)^{2}}{- 5 \\sin{\\left(\\theta_{E}{\\left(t \\right)} - \\theta_{O}{\\left(t \\right)} \\right)} + 5 \\sqrt{15} \\sin{\\left(\\theta_{E}{\\left(t \\right)} \\right)} + 25 \\cos{\\left(\\theta_{E}{\\left(t \\right)} \\right)}} - \\frac{5 \\sqrt{15} \\cos{\\left(\\theta_{E}{\\left(t \\right)} \\right)} \\left(\\frac{d}{d t} \\theta_{E}{\\left(t \\right)}\\right)^{2}}{- 5 \\sin{\\left(\\theta_{E}{\\left(t \\right)} - \\theta_{O}{\\left(t \\right)} \\right)} + 5 \\sqrt{15} \\sin{\\left(\\theta_{E}{\\left(t \\right)} \\right)} + 25 \\cos{\\left(\\theta_{E}{\\left(t \\right)} \\right)}} + \\frac{\\sqrt{15} \\cos{\\left(\\theta_{O}{\\left(t \\right)} \\right)} \\left(\\frac{d}{d t} \\theta_{O}{\\left(t \\right)}\\right)^{2}}{- 5 \\sin{\\left(\\theta_{E}{\\left(t \\right)} - \\theta_{O}{\\left(t \\right)} \\right)} + 5 \\sqrt{15} \\sin{\\left(\\theta_{E}{\\left(t \\right)} \\right)} + 25 \\cos{\\left(\\theta_{E}{\\left(t \\right)} \\right)}} + \\frac{5 \\cos{\\left(\\theta_{O}{\\left(t \\right)} \\right)} \\frac{d^{2}}{d t^{2}} \\theta_{O}{\\left(t \\right)}}{- 5 \\sin{\\left(\\theta_{E}{\\left(t \\right)} - \\theta_{O}{\\left(t \\right)} \\right)} + 5 \\sqrt{15} \\sin{\\left(\\theta_{E}{\\left(t \\right)} \\right)} + 25 \\cos{\\left(\\theta_{E}{\\left(t \\right)} \\right)}}$$"
     },
     "metadata": {},
     "output_type": "display_data",
     "jetTransient": {
      "display_id": null
     }
    },
    {
     "data": {
      "text/plain": [
       "<IPython.core.display.Markdown object>"
      ],
      "text/markdown": "at init:$$\\frac{d^{2}}{d t^{2}} \\theta_{O}{\\left(t \\right)} = 0$$"
     },
     "metadata": {},
     "output_type": "display_data",
     "jetTransient": {
      "display_id": null
     }
    },
    {
     "data": {
      "text/plain": [
       "<IPython.core.display.Markdown object>"
      ],
      "text/markdown": "at init:$$\\frac{d}{d t} \\theta_{O}{\\left(t \\right)} = 10$$"
     },
     "metadata": {},
     "output_type": "display_data",
     "jetTransient": {
      "display_id": null
     }
    },
    {
     "data": {
      "text/plain": [
       "<IPython.core.display.Markdown object>"
      ],
      "text/markdown": "at init:$$\\theta_{O}{\\left(t \\right)} = \\frac{\\pi}{2}$$"
     },
     "metadata": {},
     "output_type": "display_data",
     "jetTransient": {
      "display_id": null
     }
    },
    {
     "data": {
      "text/plain": [
       "<IPython.core.display.Markdown object>"
      ],
      "text/markdown": "at init:$$\\theta_{E}{\\left(t \\right)} = \\frac{\\pi}{2}$$"
     },
     "metadata": {},
     "output_type": "display_data",
     "jetTransient": {
      "display_id": null
     }
    },
    {
     "data": {
      "text/plain": [
       "<IPython.core.display.Markdown object>"
      ],
      "text/markdown": "$$\\frac{d}{d t} \\theta_{E}{\\left(t \\right)} = 2$$"
     },
     "metadata": {},
     "output_type": "display_data",
     "jetTransient": {
      "display_id": null
     }
    },
    {
     "data": {
      "text/plain": [
       "<IPython.core.display.Markdown object>"
      ],
      "text/markdown": "$$\\frac{d^{2}}{d t^{2}} \\theta_{E}{\\left(t \\right)} = - \\frac{4 \\sqrt{15}}{3}$$"
     },
     "metadata": {},
     "output_type": "display_data",
     "jetTransient": {
      "display_id": null
     }
    },
    {
     "data": {
      "text/plain": [
       "<IPython.core.display.Markdown object>"
      ],
      "text/markdown": "by geometry:$$\\theta_{B}{\\left(t \\right)} = 5 \\theta_{E}{\\left(t \\right)}$$"
     },
     "metadata": {},
     "output_type": "display_data",
     "jetTransient": {
      "display_id": null
     }
    },
    {
     "data": {
      "text/plain": [
       "<IPython.core.display.Markdown object>"
      ],
      "text/markdown": "so:$$5 \\frac{d}{d t} \\theta_{E}{\\left(t \\right)} = 10$$"
     },
     "metadata": {},
     "output_type": "display_data",
     "jetTransient": {
      "display_id": null
     }
    },
    {
     "data": {
      "text/plain": [
       "<IPython.core.display.Markdown object>"
      ],
      "text/markdown": "so:$$5 \\frac{d^{2}}{d t^{2}} \\theta_{E}{\\left(t \\right)} = - \\frac{20 \\sqrt{15}}{3}$$"
     },
     "metadata": {},
     "output_type": "display_data",
     "jetTransient": {
      "display_id": null
     }
    },
    {
     "data": {
      "text/plain": [
       "<IPython.core.display.Markdown object>"
      ],
      "text/markdown": "given:$$r = 0.1$$"
     },
     "metadata": {},
     "output_type": "display_data",
     "jetTransient": {
      "display_id": null
     }
    },
    {
     "data": {
      "text/plain": [
       "<IPython.core.display.Markdown object>"
      ],
      "text/markdown": "so:$$5 \\frac{d}{d t} \\theta_{E}{\\left(t \\right)} = 10\\tag{answer}$$"
     },
     "metadata": {},
     "output_type": "display_data",
     "jetTransient": {
      "display_id": null
     }
    },
    {
     "data": {
      "text/plain": [
       "<IPython.core.display.Markdown object>"
      ],
      "text/markdown": "so:$$5 \\frac{d^{2}}{d t^{2}} \\theta_{E}{\\left(t \\right)} = - \\frac{20 \\sqrt{15}}{3}\\tag{answer}$$"
     },
     "metadata": {},
     "output_type": "display_data",
     "jetTransient": {
      "display_id": null
     }
    }
   ],
   "execution_count": 218
  },
  {
   "metadata": {},
   "cell_type": "markdown",
   "source": [
    "# 2-19\n",
    "<img src=\"data:image/jpeg;base64,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\" alt=\"screenshot\" />"
   ],
   "id": "2d25b447957db1f3"
  },
  {
   "metadata": {
    "ExecuteTime": {
     "end_time": "2025-09-30T13:37:14.831612Z",
     "start_time": "2025-09-30T13:37:14.327249Z"
    }
   },
   "cell_type": "code",
   "source": [
    "def t219():\n",
    "    reset()\n",
    "    V_a = beautiful_compute('V_a', 0.2, \"given:$\")\n",
    "    AB = beautiful_compute('AB', 0.1 * sqrt(2), \"given:$\")\n",
    "    R = beautiful_compute('R', AB, \"given:$\")\n",
    "\n",
    "    V_C = beautiful_compute('V_C', 0, \"by pure roll:$\")\n",
    "    D_yaw = beautiful_compute('\\\\omega_{yaw}', V_a / R, \"easily:$\")\n",
    "    dis_a = beautiful_compute('d_{A}', R * sin(pi / 4), \"by geometry:$\")\n",
    "    D_axis = beautiful_compute('\\\\omega_{axis}', - V_a / dis_a, \"easily:$\")\n",
    "    V_B = beautiful_compute('V_B', D_axis * 2 * R * sin(pi / 4), \"easily:$\")\n",
    "    beautiful_peek(V_B, \"inlined:$\", tag=\"answer\")\n",
    "\n",
    "    D_axis = substitute_values(D_axis)\n",
    "    Vector_av = beautiful_vector(xi=D_axis * cos(pi / 4), zk=-D_axis * sin(pi / 4))\n",
    "    beautiful_print(Vector_av, \"as vector:$\")\n",
    "\n",
    "    DD_axis = beautiful_compute('\\\\varepsilon_{axis}', D_yaw * D_axis * cos(pi / 4), \"the angular acceleration:$\")\n",
    "    beautiful_peek(DD_axis, \"inlined:$\")\n",
    "    DD_axis = substitute_values(DD_axis)\n",
    "\n",
    "    Vector_aav = beautiful_vector(yj=DD_axis)\n",
    "    beautiful_print(Vector_aav, \"as vector:$\")\n",
    "\n",
    "    C_offset = beautiful_vector(R, 0, -R)\n",
    "    C_offset = substitute_values(C_offset)\n",
    "    beautiful_print(C_offset, \"C offset as vector:$\")\n",
    "    A_C = cross(Vector_aav, C_offset) + Vector_av.cross(cross(Vector_av, C_offset))\n",
    "    # A_C = cross( C_offset,Vector_aav) + cross(cross(C_offset,Vector_av),Vector_av)\n",
    "    beautiful_print(A_C, \"acc of C:$\")\n",
    "\n",
    "    B_offset = beautiful_vector(R, 0, R)\n",
    "    B_offset = substitute_values(B_offset)\n",
    "    beautiful_print(B_offset, \"B offset as vector:$\")\n",
    "    B_C = cross(Vector_aav, B_offset) + Vector_av.cross(cross(Vector_av, B_offset))\n",
    "    beautiful_print(B_C, \"acc of B:$\")\n",
    "\n",
    "\n",
    "t219()"
   ],
   "id": "920a9744325ec2f5",
   "outputs": [
    {
     "data": {
      "text/plain": [
       "<IPython.core.display.Markdown object>"
      ],
      "text/markdown": "given:$$V_{a} = 0.2$$"
     },
     "metadata": {},
     "output_type": "display_data",
     "jetTransient": {
      "display_id": null
     }
    },
    {
     "data": {
      "text/plain": [
       "<IPython.core.display.Markdown object>"
      ],
      "text/markdown": "given:$$AB = 0.1 \\sqrt{2}$$"
     },
     "metadata": {},
     "output_type": "display_data",
     "jetTransient": {
      "display_id": null
     }
    },
    {
     "data": {
      "text/plain": [
       "<IPython.core.display.Markdown object>"
      ],
      "text/markdown": "given:$$R = AB$$"
     },
     "metadata": {},
     "output_type": "display_data",
     "jetTransient": {
      "display_id": null
     }
    },
    {
     "data": {
      "text/plain": [
       "<IPython.core.display.Markdown object>"
      ],
      "text/markdown": "by pure roll:$$V_{C} = 0$$"
     },
     "metadata": {},
     "output_type": "display_data",
     "jetTransient": {
      "display_id": null
     }
    },
    {
     "data": {
      "text/plain": [
       "<IPython.core.display.Markdown object>"
      ],
      "text/markdown": "easily:$$\\omega_{yaw} = \\frac{V_{a}}{R}$$"
     },
     "metadata": {},
     "output_type": "display_data",
     "jetTransient": {
      "display_id": null
     }
    },
    {
     "data": {
      "text/plain": [
       "<IPython.core.display.Markdown object>"
      ],
      "text/markdown": "by geometry:$$d_{A} = \\frac{\\sqrt{2} R}{2}$$"
     },
     "metadata": {},
     "output_type": "display_data",
     "jetTransient": {
      "display_id": null
     }
    },
    {
     "data": {
      "text/plain": [
       "<IPython.core.display.Markdown object>"
      ],
      "text/markdown": "easily:$$\\omega_{axis} = - \\frac{V_{a}}{d_{A}}$$"
     },
     "metadata": {},
     "output_type": "display_data",
     "jetTransient": {
      "display_id": null
     }
    },
    {
     "data": {
      "text/plain": [
       "<IPython.core.display.Markdown object>"
      ],
      "text/markdown": "easily:$$V_{B} = \\sqrt{2} R \\omega_{axis}$$"
     },
     "metadata": {},
     "output_type": "display_data",
     "jetTransient": {
      "display_id": null
     }
    },
    {
     "data": {
      "text/plain": [
       "<IPython.core.display.Markdown object>"
      ],
      "text/markdown": "inlined:$$V_{B} = -0.4\\tag{answer}$$"
     },
     "metadata": {},
     "output_type": "display_data",
     "jetTransient": {
      "display_id": null
     }
    },
    {
     "data": {
      "text/plain": [
       "<IPython.core.display.Markdown object>"
      ],
      "text/markdown": "as vector:$$\\left(- 1.0 \\sqrt{2}\\right)\\mathbf{\\hat{i}_{}} + \\left(1.0 \\sqrt{2}\\right)\\mathbf{\\hat{k}_{}}$$"
     },
     "metadata": {},
     "output_type": "display_data",
     "jetTransient": {
      "display_id": null
     }
    },
    {
     "data": {
      "text/plain": [
       "<IPython.core.display.Markdown object>"
      ],
      "text/markdown": "the angular acceleration:$$\\varepsilon_{axis} = - 1.0 \\sqrt{2} \\omega_{yaw}$$"
     },
     "metadata": {},
     "output_type": "display_data",
     "jetTransient": {
      "display_id": null
     }
    },
    {
     "data": {
      "text/plain": [
       "<IPython.core.display.Markdown object>"
      ],
      "text/markdown": "inlined:$$\\varepsilon_{axis} = -2.0$$"
     },
     "metadata": {},
     "output_type": "display_data",
     "jetTransient": {
      "display_id": null
     }
    },
    {
     "data": {
      "text/plain": [
       "<IPython.core.display.Markdown object>"
      ],
      "text/markdown": "as vector:$$\\left(-2.0\\right)\\mathbf{\\hat{j}_{}}$$"
     },
     "metadata": {},
     "output_type": "display_data",
     "jetTransient": {
      "display_id": null
     }
    },
    {
     "data": {
      "text/plain": [
       "<IPython.core.display.Markdown object>"
      ],
      "text/markdown": "C offset as vector:$$\\left(0.1 \\sqrt{2}\\right)\\mathbf{\\hat{i}_{}} + \\left(- 0.1 \\sqrt{2}\\right)\\mathbf{\\hat{k}_{}}$$"
     },
     "metadata": {},
     "output_type": "display_data",
     "jetTransient": {
      "display_id": null
     }
    },
    {
     "data": {
      "text/plain": [
       "<IPython.core.display.Markdown object>"
      ],
      "text/markdown": "acc of C:$$\\left(0.2 \\sqrt{2}\\right)\\mathbf{\\hat{i}_{}} + \\left(0.2 \\sqrt{2}\\right)\\mathbf{\\hat{k}_{}}$$"
     },
     "metadata": {},
     "output_type": "display_data",
     "jetTransient": {
      "display_id": null
     }
    },
    {
     "data": {
      "text/plain": [
       "<IPython.core.display.Markdown object>"
      ],
      "text/markdown": "B offset as vector:$$\\left(0.1 \\sqrt{2}\\right)\\mathbf{\\hat{i}_{}} + \\left(0.1 \\sqrt{2}\\right)\\mathbf{\\hat{k}_{}}$$"
     },
     "metadata": {},
     "output_type": "display_data",
     "jetTransient": {
      "display_id": null
     }
    },
    {
     "data": {
      "text/plain": [
       "<IPython.core.display.Markdown object>"
      ],
      "text/markdown": "acc of B:$$\\left(- 0.6 \\sqrt{2}\\right)\\mathbf{\\hat{i}_{}} + \\left(- 0.2 \\sqrt{2}\\right)\\mathbf{\\hat{k}_{}}$$"
     },
     "metadata": {},
     "output_type": "display_data",
     "jetTransient": {
      "display_id": null
     }
    }
   ],
   "execution_count": 219
  },
  {
   "metadata": {},
   "cell_type": "markdown",
   "source": [
    "# 2-20\n",
    "<img src=\"data:image/jpeg;base64,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\" alt=\"screenshot\" />"
   ],
   "id": "1f20194332b3fb62"
  },
  {
   "metadata": {
    "ExecuteTime": {
     "end_time": "2025-09-30T13:37:17.192622Z",
     "start_time": "2025-09-30T13:37:15.226565Z"
    }
   },
   "cell_type": "code",
   "source": [
    "def t220():\n",
    "    reset()\n",
    "    r = beautiful_compute('r', 0.1, \"given:$\")\n",
    "    av_yaw = beautiful_compute('\\\\omega_{yaw}', 10)\n",
    "    Vector_av_yaw = beautiful_vector(zk=av_yaw)\n",
    "    beautiful_print(Vector_av_yaw, \"as vector:$\")\n",
    "\n",
    "    theta = beautiful_compute('theta', pi / 6)\n",
    "    CD = beautiful_compute('CD', 0.01 * 5 * sqrt(3))\n",
    "    BC = beautiful_compute('BC', 0.01 * 7.5)\n",
    "    ED = beautiful_compute('ED', r)\n",
    "    DF = beautiful_compute('DF', r)\n",
    "    EF = beautiful_compute('EF', ED + DF)\n",
    "    AB = beautiful_compute('AB', CD * sin(theta) + ED * cos(theta), \"by geometry:$\")\n",
    "    beautiful_peek(AB, \"inlined:$\")\n",
    "    OA = beautiful_compute('OA', AB + BC * tan(theta), \"by geometry:$\")\n",
    "    beautiful_peek(OA, \"inlined:$\")\n",
    "    AG = beautiful_compute('AG', BC + CD * cos(theta), \"by geometry:$\")\n",
    "    beautiful_peek(AG, \"inlined:$\")\n",
    "    AE = beautiful_compute('AE', AG - ED * sin(theta), \"by geometry:$\")\n",
    "    beautiful_peek(AE, \"inlined:$\")\n",
    "\n",
    "    alpha = beautiful_compute('alpha', pi - (pi / 2 - theta) - atan(OA / AE), \"by geometry:$\")\n",
    "    beautiful_peek(alpha, \"inlined:$\")\n",
    "    V_D = beautiful_compute('V_D', av_yaw * AG, \"so:$\")\n",
    "    dist_D = beautiful_compute('dist_D', sin(alpha) * ED, \"by geometry:$\")\n",
    "\n",
    "    av_axis = beautiful_compute('\\\\omega_{axis}', -V_D / dist_D, \"so:$\")\n",
    "    beautiful_peek(av_axis, \"inlined:$\")\n",
    "    Vector_av = beautiful_vector(xi=AE, zk=-OA)\n",
    "    Vector_av = Vector_av * av_axis / Vector_av.magnitude()\n",
    "    Vector_av = substitute_values(Vector_av)\n",
    "\n",
    "    beautiful_print(Vector_av, \" angular vel as vector:$\", tag=\"answer\")\n",
    "    Vector_aav = cross(Vector_av_yaw, Vector_av)\n",
    "    Vector_aav = substitute_values(Vector_aav)\n",
    "    beautiful_print(Vector_aav, \"angular acc as vector:$\", tag=\"answer\")\n",
    "\n",
    "    F_offset = beautiful_vector(xi=AE + EF * sin(theta), zk=-OA + EF * cos(theta))\n",
    "    F_offset = substitute_values(F_offset)\n",
    "    beautiful_print(F_offset, \"F offset as vector:$\")\n",
    "\n",
    "    V_F = cross(Vector_av, F_offset)\n",
    "    beautiful_print(V_F, \"vel of F:$\", tag=\"answer\")\n",
    "    A_F = cross(Vector_aav, F_offset) + Vector_av.cross(cross(Vector_av, F_offset))\n",
    "    beautiful_print(A_F, \"acc of F:$\", tag=\"answer\")\n",
    "\n",
    "\n",
    "t220()"
   ],
   "id": "955c0dc00c29c7f9",
   "outputs": [
    {
     "data": {
      "text/plain": [
       "<IPython.core.display.Markdown object>"
      ],
      "text/markdown": "given:$$r = 0.1$$"
     },
     "metadata": {},
     "output_type": "display_data",
     "jetTransient": {
      "display_id": null
     }
    },
    {
     "data": {
      "text/plain": [
       "<IPython.core.display.Markdown object>"
      ],
      "text/markdown": "$$\\omega_{yaw} = 10$$"
     },
     "metadata": {},
     "output_type": "display_data",
     "jetTransient": {
      "display_id": null
     }
    },
    {
     "data": {
      "text/plain": [
       "<IPython.core.display.Markdown object>"
      ],
      "text/markdown": "as vector:$$\\left(\\omega_{yaw}\\right)\\mathbf{\\hat{k}_{}}$$"
     },
     "metadata": {},
     "output_type": "display_data",
     "jetTransient": {
      "display_id": null
     }
    },
    {
     "data": {
      "text/plain": [
       "<IPython.core.display.Markdown object>"
      ],
      "text/markdown": "$$\\theta = \\frac{\\pi}{6}$$"
     },
     "metadata": {},
     "output_type": "display_data",
     "jetTransient": {
      "display_id": null
     }
    },
    {
     "data": {
      "text/plain": [
       "<IPython.core.display.Markdown object>"
      ],
      "text/markdown": "$$CD = 0.05 \\sqrt{3}$$"
     },
     "metadata": {},
     "output_type": "display_data",
     "jetTransient": {
      "display_id": null
     }
    },
    {
     "data": {
      "text/plain": [
       "<IPython.core.display.Markdown object>"
      ],
      "text/markdown": "$$BC = 0.075$$"
     },
     "metadata": {},
     "output_type": "display_data",
     "jetTransient": {
      "display_id": null
     }
    },
    {
     "data": {
      "text/plain": [
       "<IPython.core.display.Markdown object>"
      ],
      "text/markdown": "$$ED = r$$"
     },
     "metadata": {},
     "output_type": "display_data",
     "jetTransient": {
      "display_id": null
     }
    },
    {
     "data": {
      "text/plain": [
       "<IPython.core.display.Markdown object>"
      ],
      "text/markdown": "$$DF = r$$"
     },
     "metadata": {},
     "output_type": "display_data",
     "jetTransient": {
      "display_id": null
     }
    },
    {
     "data": {
      "text/plain": [
       "<IPython.core.display.Markdown object>"
      ],
      "text/markdown": "$$EF = DF + ED$$"
     },
     "metadata": {},
     "output_type": "display_data",
     "jetTransient": {
      "display_id": null
     }
    },
    {
     "data": {
      "text/plain": [
       "<IPython.core.display.Markdown object>"
      ],
      "text/markdown": "by geometry:$$AB = CD \\sin{\\left(\\theta \\right)} + ED \\cos{\\left(\\theta \\right)}$$"
     },
     "metadata": {},
     "output_type": "display_data",
     "jetTransient": {
      "display_id": null
     }
    },
    {
     "data": {
      "text/plain": [
       "<IPython.core.display.Markdown object>"
      ],
      "text/markdown": "inlined:$$AB = 0.075 \\sqrt{3}$$"
     },
     "metadata": {},
     "output_type": "display_data",
     "jetTransient": {
      "display_id": null
     }
    },
    {
     "data": {
      "text/plain": [
       "<IPython.core.display.Markdown object>"
      ],
      "text/markdown": "by geometry:$$OA = AB + BC \\tan{\\left(\\theta \\right)}$$"
     },
     "metadata": {},
     "output_type": "display_data",
     "jetTransient": {
      "display_id": null
     }
    },
    {
     "data": {
      "text/plain": [
       "<IPython.core.display.Markdown object>"
      ],
      "text/markdown": "inlined:$$OA = 0.1 \\sqrt{3}$$"
     },
     "metadata": {},
     "output_type": "display_data",
     "jetTransient": {
      "display_id": null
     }
    },
    {
     "data": {
      "text/plain": [
       "<IPython.core.display.Markdown object>"
      ],
      "text/markdown": "by geometry:$$AG = BC + CD \\cos{\\left(\\theta \\right)}$$"
     },
     "metadata": {},
     "output_type": "display_data",
     "jetTransient": {
      "display_id": null
     }
    },
    {
     "data": {
      "text/plain": [
       "<IPython.core.display.Markdown object>"
      ],
      "text/markdown": "inlined:$$AG = 0.15$$"
     },
     "metadata": {},
     "output_type": "display_data",
     "jetTransient": {
      "display_id": null
     }
    },
    {
     "data": {
      "text/plain": [
       "<IPython.core.display.Markdown object>"
      ],
      "text/markdown": "by geometry:$$AE = AG - ED \\sin{\\left(\\theta \\right)}$$"
     },
     "metadata": {},
     "output_type": "display_data",
     "jetTransient": {
      "display_id": null
     }
    },
    {
     "data": {
      "text/plain": [
       "<IPython.core.display.Markdown object>"
      ],
      "text/markdown": "inlined:$$AE = 0.1$$"
     },
     "metadata": {},
     "output_type": "display_data",
     "jetTransient": {
      "display_id": null
     }
    },
    {
     "data": {
      "text/plain": [
       "<IPython.core.display.Markdown object>"
      ],
      "text/markdown": "by geometry:$$\\alpha = \\theta - \\operatorname{atan}{\\left(\\frac{OA}{AE} \\right)} + \\frac{\\pi}{2}$$"
     },
     "metadata": {},
     "output_type": "display_data",
     "jetTransient": {
      "display_id": null
     }
    },
    {
     "data": {
      "text/plain": [
       "<IPython.core.display.Markdown object>"
      ],
      "text/markdown": "inlined:$$\\alpha = - \\operatorname{atan}{\\left(1.0 \\sqrt{3} \\right)} + \\frac{2 \\pi}{3}$$"
     },
     "metadata": {},
     "output_type": "display_data",
     "jetTransient": {
      "display_id": null
     }
    },
    {
     "data": {
      "text/plain": [
       "<IPython.core.display.Markdown object>"
      ],
      "text/markdown": "so:$$V_{D} = AG \\omega_{yaw}$$"
     },
     "metadata": {},
     "output_type": "display_data",
     "jetTransient": {
      "display_id": null
     }
    },
    {
     "data": {
      "text/plain": [
       "<IPython.core.display.Markdown object>"
      ],
      "text/markdown": "by geometry:$$dist_{D} = ED \\sin{\\left(\\alpha \\right)}$$"
     },
     "metadata": {},
     "output_type": "display_data",
     "jetTransient": {
      "display_id": null
     }
    },
    {
     "data": {
      "text/plain": [
       "<IPython.core.display.Markdown object>"
      ],
      "text/markdown": "so:$$\\omega_{axis} = - \\frac{V_{D}}{dist_{D}}$$"
     },
     "metadata": {},
     "output_type": "display_data",
     "jetTransient": {
      "display_id": null
     }
    },
    {
     "data": {
      "text/plain": [
       "<IPython.core.display.Markdown object>"
      ],
      "text/markdown": "inlined:$$\\omega_{axis} = - 10.0 \\sqrt{3}$$"
     },
     "metadata": {},
     "output_type": "display_data",
     "jetTransient": {
      "display_id": null
     }
    },
    {
     "data": {
      "text/plain": [
       "<IPython.core.display.Markdown object>"
      ],
      "text/markdown": " angular vel as vector:$$\\left(- 5.0 \\sqrt{3}\\right)\\mathbf{\\hat{i}_{}} + \\left(15.0\\right)\\mathbf{\\hat{k}_{}}\\tag{answer}$$"
     },
     "metadata": {},
     "output_type": "display_data",
     "jetTransient": {
      "display_id": null
     }
    },
    {
     "data": {
      "text/plain": [
       "<IPython.core.display.Markdown object>"
      ],
      "text/markdown": "angular acc as vector:$$\\left(- 50.0 \\sqrt{3}\\right)\\mathbf{\\hat{j}_{}}\\tag{answer}$$"
     },
     "metadata": {},
     "output_type": "display_data",
     "jetTransient": {
      "display_id": null
     }
    },
    {
     "data": {
      "text/plain": [
       "<IPython.core.display.Markdown object>"
      ],
      "text/markdown": "F offset as vector:$$\\left(0.2\\right)\\mathbf{\\hat{i}_{}}$$"
     },
     "metadata": {},
     "output_type": "display_data",
     "jetTransient": {
      "display_id": null
     }
    },
    {
     "data": {
      "text/plain": [
       "<IPython.core.display.Markdown object>"
      ],
      "text/markdown": "vel of F:$$\\left(3.0\\right)\\mathbf{\\hat{j}_{}}\\tag{answer}$$"
     },
     "metadata": {},
     "output_type": "display_data",
     "jetTransient": {
      "display_id": null
     }
    },
    {
     "data": {
      "text/plain": [
       "<IPython.core.display.Markdown object>"
      ],
      "text/markdown": "acc of F:$$\\left(-45.0\\right)\\mathbf{\\hat{i}_{}} + \\left(- 5.0 \\sqrt{3}\\right)\\mathbf{\\hat{k}_{}}\\tag{answer}$$"
     },
     "metadata": {},
     "output_type": "display_data",
     "jetTransient": {
      "display_id": null
     }
    }
   ],
   "execution_count": 220
  }
 ],
 "metadata": {
  "kernelspec": {
   "display_name": "Python 3 (ipykernel)",
   "language": "python",
   "name": "python3"
  },
  "language_info": {
   "codemirror_mode": {
    "name": "ipython",
    "version": 3
   },
   "file_extension": ".py",
   "mimetype": "text/x-python",
   "name": "python",
   "nbconvert_exporter": "python",
   "pygments_lexer": "ipython3",
   "version": "3.13.7"
  }
 },
 "nbformat": 4,
 "nbformat_minor": 5
}
