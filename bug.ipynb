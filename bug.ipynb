{
 "cells": [
  {
   "cell_type": "code",
   "id": "initial_id",
   "metadata": {
    "collapsed": true,
    "ExecuteTime": {
     "end_time": "2025-10-10T14:24:04.665805Z",
     "start_time": "2025-10-10T14:24:04.580934Z"
    }
   },
   "source": [
    "def bar(x):\n",
    "    if x >100:\n",
    "       raise Exception()\n",
    "    bar(x+1)\n",
    "def foo(x):\n",
    "    print('\\n')\n",
    "    if x >100:\n",
    "        return\n",
    "    foo(x+1)\n",
    "\n",
    "bar(0)"
   ],
   "outputs": [
    {
     "ename": "Exception",
     "evalue": "",
     "output_type": "error",
     "traceback": [
      "\u001B[31m---------------------------------------------------------------------------\u001B[39m",
      "\u001B[31mException\u001B[39m                                 Traceback (most recent call last)",
      "\u001B[36mCell\u001B[39m\u001B[36m \u001B[39m\u001B[32mIn[2]\u001B[39m\u001B[32m, line 11\u001B[39m\n\u001B[32m      8\u001B[39m         \u001B[38;5;28;01mreturn\u001B[39;00m\n\u001B[32m      9\u001B[39m     foo(x+\u001B[32m1\u001B[39m)\n\u001B[32m---> \u001B[39m\u001B[32m11\u001B[39m \u001B[43mbar\u001B[49m\u001B[43m(\u001B[49m\u001B[32;43m0\u001B[39;49m\u001B[43m)\u001B[49m\n",
      "\u001B[36mCell\u001B[39m\u001B[36m \u001B[39m\u001B[32mIn[2]\u001B[39m\u001B[32m, line 4\u001B[39m, in \u001B[36mbar\u001B[39m\u001B[34m(x)\u001B[39m\n\u001B[32m      2\u001B[39m \u001B[38;5;28;01mif\u001B[39;00m x >\u001B[32m100\u001B[39m:\n\u001B[32m      3\u001B[39m    \u001B[38;5;28;01mraise\u001B[39;00m \u001B[38;5;167;01mException\u001B[39;00m()\n\u001B[32m----> \u001B[39m\u001B[32m4\u001B[39m \u001B[43mbar\u001B[49m\u001B[43m(\u001B[49m\u001B[43mx\u001B[49m\u001B[43m+\u001B[49m\u001B[32;43m1\u001B[39;49m\u001B[43m)\u001B[49m\n",
      "\u001B[36mCell\u001B[39m\u001B[36m \u001B[39m\u001B[32mIn[2]\u001B[39m\u001B[32m, line 4\u001B[39m, in \u001B[36mbar\u001B[39m\u001B[34m(x)\u001B[39m\n\u001B[32m      2\u001B[39m \u001B[38;5;28;01mif\u001B[39;00m x >\u001B[32m100\u001B[39m:\n\u001B[32m      3\u001B[39m    \u001B[38;5;28;01mraise\u001B[39;00m \u001B[38;5;167;01mException\u001B[39;00m()\n\u001B[32m----> \u001B[39m\u001B[32m4\u001B[39m \u001B[43mbar\u001B[49m\u001B[43m(\u001B[49m\u001B[43mx\u001B[49m\u001B[43m+\u001B[49m\u001B[32;43m1\u001B[39;49m\u001B[43m)\u001B[49m\n",
      "    \u001B[31m[... skipping similar frames: bar at line 4 (98 times)]\u001B[39m\n",
      "\u001B[36mCell\u001B[39m\u001B[36m \u001B[39m\u001B[32mIn[2]\u001B[39m\u001B[32m, line 4\u001B[39m, in \u001B[36mbar\u001B[39m\u001B[34m(x)\u001B[39m\n\u001B[32m      2\u001B[39m \u001B[38;5;28;01mif\u001B[39;00m x >\u001B[32m100\u001B[39m:\n\u001B[32m      3\u001B[39m    \u001B[38;5;28;01mraise\u001B[39;00m \u001B[38;5;167;01mException\u001B[39;00m()\n\u001B[32m----> \u001B[39m\u001B[32m4\u001B[39m \u001B[43mbar\u001B[49m\u001B[43m(\u001B[49m\u001B[43mx\u001B[49m\u001B[43m+\u001B[49m\u001B[32;43m1\u001B[39;49m\u001B[43m)\u001B[49m\n",
      "\u001B[36mCell\u001B[39m\u001B[36m \u001B[39m\u001B[32mIn[2]\u001B[39m\u001B[32m, line 3\u001B[39m, in \u001B[36mbar\u001B[39m\u001B[34m(x)\u001B[39m\n\u001B[32m      1\u001B[39m \u001B[38;5;28;01mdef\u001B[39;00m\u001B[38;5;250m \u001B[39m\u001B[34mbar\u001B[39m(x):\n\u001B[32m      2\u001B[39m     \u001B[38;5;28;01mif\u001B[39;00m x >\u001B[32m100\u001B[39m:\n\u001B[32m----> \u001B[39m\u001B[32m3\u001B[39m        \u001B[38;5;28;01mraise\u001B[39;00m \u001B[38;5;167;01mException\u001B[39;00m()\n\u001B[32m      4\u001B[39m     bar(x+\u001B[32m1\u001B[39m)\n",
      "\u001B[31mException\u001B[39m: "
     ]
    }
   ],
   "execution_count": 2
  },
  {
   "metadata": {},
   "cell_type": "markdown",
   "source": "# another cell",
   "id": "7de4f36c345661b9"
  },
  {
   "metadata": {},
   "cell_type": "code",
   "outputs": [],
   "execution_count": null,
   "source": "",
   "id": "249778f918f16531"
  }
 ],
 "metadata": {
  "kernelspec": {
   "display_name": "Python 3",
   "language": "python",
   "name": "python3"
  },
  "language_info": {
   "codemirror_mode": {
    "name": "ipython",
    "version": 2
   },
   "file_extension": ".py",
   "mimetype": "text/x-python",
   "name": "python",
   "nbconvert_exporter": "python",
   "pygments_lexer": "ipython2",
   "version": "2.7.6"
  }
 },
 "nbformat": 4,
 "nbformat_minor": 5
}
