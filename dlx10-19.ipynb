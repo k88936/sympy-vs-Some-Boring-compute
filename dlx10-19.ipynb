{
 "cells": [
  {
   "cell_type": "markdown",
   "id": "8a77807f92f26ee",
   "metadata": {},
   "source": [
    "# utils & framework"
   ]
  },
  {
   "cell_type": "code",
   "execution_count": null,
   "id": "fbc121e30a2defb3",
   "metadata": {},
   "outputs": [],
   "source": [
    "from typing import List, Any\n",
    "from collections.abc import Iterable\n",
    "\n",
    "import scipy.constants\n",
    "from IPython.core.display import Markdown\n",
    "from sympy import *\n",
    "from sympy.vector import *\n",
    "\n",
    "tag_id = 0\n",
    "conditions = {}\n",
    "values = {}\n",
    "formulas_names = {}\n",
    "restore_stack = []\n",
    "\n",
    "\n",
    "def reset():\n",
    "    global tag_id, conditions, values, formulas_names\n",
    "    if restore_stack:\n",
    "        state = restore_stack[-1]\n",
    "        tag_id = state['tag_id']\n",
    "        conditions = state['conditions'].copy()\n",
    "        values = state['values'].copy()\n",
    "        formulas_names = state['formulas_names'].copy()\n",
    "\n",
    "\n",
    "def push_state():\n",
    "    global restore_stack\n",
    "    restore_stack.append({\n",
    "        'tag_id': tag_id,\n",
    "        'conditions': conditions.copy(),\n",
    "        'values': values.copy(),\n",
    "        'formulas_names': formulas_names.copy()\n",
    "    })\n",
    "\n",
    "\n",
    "def pop_state():\n",
    "    global restore_stack\n",
    "    return restore_stack.pop()\n",
    "\n",
    "\n",
    "def save_as_condition(condition):\n",
    "    global tag_id, conditions\n",
    "    cached_condition_id = tag_id\n",
    "    condition = spf(condition)\n",
    "    conditions[tag_id] = condition\n",
    "    tag_id += 1\n",
    "    return cached_condition_id\n",
    "\n",
    "\n",
    "def substitute_values(expression, mask=None):\n",
    "    while True:\n",
    "        left = False\n",
    "        items = values.items() if mask is None else filter(lambda item: item[0] in mask, values.items())\n",
    "        for (key, value) in items:\n",
    "            before = str(expression)\n",
    "            expression = expression.subs(key, value)\n",
    "            expression = simplify(expression)\n",
    "            if str(expression) != before:\n",
    "                left = True\n",
    "        if not left:\n",
    "            break\n",
    "\n",
    "    return expression\n",
    "\n",
    "\n",
    "def save_as_variable(symbol, value):\n",
    "    global values\n",
    "    if symbol in values.keys():\n",
    "        raise ValueError(f\"variable {symbol} already exists\")\n",
    "    values[symbol] = substitute_values(S(value))\n",
    "\n",
    "\n",
    "def save_as_formula_name(symbol, formula):\n",
    "    global tag_id, formulas_names\n",
    "    tag_id += 1\n",
    "    if symbol in formulas_names.keys():\n",
    "        raise ValueError(f\"formula {symbol} already exists\")\n",
    "    formulas_names[symbol] = formula\n",
    "\n",
    "\n",
    "def beautiful_print(expression, message=\"\", tag=None):\n",
    "    expression = expression if isinstance(expression, str) else latex(expression)\n",
    "    inline = not message.endswith('$')\n",
    "    tag_str = f'\\\\tag{{{tag}}}' if tag is not None else \"\"\n",
    "    if inline:\n",
    "        full_latex = message + '$' + expression + '$'\n",
    "    else:\n",
    "        full_latex = message + '$' + expression + tag_str + '$$'\n",
    "    display(Markdown(full_latex))\n",
    "\n",
    "\n",
    "def beautiful_answer(expression, message=\"$\", f: bool = False):\n",
    "    symbol = expression\n",
    "    expression = spf(expression)\n",
    "    expression = expression.evalf() if f else expression\n",
    "    beautiful_print(Eq(symbol, expression, evaluate=false), message, tag=\"answer\")\n",
    "\n",
    "\n",
    "def beautiful_peek(symbol, message=\"$\", tag=None):\n",
    "    value = substitute_values(symbol)\n",
    "    beautiful_print(Eq(symbol, value, evaluate=False), message, tag)\n",
    "\n",
    "\n",
    "def beautiful_solve(cond, variables, apply: dict = None):\n",
    "    cond = [cond] if not isinstance(cond, Iterable) else cond\n",
    "    display(Markdown(f\"${','.join(f\"\\\\left ( {i} \\\\right ) \" for i in cond)} \\\\Longrightarrow$\"))\n",
    "\n",
    "    variables = [variables] if not isinstance(variables, Iterable) else variables\n",
    "\n",
    "    apply = apply if apply is not None else {}\n",
    "\n",
    "    cond = tuple(map(lambda i: conditions[i].subs(apply), cond))\n",
    "    cond = map(lambda i: substitute_values(i), cond)\n",
    "    solution = solve(cond, tuple(variables), dict=True)[0]\n",
    "    conclusions = []\n",
    "    for (variable, conclusion) in solution.items():\n",
    "        beautiful_print(Eq(variable, conclusion), \"$\")\n",
    "        save_as_variable(variable, conclusion)\n",
    "        conclusions.append(conclusion)\n",
    "\n",
    "\n",
    "def beautiful_condition(expression, message=\"$\"):\n",
    "    beautiful_print(expression(False) if callable(expression) else expression, message, tag_id)\n",
    "    return save_as_condition(expression(True) if callable(expression) else expression)\n",
    "\n",
    "\n",
    "def beautiful_compute(symbol, expression, message=\"$\", tag=None):\n",
    "    symbol = symbols(symbol) if isinstance(symbol, str) else symbol\n",
    "    global tag_id\n",
    "    beautiful_print(Eq(symbol, expression(False) if callable(expression) else expression, evaluate=False), message,\n",
    "                    tag_id if tag else None)\n",
    "    if tag:\n",
    "        tag_id += 1\n",
    "    save_as_variable(symbol, expression(True) if callable(expression) else expression)\n",
    "    return symbol\n",
    "\n",
    "\n",
    "def beautiful_formula(symbol: str, expression: object, message: object = \"$\", ) -> Any:\n",
    "    beautiful_print(f\"{symbol}=\" + latex(expression), message, tag_id)\n",
    "    save_as_formula_name(expression, symbol)\n",
    "    return expression\n",
    "\n",
    "\n",
    "def beautiful_at(formula, subs: dict, message=\"$\", tag: bool = None):\n",
    "    result = simplify(formula.subs(subs))\n",
    "    param = '\\\\,'.join(f\"{latex(item[0])}={latex(item[1])}\" for item in subs.items())\n",
    "    beautiful_print(formulas_names[formula] + f\"\\\\bigg|_{{{param}}}=\" + latex(result), message, tag)\n",
    "    return result\n",
    "\n",
    "\n",
    "def spf(expression):\n",
    "    expression = substitute_values(expression)\n",
    "    expression = simplify(expression)\n",
    "    return expression\n",
    "\n",
    "\n",
    "class D:\n",
    "    def __init__(self, symbol: Symbol, name: str = None):\n",
    "        symbol = 'd' + latex(symbol) if name is None else name\n",
    "        self.symbol = Symbol(symbol)\n",
    "\n",
    "    def __enter__(self):\n",
    "        return self.symbol\n",
    "\n",
    "    def __exit__(self, type, value, traceback):\n",
    "        save_as_variable(self.symbol, 1)\n",
    "\n",
    "\n",
    "def map_vector(vec, func):\n",
    "    return sum(\n",
    "        # 0 is i/j/k sharp, 1 is expr\n",
    "        map(lambda item: func(item[1]) * item[0], vec.components.items()),\n",
    "        Vector.zero\n",
    "    )\n",
    "\n",
    "\n",
    "def series_vector(vec, param, x0=0, n=2):\n",
    "    return map_vector(vec, lambda e: series(e, param, x0, n).removeO())\n",
    "\n",
    "\n",
    "def integrate_vector(vec, param):\n",
    "    return map_vector(vec, lambda e: integrate(e, param))\n",
    "\n",
    "\n",
    "def beautiful_vector(xi=0, yj=0, zk=0):\n",
    "    xi = Symbol(xi) if isinstance(xi, str) else xi\n",
    "    yj = Symbol(yj) if isinstance(yj, str) else yj\n",
    "    zk = Symbol(zk) if isinstance(zk, str) else zk\n",
    "    return xi * coord.i + yj * coord.j + zk * coord.k\n",
    "\n",
    "\n",
    "coord = CoordSys3D('')\n",
    "\n",
    "\n",
    "def refine_piecewise(pw_expr, assume):\n",
    "    \"\"\"Refine a Piecewise expression with given assumptions.\"\"\"\n",
    "    if not isinstance(pw_expr, Piecewise):\n",
    "        return refine(pw_expr, assume)\n",
    "\n",
    "    for expr_val, cond in pw_expr.args:\n",
    "        if cond:  # Default/otherwise branch\n",
    "            return refine(expr_val, assume)\n",
    "        elif ask(cond, assume):\n",
    "            return refine(expr_val, assume)\n",
    "\n",
    "    # If no branch can be definitively chosen, refine each branch\n",
    "    refined_args = [(refine(expr_val, assume), cond)\n",
    "                    for expr_val, cond in pw_expr.args]\n",
    "    return Piecewise(*refined_args)\n"
   ]
  },
  {
   "cell_type": "markdown",
   "id": "55036118566e2ec8",
   "metadata": {},
   "source": [
    "## Common"
   ]
  },
  {
   "cell_type": "code",
   "execution_count": null,
   "id": "3c1bcc504bcddd3f",
   "metadata": {},
   "outputs": [],
   "source": [
    "epsilon = symbols('epsilon_0', positive=True)\n",
    "k = 1 / (4 * pi * epsilon)\n",
    "charge = symbols('q')\n",
    "x = coord.x\n",
    "y = coord.y\n",
    "z = coord.z\n",
    "pos = x * coord.i + y * coord.j + z * coord.k\n",
    "E = beautiful_formula('E', k * charge * pos / pos.magnitude() ** 3, \"by Coulomb's law:$\")\n",
    "electric_flux = Symbol('phi_e')\n",
    "enclosed_charge_sum = Symbol('Q_{sum}')\n",
    "Gauss_law = beautiful_condition(Eq(electric_flux, enclosed_charge_sum / epsilon), \"by Gauss's law:$\")\n",
    "\n",
    "\n",
    "def fn_potential(q, r):\n",
    "    return k * q / r\n",
    "\n",
    "\n",
    "P = beautiful_formula('\\\\varphi', fn_potential(charge, pos.magnitude()), 'electric potential:$')\n",
    "\n",
    "\n",
    "def save_common_consts():\n",
    "    save_as_variable(epsilon, scipy.constants.epsilon_0)\n",
    "    save_as_variable(pi, scipy.constants.pi)\n",
    "\n",
    "\n",
    "push_state()"
   ]
  },
  {
   "cell_type": "markdown",
   "id": "1cf5f86170d73dd6",
   "metadata": {},
   "source": [
    "# 3.6"
   ]
  },
  {
   "cell_type": "code",
   "execution_count": 104,
   "id": "d36058d1c594275b",
   "metadata": {
    "ExecuteTime": {
     "end_time": "2025-10-13T11:03:00.498072Z",
     "start_time": "2025-10-13T11:02:51.326349Z"
    }
   },
   "outputs": [
    {
     "data": {
      "text/markdown": [
       "axis in pole:$$x{\\left(t \\right)} = r{\\left(t \\right)} \\cos{\\left(\\phi{\\left(t \\right)} \\right)}$$"
      ],
      "text/plain": [
       "<IPython.core.display.Markdown object>"
      ]
     },
     "jetTransient": {
      "display_id": null
     },
     "metadata": {},
     "output_type": "display_data"
    },
    {
     "data": {
      "text/markdown": [
       "axis in pole:$$y{\\left(t \\right)} = r{\\left(t \\right)} \\sin{\\left(\\phi{\\left(t \\right)} \\right)}$$"
      ],
      "text/plain": [
       "<IPython.core.display.Markdown object>"
      ]
     },
     "jetTransient": {
      "display_id": null
     },
     "metadata": {},
     "output_type": "display_data"
    },
    {
     "data": {
      "text/markdown": [
       "by const speed:$$\\frac{d^{2}}{d t^{2}} x{\\left(t \\right)} = 0\\tag{3}$$"
      ],
      "text/plain": [
       "<IPython.core.display.Markdown object>"
      ]
     },
     "jetTransient": {
      "display_id": null
     },
     "metadata": {},
     "output_type": "display_data"
    },
    {
     "data": {
      "text/markdown": [
       "that is :$$- \\left(\\sin{\\left(\\phi{\\left(t \\right)} \\right)} \\frac{d^{2}}{d t^{2}} \\phi{\\left(t \\right)} + \\cos{\\left(\\phi{\\left(t \\right)} \\right)} \\left(\\frac{d}{d t} \\phi{\\left(t \\right)}\\right)^{2}\\right) r{\\left(t \\right)} - 2 \\sin{\\left(\\phi{\\left(t \\right)} \\right)} \\frac{d}{d t} \\phi{\\left(t \\right)} \\frac{d}{d t} r{\\left(t \\right)} + \\cos{\\left(\\phi{\\left(t \\right)} \\right)} \\frac{d^{2}}{d t^{2}} r{\\left(t \\right)} = 0\\tag{4}$$"
      ],
      "text/plain": [
       "<IPython.core.display.Markdown object>"
      ]
     },
     "jetTransient": {
      "display_id": null
     },
     "metadata": {},
     "output_type": "display_data"
    },
    {
     "data": {
      "text/markdown": [
       "by const speed:$$\\frac{d^{2}}{d t^{2}} y{\\left(t \\right)} = 0\\tag{5}$$"
      ],
      "text/plain": [
       "<IPython.core.display.Markdown object>"
      ]
     },
     "jetTransient": {
      "display_id": null
     },
     "metadata": {},
     "output_type": "display_data"
    },
    {
     "data": {
      "text/markdown": [
       "that is :$$- \\left(\\sin{\\left(\\phi{\\left(t \\right)} \\right)} \\left(\\frac{d}{d t} \\phi{\\left(t \\right)}\\right)^{2} - \\cos{\\left(\\phi{\\left(t \\right)} \\right)} \\frac{d^{2}}{d t^{2}} \\phi{\\left(t \\right)}\\right) r{\\left(t \\right)} + \\sin{\\left(\\phi{\\left(t \\right)} \\right)} \\frac{d^{2}}{d t^{2}} r{\\left(t \\right)} + 2 \\cos{\\left(\\phi{\\left(t \\right)} \\right)} \\frac{d}{d t} \\phi{\\left(t \\right)} \\frac{d}{d t} r{\\left(t \\right)} = 0\\tag{6}$$"
      ],
      "text/plain": [
       "<IPython.core.display.Markdown object>"
      ]
     },
     "jetTransient": {
      "display_id": null
     },
     "metadata": {},
     "output_type": "display_data"
    },
    {
     "data": {
      "text/markdown": [
       "$\\left ( 4 \\right ) ,\\left ( 6 \\right )  \\Longrightarrow$"
      ],
      "text/plain": [
       "<IPython.core.display.Markdown object>"
      ]
     },
     "jetTransient": {
      "display_id": null
     },
     "metadata": {},
     "output_type": "display_data"
    },
    {
     "data": {
      "text/markdown": [
       "$$\\frac{d^{2}}{d t^{2}} \\phi{\\left(t \\right)} = - \\frac{2 \\frac{d}{d t} \\phi{\\left(t \\right)} \\frac{d}{d t} r{\\left(t \\right)}}{r{\\left(t \\right)}}$$"
      ],
      "text/plain": [
       "<IPython.core.display.Markdown object>"
      ]
     },
     "jetTransient": {
      "display_id": null
     },
     "metadata": {},
     "output_type": "display_data"
    },
    {
     "data": {
      "text/markdown": [
       "$$\\frac{d^{2}}{d t^{2}} r{\\left(t \\right)} = r{\\left(t \\right)} \\left(\\frac{d}{d t} \\phi{\\left(t \\right)}\\right)^{2}$$"
      ],
      "text/plain": [
       "<IPython.core.display.Markdown object>"
      ]
     },
     "jetTransient": {
      "display_id": null
     },
     "metadata": {},
     "output_type": "display_data"
    }
   ],
   "source": [
    "def t36():\n",
    "    reset()\n",
    "    t = Symbol('t')\n",
    "    phi = Function('phi')(t)\n",
    "    r = Function('r')(t)\n",
    "    x = beautiful_compute(Function('x')(t), r * cos(phi), \"axis in pole:$\")\n",
    "    y = beautiful_compute(Function('y')(t), r * sin(phi), \"axis in pole:$\")\n",
    "\n",
    "    c1 = beautiful_condition(Eq(diff(x, t, 2), 0), \"by const speed:$\")\n",
    "    c1 = beautiful_condition(Eq(diff(substitute_values(x), t, 2), 0), \"that is :$\")\n",
    "    c2 = beautiful_condition(Eq(diff(y, t, 2), 0), \"by const speed:$\")\n",
    "    c2 = beautiful_condition(Eq(diff(substitute_values(y), t, 2), 0), \"that is :$\")\n",
    "\n",
    "    dd_phi = diff(phi, t, 2)\n",
    "    dd_r = diff(r, t, 2)\n",
    "    beautiful_solve([c1, c2], [dd_phi, dd_r])\n",
    "\n",
    "\n",
    "t36()"
   ]
  },
  {
   "cell_type": "markdown",
   "id": "16ad58dfd743ae87",
   "metadata": {},
   "source": [
    "# 3.7"
   ]
  },
  {
   "cell_type": "code",
   "execution_count": 105,
   "id": "672ceb8da40d4e88",
   "metadata": {
    "ExecuteTime": {
     "end_time": "2025-10-13T11:03:06.606014Z",
     "start_time": "2025-10-13T11:03:00.540213Z"
    }
   },
   "outputs": [
    {
     "data": {
      "text/markdown": [
       "by geometry:$$\\rho{\\left(t \\right)} = - V_{0} t + l$$"
      ],
      "text/plain": [
       "<IPython.core.display.Markdown object>"
      ]
     },
     "jetTransient": {
      "display_id": null
     },
     "metadata": {},
     "output_type": "display_data"
    },
    {
     "data": {
      "text/markdown": [
       "by geometry:$$l \\cos{\\left(\\phi{\\left(t \\right)} \\right)} = \\rho{\\left(t \\right)} + x{\\left(t \\right)}\\tag{3}$$"
      ],
      "text/plain": [
       "<IPython.core.display.Markdown object>"
      ]
     },
     "jetTransient": {
      "display_id": null
     },
     "metadata": {},
     "output_type": "display_data"
    },
    {
     "data": {
      "text/markdown": [
       "by geometry:$$l \\sin{\\left(\\phi{\\left(t \\right)} \\right)} = y{\\left(t \\right)}\\tag{4}$$"
      ],
      "text/plain": [
       "<IPython.core.display.Markdown object>"
      ]
     },
     "jetTransient": {
      "display_id": null
     },
     "metadata": {},
     "output_type": "display_data"
    },
    {
     "data": {
      "text/markdown": [
       "then:$$V_{0} - l \\sin{\\left(\\phi{\\left(t \\right)} \\right)} \\frac{d}{d t} \\phi{\\left(t \\right)} - \\frac{d}{d t} x{\\left(t \\right)} = 0\\tag{5}$$"
      ],
      "text/plain": [
       "<IPython.core.display.Markdown object>"
      ]
     },
     "jetTransient": {
      "display_id": null
     },
     "metadata": {},
     "output_type": "display_data"
    },
    {
     "data": {
      "text/markdown": [
       "then:$$l \\cos{\\left(\\phi{\\left(t \\right)} \\right)} \\frac{d}{d t} \\phi{\\left(t \\right)} - \\frac{d}{d t} y{\\left(t \\right)} = 0\\tag{6}$$"
      ],
      "text/plain": [
       "<IPython.core.display.Markdown object>"
      ]
     },
     "jetTransient": {
      "display_id": null
     },
     "metadata": {},
     "output_type": "display_data"
    },
    {
     "data": {
      "text/markdown": [
       "$\\left ( 3 \\right )  \\Longrightarrow$"
      ],
      "text/plain": [
       "<IPython.core.display.Markdown object>"
      ]
     },
     "jetTransient": {
      "display_id": null
     },
     "metadata": {},
     "output_type": "display_data"
    },
    {
     "data": {
      "text/markdown": [
       "$$\\cos{\\left(\\phi{\\left(t \\right)} \\right)} = - \\frac{V_{0} t}{l} + 1 + \\frac{x{\\left(t \\right)}}{l}$$"
      ],
      "text/plain": [
       "<IPython.core.display.Markdown object>"
      ]
     },
     "jetTransient": {
      "display_id": null
     },
     "metadata": {},
     "output_type": "display_data"
    },
    {
     "data": {
      "text/markdown": [
       "$\\left ( 4 \\right )  \\Longrightarrow$"
      ],
      "text/plain": [
       "<IPython.core.display.Markdown object>"
      ]
     },
     "jetTransient": {
      "display_id": null
     },
     "metadata": {},
     "output_type": "display_data"
    },
    {
     "data": {
      "text/markdown": [
       "$$\\sin{\\left(\\phi{\\left(t \\right)} \\right)} = \\frac{y{\\left(t \\right)}}{l}$$"
      ],
      "text/plain": [
       "<IPython.core.display.Markdown object>"
      ]
     },
     "jetTransient": {
      "display_id": null
     },
     "metadata": {},
     "output_type": "display_data"
    },
    {
     "data": {
      "text/markdown": [
       "$\\left ( 5 \\right ) ,\\left ( 6 \\right )  \\Longrightarrow$"
      ],
      "text/plain": [
       "<IPython.core.display.Markdown object>"
      ]
     },
     "jetTransient": {
      "display_id": null
     },
     "metadata": {},
     "output_type": "display_data"
    },
    {
     "data": {
      "text/markdown": [
       "$$x{\\left(t \\right)} = \\frac{V_{0} \\omega_{0} t - l \\omega_{0} + \\frac{d}{d t} y{\\left(t \\right)}}{\\omega_{0}}$$"
      ],
      "text/plain": [
       "<IPython.core.display.Markdown object>"
      ]
     },
     "jetTransient": {
      "display_id": null
     },
     "metadata": {},
     "output_type": "display_data"
    },
    {
     "data": {
      "text/markdown": [
       "$$y{\\left(t \\right)} = \\frac{V_{0} - \\frac{d}{d t} x{\\left(t \\right)}}{\\omega_{0}}$$"
      ],
      "text/plain": [
       "<IPython.core.display.Markdown object>"
      ]
     },
     "jetTransient": {
      "display_id": null
     },
     "metadata": {},
     "output_type": "display_data"
    }
   ],
   "source": [
    "def t37():\n",
    "    reset()\n",
    "    t = Symbol('t')\n",
    "    phi = Function('phi')(t)\n",
    "    x = Function('x')(t)\n",
    "    y = Function('y')(t)\n",
    "    l = Symbol('l')\n",
    "    V0 = Symbol('V0')\n",
    "    rho = beautiful_compute(Function('rho')(t), l - V0 * t, \"by geometry:$\")\n",
    "\n",
    "    c1 = beautiful_condition(Eq(l * cos(phi), x + rho), \"by geometry:$\")\n",
    "    c2 = beautiful_condition(Eq(l * sin(phi), y), \"by geometry:$\")\n",
    "    c11 = beautiful_condition(Eq(diff(l * cos(phi) - (x + substitute_values(rho)), t), 0), \"then:$\")\n",
    "    c22 = beautiful_condition(Eq(diff(l * sin(phi) - y, t), 0), \"then:$\")\n",
    "    w0 = Symbol('omega_0')\n",
    "    save_as_variable(diff(phi, t), w0)\n",
    "    beautiful_solve(c1, cos(phi))\n",
    "    beautiful_solve(c2, sin(phi))\n",
    "    # ccc= beautiful_compute('')\n",
    "    # c8= beautiful_condition(Eq(diff(tan(phi), t), 0), \"given :$\")\n",
    "    beautiful_solve([c11, c22], [x, y])\n",
    "    reset()\n",
    "\n",
    "\n",
    "t37()"
   ]
  },
  {
   "metadata": {
    "ExecuteTime": {
     "end_time": "2025-10-13T11:06:32.199002Z",
     "start_time": "2025-10-13T11:06:32.000884Z"
    }
   },
   "cell_type": "code",
   "source": [
    "import sympy as sp\n",
    "\n",
    "# Define symbols\n",
    "t = sp.symbols('t')\n",
    "V0, omega0, l = sp.symbols('V0 omega0 l', real=True)\n",
    "x = sp.Function('x')(t)\n",
    "y = sp.Function('y')(t)\n",
    "\n",
    "# Define derivatives\n",
    "x_prime = sp.Derivative(x, t)\n",
    "y_prime = sp.Derivative(y, t)\n",
    "\n",
    "# Define the system of ODEs\n",
    "eq1 = sp.Eq(x_prime, V0 - omega0 * y)\n",
    "eq2 = sp.Eq(y_prime, omega0 * x - V0 * omega0 * t + l * omega0)\n",
    "\n",
    "# Solve the system\n",
    "solution = sp.dsolve([eq1, eq2], [x, y])\n",
    "\n",
    "print(\"Solution:\")\n",
    "for sol in solution:\n",
    "    beautiful_print(sol)"
   ],
   "id": "47b202f4bba4954f",
   "outputs": [
    {
     "name": "stdout",
     "output_type": "stream",
     "text": [
      "Solution:\n"
     ]
    },
    {
     "data": {
      "text/plain": [
       "<IPython.core.display.Markdown object>"
      ],
      "text/markdown": "$x{\\left(t \\right)} = - C_{1} \\sin{\\left(\\omega_{0} t \\right)} - C_{2} \\cos{\\left(\\omega_{0} t \\right)} + V_{0} \\omega_{0} \\left(\\begin{cases} \\frac{t \\sin{\\left(\\omega_{0} t \\right)}}{\\omega_{0}} + \\frac{\\cos{\\left(\\omega_{0} t \\right)}}{\\omega_{0}^{2}} & \\text{for}\\: \\omega_{0} \\neq 0 \\\\\\frac{t^{2}}{2} & \\text{otherwise} \\end{cases}\\right) \\sin{\\left(\\omega_{0} t \\right)} - V_{0} \\omega_{0} \\left(\\begin{cases} - \\frac{t \\cos{\\left(\\omega_{0} t \\right)}}{\\omega_{0}} + \\frac{\\sin{\\left(\\omega_{0} t \\right)}}{\\omega_{0}^{2}} & \\text{for}\\: \\omega_{0} \\neq 0 \\\\0 & \\text{otherwise} \\end{cases}\\right) \\cos{\\left(\\omega_{0} t \\right)} + V_{0} \\left(\\begin{cases} \\frac{\\sin{\\left(\\omega_{0} t \\right)}}{\\omega_{0}} & \\text{for}\\: \\omega_{0} \\neq 0 \\\\t & \\text{otherwise} \\end{cases}\\right) \\cos{\\left(\\omega_{0} t \\right)} + V_{0} \\left(\\begin{cases} - \\frac{\\cos{\\left(\\omega_{0} t \\right)}}{\\omega_{0}} & \\text{for}\\: \\omega_{0} \\neq 0 \\\\0 & \\text{otherwise} \\end{cases}\\right) \\sin{\\left(\\omega_{0} t \\right)} - l \\omega_{0} \\left(\\begin{cases} \\frac{\\sin{\\left(\\omega_{0} t \\right)}}{\\omega_{0}} & \\text{for}\\: \\omega_{0} \\neq 0 \\\\t & \\text{otherwise} \\end{cases}\\right) \\sin{\\left(\\omega_{0} t \\right)} + l \\omega_{0} \\left(\\begin{cases} - \\frac{\\cos{\\left(\\omega_{0} t \\right)}}{\\omega_{0}} & \\text{for}\\: \\omega_{0} \\neq 0 \\\\0 & \\text{otherwise} \\end{cases}\\right) \\cos{\\left(\\omega_{0} t \\right)}$"
     },
     "metadata": {},
     "output_type": "display_data",
     "jetTransient": {
      "display_id": null
     }
    },
    {
     "data": {
      "text/plain": [
       "<IPython.core.display.Markdown object>"
      ],
      "text/markdown": "$y{\\left(t \\right)} = C_{1} \\cos{\\left(\\omega_{0} t \\right)} - C_{2} \\sin{\\left(\\omega_{0} t \\right)} - V_{0} \\omega_{0} \\left(\\begin{cases} \\frac{t \\sin{\\left(\\omega_{0} t \\right)}}{\\omega_{0}} + \\frac{\\cos{\\left(\\omega_{0} t \\right)}}{\\omega_{0}^{2}} & \\text{for}\\: \\omega_{0} \\neq 0 \\\\\\frac{t^{2}}{2} & \\text{otherwise} \\end{cases}\\right) \\cos{\\left(\\omega_{0} t \\right)} - V_{0} \\omega_{0} \\left(\\begin{cases} - \\frac{t \\cos{\\left(\\omega_{0} t \\right)}}{\\omega_{0}} + \\frac{\\sin{\\left(\\omega_{0} t \\right)}}{\\omega_{0}^{2}} & \\text{for}\\: \\omega_{0} \\neq 0 \\\\0 & \\text{otherwise} \\end{cases}\\right) \\sin{\\left(\\omega_{0} t \\right)} + V_{0} \\left(\\begin{cases} \\frac{\\sin{\\left(\\omega_{0} t \\right)}}{\\omega_{0}} & \\text{for}\\: \\omega_{0} \\neq 0 \\\\t & \\text{otherwise} \\end{cases}\\right) \\sin{\\left(\\omega_{0} t \\right)} - V_{0} \\left(\\begin{cases} - \\frac{\\cos{\\left(\\omega_{0} t \\right)}}{\\omega_{0}} & \\text{for}\\: \\omega_{0} \\neq 0 \\\\0 & \\text{otherwise} \\end{cases}\\right) \\cos{\\left(\\omega_{0} t \\right)} + l \\omega_{0} \\left(\\begin{cases} \\frac{\\sin{\\left(\\omega_{0} t \\right)}}{\\omega_{0}} & \\text{for}\\: \\omega_{0} \\neq 0 \\\\t & \\text{otherwise} \\end{cases}\\right) \\cos{\\left(\\omega_{0} t \\right)} + l \\omega_{0} \\left(\\begin{cases} - \\frac{\\cos{\\left(\\omega_{0} t \\right)}}{\\omega_{0}} & \\text{for}\\: \\omega_{0} \\neq 0 \\\\0 & \\text{otherwise} \\end{cases}\\right) \\sin{\\left(\\omega_{0} t \\right)}$"
     },
     "metadata": {},
     "output_type": "display_data",
     "jetTransient": {
      "display_id": null
     }
    }
   ],
   "execution_count": 107
  },
  {
   "cell_type": "markdown",
   "id": "8b5ce39b5f2e01d2",
   "metadata": {},
   "source": [
    "# 3.8\n"
   ]
  },
  {
   "cell_type": "code",
   "execution_count": 103,
   "id": "1d5d13d44a480101",
   "metadata": {
    "ExecuteTime": {
     "end_time": "2025-10-13T11:02:46.379071Z",
     "start_time": "2025-10-13T11:02:45.691659Z"
    }
   },
   "outputs": [
    {
     "data": {
      "text/markdown": [
       "by geometry:$$\\tan{\\left(\\theta{\\left(t \\right)} \\right)} = \\frac{y_{a}{\\left(t \\right)}}{l}\\tag{3}$$"
      ],
      "text/plain": [
       "<IPython.core.display.Markdown object>"
      ]
     },
     "jetTransient": {
      "display_id": null
     },
     "metadata": {},
     "output_type": "display_data"
    },
    {
     "data": {
      "text/markdown": [
       "$\\left ( 3 \\right )  \\Longrightarrow$"
      ],
      "text/plain": [
       "<IPython.core.display.Markdown object>"
      ]
     },
     "jetTransient": {
      "display_id": null
     },
     "metadata": {},
     "output_type": "display_data"
    },
    {
     "data": {
      "text/markdown": [
       "$$\\theta{\\left(t \\right)} = \\operatorname{atan}{\\left(\\frac{y_{a}{\\left(t \\right)}}{l} \\right)}$$"
      ],
      "text/plain": [
       "<IPython.core.display.Markdown object>"
      ]
     },
     "jetTransient": {
      "display_id": null
     },
     "metadata": {},
     "output_type": "display_data"
    },
    {
     "data": {
      "text/markdown": [
       "by geometry:$$V_{c} = a \\frac{d}{d t} \\theta{\\left(t \\right)}$$"
      ],
      "text/plain": [
       "<IPython.core.display.Markdown object>"
      ]
     },
     "jetTransient": {
      "display_id": null
     },
     "metadata": {},
     "output_type": "display_data"
    },
    {
     "data": {
      "text/markdown": [
       "$$V_{c} = \\frac{a l u}{l^{2} + t^{2} u^{2}}$$"
      ],
      "text/plain": [
       "<IPython.core.display.Markdown object>"
      ]
     },
     "jetTransient": {
      "display_id": null
     },
     "metadata": {},
     "output_type": "display_data"
    },
    {
     "data": {
      "text/markdown": [
       "given:$$\\theta{\\left(t \\right)} = \\frac{\\pi}{4}\\tag{4}$$"
      ],
      "text/plain": [
       "<IPython.core.display.Markdown object>"
      ]
     },
     "jetTransient": {
      "display_id": null
     },
     "metadata": {},
     "output_type": "display_data"
    },
    {
     "data": {
      "text/markdown": [
       "$\\left ( 4 \\right )  \\Longrightarrow$"
      ],
      "text/plain": [
       "<IPython.core.display.Markdown object>"
      ]
     },
     "jetTransient": {
      "display_id": null
     },
     "metadata": {},
     "output_type": "display_data"
    },
    {
     "data": {
      "text/markdown": [
       "$$t = \\frac{l}{u}$$"
      ],
      "text/plain": [
       "<IPython.core.display.Markdown object>"
      ]
     },
     "jetTransient": {
      "display_id": null
     },
     "metadata": {},
     "output_type": "display_data"
    },
    {
     "data": {
      "text/markdown": [
       "$$V_{c} = \\frac{a u}{2 l}\\tag{answer}$$"
      ],
      "text/plain": [
       "<IPython.core.display.Markdown object>"
      ]
     },
     "jetTransient": {
      "display_id": null
     },
     "metadata": {},
     "output_type": "display_data"
    }
   ],
   "source": [
    "reset()\n",
    "\n",
    "\n",
    "def t38():\n",
    "    t = Symbol('t')\n",
    "    ya = Function('y_a')(t)\n",
    "    theta = Function('theta')(t)\n",
    "    a = Symbol('a')\n",
    "    l = Symbol('l')\n",
    "    c0 = beautiful_condition(Eq(tan(theta), ya / l), \"by geometry:$\")\n",
    "    beautiful_solve(c0, theta)\n",
    "\n",
    "    dtt = beautiful_compute('V_c', a * diff(theta, t), \"by geometry:$\")\n",
    "    u = Symbol('u')\n",
    "    save_as_variable(ya, u * t)\n",
    "    beautiful_peek(dtt)\n",
    "\n",
    "    c2 = beautiful_condition(Eq(theta, pi / 4), \"given:$\")\n",
    "    beautiful_solve(c2, t)\n",
    "\n",
    "    beautiful_answer(dtt)\n",
    "\n",
    "\n",
    "t38()"
   ]
  },
  {
   "cell_type": "markdown",
   "id": "b2c286ddcd8956bc",
   "metadata": {},
   "source": [
    "# 3.15\n",
    "<img src=\"data:image/jpeg;base64,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\" alt=\"screenshot\" />"
   ]
  },
  {
   "cell_type": "code",
   "execution_count": null,
   "id": "41fb7daa2e90b871",
   "metadata": {},
   "outputs": [],
   "source": [
    "reset()\n",
    "\n",
    "\n",
    "def t315():\n",
    "    omega_e = Symbol('omega_e')\n",
    "    omega_r = Symbol('omega_r')\n",
    "    omega = Symbol('omega',positive=True)\n",
    "    beautiful_compute(omega_e, omega, \"give:$\")\n",
    "    beautiful_compute(omega_r, omega * 4, \"give:$\")\n",
    "    t = Symbol('t')\n",
    "    theta = beautiful_compute('theta', omega_e * t, \"init at time 0:$\")\n",
    "    R = Symbol('R',positive=True)\n",
    "    l = beautiful_compute('l', omega_r * t*R + 3 * R, \"init at time 0:$\")\n",
    "\n",
    "    tfm = Matrix([[cos(theta), -sin(theta)],\n",
    "                  [sin(theta), cos(theta)]])\n",
    "    pos = beautiful_compute('pos', tfm * Matrix([l, R]))\n",
    "    beautiful_peek(pos,\"inlined:$\")\n",
    "    vel = beautiful_compute('vel',diff(substitute_values(pos),t),\"diff:$\")\n",
    "    save_as_variable(t,0)\n",
    "    beautiful_peek(vel,\"inlined:$\")\n",
    "    vel =substitute_values(vel)\n",
    "    beautiful_print(sqrt(vel.dot(vel)),\"length:$\",tag =\"answer\")\n",
    "\n",
    "t315()"
   ]
  },
  {
   "cell_type": "markdown",
   "id": "590f5bf750abaf69",
   "metadata": {},
   "source": [
    "# 3.16\n",
    "<img src=\"data:image/jpeg;base64,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\" alt=\"screenshot\" />"
   ]
  },
  {
   "cell_type": "code",
   "execution_count": 102,
   "id": "35e922cc331a9c6b",
   "metadata": {
    "ExecuteTime": {
     "end_time": "2025-10-13T11:01:17.957232Z",
     "start_time": "2025-10-13T11:01:15.711667Z"
    }
   },
   "outputs": [
    {
     "data": {
      "text/markdown": [
       "by geometry:$$l{\\left(t \\right)} = R \\cos{\\left(\\alpha{\\left(t \\right)} \\right)} + e \\cos{\\left(\\beta{\\left(t \\right)} \\right)}$$"
      ],
      "text/plain": [
       "<IPython.core.display.Markdown object>"
      ]
     },
     "jetTransient": {
      "display_id": null
     },
     "metadata": {},
     "output_type": "display_data"
    },
    {
     "data": {
      "text/markdown": [
       "by geometry:$$R \\sin{\\left(\\alpha{\\left(t \\right)} \\right)} - e \\sin{\\left(\\beta{\\left(t \\right)} \\right)} = 0\\tag{3}$$"
      ],
      "text/plain": [
       "<IPython.core.display.Markdown object>"
      ]
     },
     "jetTransient": {
      "display_id": null
     },
     "metadata": {},
     "output_type": "display_data"
    },
    {
     "data": {
      "text/markdown": [
       "diff :$$R \\cos{\\left(\\alpha{\\left(t \\right)} \\right)} \\frac{d}{d t} \\alpha{\\left(t \\right)} - e \\cos{\\left(\\beta{\\left(t \\right)} \\right)} \\frac{d}{d t} \\beta{\\left(t \\right)} = 0\\tag{4}$$"
      ],
      "text/plain": [
       "<IPython.core.display.Markdown object>"
      ]
     },
     "jetTransient": {
      "display_id": null
     },
     "metadata": {},
     "output_type": "display_data"
    },
    {
     "data": {
      "text/markdown": [
       "$\\left ( 4 \\right )  \\Longrightarrow$"
      ],
      "text/plain": [
       "<IPython.core.display.Markdown object>"
      ]
     },
     "jetTransient": {
      "display_id": null
     },
     "metadata": {},
     "output_type": "display_data"
    },
    {
     "data": {
      "text/markdown": [
       "$$\\frac{d}{d t} \\alpha{\\left(t \\right)} = \\frac{e \\cos{\\left(\\beta{\\left(t \\right)} \\right)} \\frac{d}{d t} \\beta{\\left(t \\right)}}{R \\cos{\\left(\\alpha{\\left(t \\right)} \\right)}}$$"
      ],
      "text/plain": [
       "<IPython.core.display.Markdown object>"
      ]
     },
     "jetTransient": {
      "display_id": null
     },
     "metadata": {},
     "output_type": "display_data"
    },
    {
     "data": {
      "text/markdown": [
       "$\\left ( 3 \\right )  \\Longrightarrow$"
      ],
      "text/plain": [
       "<IPython.core.display.Markdown object>"
      ]
     },
     "jetTransient": {
      "display_id": null
     },
     "metadata": {},
     "output_type": "display_data"
    },
    {
     "data": {
      "text/markdown": [
       "$$\\alpha{\\left(t \\right)} = \\pi - \\operatorname{asin}{\\left(\\frac{e \\sin{\\left(\\beta{\\left(t \\right)} \\right)}}{R} \\right)}$$"
      ],
      "text/plain": [
       "<IPython.core.display.Markdown object>"
      ]
     },
     "jetTransient": {
      "display_id": null
     },
     "metadata": {},
     "output_type": "display_data"
    },
    {
     "data": {
      "text/markdown": [
       "given:$$\\frac{d}{d t} \\beta{\\left(t \\right)} = \\omega$$"
      ],
      "text/plain": [
       "<IPython.core.display.Markdown object>"
      ]
     },
     "jetTransient": {
      "display_id": null
     },
     "metadata": {},
     "output_type": "display_data"
    },
    {
     "data": {
      "text/markdown": [
       "because $\\theta=0$:$$\\beta{\\left(t \\right)} = \\frac{\\pi}{2}$$"
      ],
      "text/plain": [
       "<IPython.core.display.Markdown object>"
      ]
     },
     "jetTransient": {
      "display_id": null
     },
     "metadata": {},
     "output_type": "display_data"
    },
    {
     "data": {
      "text/markdown": [
       "inlined:$$\\frac{d}{d t} \\alpha{\\left(t \\right)} = 0$$"
      ],
      "text/plain": [
       "<IPython.core.display.Markdown object>"
      ]
     },
     "jetTransient": {
      "display_id": null
     },
     "metadata": {},
     "output_type": "display_data"
    },
    {
     "data": {
      "text/markdown": [
       "inlined:$$\\alpha{\\left(t \\right)} = \\pi - \\operatorname{asin}{\\left(\\frac{e}{R} \\right)}$$"
      ],
      "text/plain": [
       "<IPython.core.display.Markdown object>"
      ]
     },
     "jetTransient": {
      "display_id": null
     },
     "metadata": {},
     "output_type": "display_data"
    },
    {
     "data": {
      "text/markdown": [
       "$$\\frac{d}{d t} l{\\left(t \\right)} = - e \\omega\\tag{answer}$$"
      ],
      "text/plain": [
       "<IPython.core.display.Markdown object>"
      ]
     },
     "jetTransient": {
      "display_id": null
     },
     "metadata": {},
     "output_type": "display_data"
    }
   ],
   "source": [
    "reset()\n",
    "def t316():\n",
    "\n",
    "t316()"
   ]
  }
 ],
 "metadata": {
  "kernelspec": {
   "display_name": "Python 3 (ipykernel)",
   "language": "python",
   "name": "python3"
  },
  "language_info": {
   "codemirror_mode": {
    "name": "ipython",
    "version": 3
   },
   "file_extension": ".py",
   "mimetype": "text/x-python",
   "name": "python",
   "nbconvert_exporter": "python",
   "pygments_lexer": "ipython3",
   "version": "3.14.0"
  }
 },
 "nbformat": 4,
 "nbformat_minor": 5
}
