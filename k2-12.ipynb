{
 "cells": [
  {
   "cell_type": "markdown",
   "id": "8a77807f92f26ee",
   "metadata": {},
   "source": [
    "# utils & framework"
   ]
  },
  {
   "cell_type": "code",
   "execution_count": 1,
   "id": "fbc121e30a2defb3",
   "metadata": {
    "ExecuteTime": {
     "end_time": "2025-09-28T01:44:22.089002Z",
     "start_time": "2025-09-28T01:44:17.149158Z"
    }
   },
   "outputs": [],
   "source": [
    "from collections.abc import Iterable\n",
    "from IPython.core.display import Markdown\n",
    "from sympy import *\n",
    "from sympy.vector import CoordSys3D, Vector\n",
    "from scipy import constants\n",
    "\n",
    "tag_id = 0\n",
    "conditions = {}\n",
    "values = {}\n",
    "formulas_names = {}\n",
    "\n",
    "\n",
    "def reset():\n",
    "    global tag_id, conditions, values, formulas_names\n",
    "    tag_id = cond_id_bk\n",
    "    conditions = conditions_bk.copy()\n",
    "    values = values_bk.copy()\n",
    "    formulas_names = formulas_names_bk.copy()\n",
    "\n",
    "\n",
    "cond_id_bk = tag_id\n",
    "conditions_bk = conditions\n",
    "values_bk = values\n",
    "formulas_names_bk = formulas_names\n",
    "\n",
    "\n",
    "def set_restore_point():\n",
    "    global cond_id_bk, conditions_bk, values_bk, formulas_names_bk\n",
    "    cond_id_bk = tag_id\n",
    "    conditions_bk = conditions.copy()\n",
    "    values_bk = values.copy()\n",
    "    formulas_names_bk = formulas_names.copy()\n",
    "\n",
    "\n",
    "def save_as_condition(condition):\n",
    "    global tag_id, conditions\n",
    "    cached_condition_id = tag_id\n",
    "    conditions[tag_id] = condition\n",
    "    tag_id += 1\n",
    "    return cached_condition_id\n",
    "\n",
    "\n",
    "def substitute_values(expression):\n",
    "    while True:\n",
    "        left = False\n",
    "        for (key, value) in values.items():\n",
    "            before = str(expression)\n",
    "            expression = expression.subs(key, value)\n",
    "            expression = simplify(expression)\n",
    "            if str(expression) != before:\n",
    "                left = True\n",
    "        if not left:\n",
    "            break\n",
    "\n",
    "    return expression\n",
    "\n",
    "\n",
    "def save_as_variable(symbol, value):\n",
    "    global values\n",
    "    if symbol in values.keys():\n",
    "        raise ValueError(f\"variable {symbol} already exists\")\n",
    "    values[symbol] = substitute_values(S(value))\n",
    "\n",
    "\n",
    "def save_as_formula_name(symbol, formula):\n",
    "    global tag_id, formulas_names\n",
    "    tag_id += 1\n",
    "    if symbol in formulas_names.keys():\n",
    "        raise ValueError(f\"formula {symbol} already exists\")\n",
    "    formulas_names[symbol] = formula\n",
    "\n",
    "\n",
    "def beautiful_print(expression, message=\"\", tag=None):\n",
    "    expression = expression if isinstance(expression, str) else latex(expression)\n",
    "    inline = not message.endswith('$')\n",
    "    tag_str = f'\\\\tag{{{tag}}}' if tag is not None else \"\"\n",
    "    if inline:\n",
    "        full_latex = message + '$' + expression + '$'\n",
    "    else:\n",
    "        full_latex = message + '$' + expression + tag_str + '$$'\n",
    "    display(Markdown(full_latex))\n",
    "\n",
    "\n",
    "def beautiful_answer(expression, message=\"$\",f:bool=False):\n",
    "    expression = spf(expression)\n",
    "    expression = expression.evalf() if f else expression\n",
    "    beautiful_print(expression, message, tag=\"answer\")\n",
    "\n",
    "\n",
    "def beautiful_peek(symbol, message=\"$\", tag=None):\n",
    "    value = substitute_values(symbol)\n",
    "    beautiful_print(Eq(symbol, value, evaluate=False), message, tag)\n",
    "\n",
    "\n",
    "def beautiful_solve(cond, variables, apply: dict = None):\n",
    "    cond = [cond] if not isinstance(cond, Iterable) else cond\n",
    "    display(Markdown(f\"${','.join(f\"\\\\left ( {i} \\\\right ) \" for i in cond)} \\\\Longrightarrow$\"))\n",
    "\n",
    "    variables = [variables] if not isinstance(variables, Iterable) else variables\n",
    "\n",
    "    apply = apply if apply is not None else {}\n",
    "\n",
    "    cond = tuple(map(lambda i: conditions[i].subs(apply), cond))\n",
    "    solution = solve(cond, tuple(variables), dict=True)[0]\n",
    "    conclusions = []\n",
    "    for (variable, conclusion) in solution.items():\n",
    "        beautiful_print(Eq(variable, conclusion), \"$\")\n",
    "        save_as_variable(variable, conclusion)\n",
    "        conclusions.append(conclusion)\n",
    "\n",
    "\n",
    "def beautiful_condition(expression, message=\"$\"):\n",
    "    beautiful_print(expression(False) if callable(expression) else expression, message, tag_id)\n",
    "    return save_as_condition(expression(True) if callable(expression) else expression)\n",
    "\n",
    "\n",
    "def beautiful_compute(symbol, expression=None, message=\"$\", tag = None):\n",
    "    symbol = symbols(symbol) if isinstance(symbol, str) else symbol\n",
    "    beautiful_print(Eq(symbol, expression(False) if callable(expression) else expression, evaluate=False), message,\n",
    "                    tag_id if tag else None)\n",
    "    save_as_variable(symbol, expression)\n",
    "    return symbol\n",
    "\n",
    "\n",
    "def beautiful_formula(symbol: str, expression, message=\"$\", ):\n",
    "    beautiful_print(f\"{symbol}=\" + latex(expression), message, tag_id)\n",
    "    save_as_formula_name(expression, symbol)\n",
    "    return expression\n",
    "\n",
    "\n",
    "def beautiful_at(formula, subs: dict, message=\"$\", tag: bool = None):\n",
    "    result = simplify(formula.subs(subs))\n",
    "    param = '\\\\,'.join(f\"{latex(item[0])}={latex(item[1])}\" for item in subs.items())\n",
    "    beautiful_print(formulas_names[formula] + f\"\\\\bigg|_{{{param}}}=\" + latex(result), message, tag)\n",
    "    return result\n",
    "\n",
    "\n",
    "def spf(expression):\n",
    "    expression = substitute_values(expression)\n",
    "    expression = simplify(expression)\n",
    "    return expression\n",
    "\n",
    "\n",
    "class D:\n",
    "    def __init__(self, symbol: Symbol, name: str = None):\n",
    "        symbol = 'd' + latex(symbol) if name is None else name\n",
    "        self.symbol = Symbol(symbol)\n",
    "\n",
    "    def __enter__(self):\n",
    "        return self.symbol\n",
    "\n",
    "    def __exit__(self, type, value, traceback):\n",
    "        save_as_variable(self.symbol, 1)\n",
    "\n",
    "\n",
    "def map_vector(vec, func):\n",
    "    return sum(\n",
    "        # 0 is i/j/k sharp, 1 is expr\n",
    "        map(lambda item: func(item[1]) * item[0], vec.components.items()),\n",
    "        Vector.zero\n",
    "    )\n",
    "\n",
    "\n",
    "def series_vector(vec, param, x0=0, n=2):\n",
    "    return map_vector(vec, lambda e: series(e, param, x0, n).removeO())\n",
    "\n",
    "\n",
    "def integrate_vector(vec, param):\n",
    "    return map_vector(vec, lambda e: integrate(e, param))\n",
    "\n"
   ]
  },
  {
   "cell_type": "markdown",
   "id": "55036118566e2ec8",
   "metadata": {},
   "source": [
    "## Common"
   ]
  },
  {
   "cell_type": "code",
   "execution_count": 2,
   "id": "3c1bcc504bcddd3f",
   "metadata": {
    "ExecuteTime": {
     "end_time": "2025-09-28T01:44:22.470328Z",
     "start_time": "2025-09-28T01:44:22.375018Z"
    }
   },
   "outputs": [
    {
     "data": {
      "text/markdown": [
       "by Coulomb's law:$$E=\\left(\\frac{\\mathbf{{x}_{}} q}{4 \\pi \\epsilon_{0} \\left(\\mathbf{{x}_{}}^{2} + \\mathbf{{y}_{}}^{2} + \\mathbf{{z}_{}}^{2}\\right)^{\\frac{3}{2}}}\\right)\\mathbf{\\hat{i}_{}} + \\left(\\frac{\\mathbf{{y}_{}} q}{4 \\pi \\epsilon_{0} \\left(\\mathbf{{x}_{}}^{2} + \\mathbf{{y}_{}}^{2} + \\mathbf{{z}_{}}^{2}\\right)^{\\frac{3}{2}}}\\right)\\mathbf{\\hat{j}_{}} + \\left(\\frac{\\mathbf{{z}_{}} q}{4 \\pi \\epsilon_{0} \\left(\\mathbf{{x}_{}}^{2} + \\mathbf{{y}_{}}^{2} + \\mathbf{{z}_{}}^{2}\\right)^{\\frac{3}{2}}}\\right)\\mathbf{\\hat{k}_{}}\\tag{0}$$"
      ],
      "text/plain": [
       "<IPython.core.display.Markdown object>"
      ]
     },
     "jetTransient": {
      "display_id": null
     },
     "metadata": {},
     "output_type": "display_data"
    },
    {
     "data": {
      "text/markdown": [
       "by Gauss's law:$$\\phi_{e} = \\frac{Q_{sum}}{\\epsilon_{0}}\\tag{1}$$"
      ],
      "text/plain": [
       "<IPython.core.display.Markdown object>"
      ]
     },
     "jetTransient": {
      "display_id": null
     },
     "metadata": {},
     "output_type": "display_data"
    },
    {
     "data": {
      "text/markdown": [
       "electric potential:$$\\varphi=\\frac{q}{4 \\pi \\epsilon_{0} \\sqrt{\\mathbf{{x}_{}}^{2} + \\mathbf{{y}_{}}^{2} + \\mathbf{{z}_{}}^{2}}}\\tag{2}$$"
      ],
      "text/plain": [
       "<IPython.core.display.Markdown object>"
      ]
     },
     "jetTransient": {
      "display_id": null
     },
     "metadata": {},
     "output_type": "display_data"
    }
   ],
   "source": [
    "coord = CoordSys3D('')\n",
    "epsilon = symbols('epsilon_0')\n",
    "k = 1 / (4 * pi * epsilon)\n",
    "q = symbols('q')\n",
    "x = coord.x\n",
    "y = coord.y\n",
    "z = coord.z\n",
    "pos = x * coord.i + y * coord.j + z * coord.k\n",
    "E = beautiful_formula('E', k * q * pos / pos.magnitude() ** 3, \"by Coulomb's law:$\")\n",
    "electric_flux = Symbol('phi_e')\n",
    "enclosed_charge_sum = Symbol('Q_{sum}')\n",
    "Gauss_law = beautiful_condition(Eq(electric_flux, enclosed_charge_sum / epsilon), \"by Gauss's law:$\")\n",
    "P = beautiful_formula('\\\\varphi', k * q / pos.magnitude(), 'electric potential:$')\n",
    "set_restore_point()"
   ]
  },
  {
   "cell_type": "markdown",
   "id": "e548fc368fe0dadb",
   "metadata": {},
   "source": [
    "## 12.7"
   ]
  },
  {
   "cell_type": "code",
   "execution_count": 3,
   "id": "5832e409b9c403be",
   "metadata": {
    "ExecuteTime": {
     "end_time": "2025-09-28T01:44:24.788592Z",
     "start_time": "2025-09-28T01:44:22.556497Z"
    }
   },
   "outputs": [
    {
     "data": {
      "text/markdown": [
       "by define of $p$:$$l q = p$$"
      ],
      "text/plain": [
       "<IPython.core.display.Markdown object>"
      ]
     },
     "jetTransient": {
      "display_id": null
     },
     "metadata": {},
     "output_type": "display_data"
    },
    {
     "data": {
      "text/markdown": [
       "because:$$E\\bigg|_{\\mathbf{{x}_{}}=\\mathbf{{x}_{}} + dx}=\\left(\\frac{q \\left(\\mathbf{{x}_{}} + dx\\right)}{4 \\pi \\epsilon_{0} \\left(\\mathbf{{y}_{}}^{2} + \\mathbf{{z}_{}}^{2} + \\left(\\mathbf{{x}_{}} + dx\\right)^{2}\\right)^{\\frac{3}{2}}}\\right)\\mathbf{\\hat{i}_{}} + \\left(\\frac{\\mathbf{{y}_{}} q}{4 \\pi \\epsilon_{0} \\left(\\mathbf{{y}_{}}^{2} + \\mathbf{{z}_{}}^{2} + \\left(\\mathbf{{x}_{}} + dx\\right)^{2}\\right)^{\\frac{3}{2}}}\\right)\\mathbf{\\hat{j}_{}} + \\left(\\frac{\\mathbf{{z}_{}} q}{4 \\pi \\epsilon_{0} \\left(\\mathbf{{y}_{}}^{2} + \\mathbf{{z}_{}}^{2} + \\left(\\mathbf{{x}_{}} + dx\\right)^{2}\\right)^{\\frac{3}{2}}}\\right)\\mathbf{\\hat{k}_{}}$$"
      ],
      "text/plain": [
       "<IPython.core.display.Markdown object>"
      ]
     },
     "jetTransient": {
      "display_id": null
     },
     "metadata": {},
     "output_type": "display_data"
    },
    {
     "data": {
      "text/markdown": [
       "so for tiny dx ,let us series it to 2nd:$$E_{approx}=\\left(\\frac{q \\left(\\mathbf{{x}_{}} \\left(\\mathbf{{x}_{}}^{2} + \\mathbf{{y}_{}}^{2} + \\mathbf{{z}_{}}^{2}\\right) - dx \\left(2 \\mathbf{{x}_{}}^{2} - \\mathbf{{y}_{}}^{2} - \\mathbf{{z}_{}}^{2}\\right)\\right)}{4 \\pi \\epsilon_{0} \\left(\\mathbf{{x}_{}}^{2} + \\mathbf{{y}_{}}^{2} + \\mathbf{{z}_{}}^{2}\\right)^{\\frac{5}{2}}}\\right)\\mathbf{\\hat{i}_{}} + \\left(\\frac{\\mathbf{{y}_{}} q \\left(\\mathbf{{x}_{}}^{2} - 3 \\mathbf{{x}_{}} dx + \\mathbf{{y}_{}}^{2} + \\mathbf{{z}_{}}^{2}\\right)}{4 \\pi \\epsilon_{0} \\left(\\mathbf{{x}_{}}^{2} + \\mathbf{{y}_{}}^{2} + \\mathbf{{z}_{}}^{2}\\right)^{\\frac{5}{2}}}\\right)\\mathbf{\\hat{j}_{}} + \\left(\\frac{\\mathbf{{z}_{}} q \\left(\\mathbf{{x}_{}}^{2} - 3 \\mathbf{{x}_{}} dx + \\mathbf{{y}_{}}^{2} + \\mathbf{{z}_{}}^{2}\\right)}{4 \\pi \\epsilon_{0} \\left(\\mathbf{{x}_{}}^{2} + \\mathbf{{y}_{}}^{2} + \\mathbf{{z}_{}}^{2}\\right)^{\\frac{5}{2}}}\\right)\\mathbf{\\hat{k}_{}}\\tag{3}$$"
      ],
      "text/plain": [
       "<IPython.core.display.Markdown object>"
      ]
     },
     "jetTransient": {
      "display_id": null
     },
     "metadata": {},
     "output_type": "display_data"
    },
    {
     "data": {
      "text/markdown": [
       "$E_1$:$$E_{approx}\\bigg|_{dx=- \\frac{l}{2}\\,\\mathbf{{z}_{}}=0}=\\left(\\frac{q \\left(2 \\mathbf{{x}_{}} \\left(\\mathbf{{x}_{}}^{2} + \\mathbf{{y}_{}}^{2}\\right) + l \\left(2 \\mathbf{{x}_{}}^{2} - \\mathbf{{y}_{}}^{2}\\right)\\right)}{8 \\pi \\epsilon_{0} \\left(\\mathbf{{x}_{}}^{2} + \\mathbf{{y}_{}}^{2}\\right)^{\\frac{5}{2}}}\\right)\\mathbf{\\hat{i}_{}} + \\left(\\frac{\\mathbf{{y}_{}} q \\left(2 \\mathbf{{x}_{}}^{2} + 3 \\mathbf{{x}_{}} l + 2 \\mathbf{{y}_{}}^{2}\\right)}{8 \\pi \\epsilon_{0} \\left(\\mathbf{{x}_{}}^{2} + \\mathbf{{y}_{}}^{2}\\right)^{\\frac{5}{2}}}\\right)\\mathbf{\\hat{j}_{}}$$"
      ],
      "text/plain": [
       "<IPython.core.display.Markdown object>"
      ]
     },
     "jetTransient": {
      "display_id": null
     },
     "metadata": {},
     "output_type": "display_data"
    },
    {
     "data": {
      "text/markdown": [
       "$E_2$:$$E_{approx}\\bigg|_{dx=\\frac{l}{2}\\,\\mathbf{{z}_{}}=0\\,q=- q}=\\left(- \\frac{q \\left(2 \\mathbf{{x}_{}} \\left(\\mathbf{{x}_{}}^{2} + \\mathbf{{y}_{}}^{2}\\right) - l \\left(2 \\mathbf{{x}_{}}^{2} - \\mathbf{{y}_{}}^{2}\\right)\\right)}{8 \\pi \\epsilon_{0} \\left(\\mathbf{{x}_{}}^{2} + \\mathbf{{y}_{}}^{2}\\right)^{\\frac{5}{2}}}\\right)\\mathbf{\\hat{i}_{}} + \\left(- \\frac{\\mathbf{{y}_{}} q \\left(2 \\mathbf{{x}_{}}^{2} - 3 \\mathbf{{x}_{}} l + 2 \\mathbf{{y}_{}}^{2}\\right)}{8 \\pi \\epsilon_{0} \\left(\\mathbf{{x}_{}}^{2} + \\mathbf{{y}_{}}^{2}\\right)^{\\frac{5}{2}}}\\right)\\mathbf{\\hat{j}_{}}$$"
      ],
      "text/plain": [
       "<IPython.core.display.Markdown object>"
      ]
     },
     "jetTransient": {
      "display_id": null
     },
     "metadata": {},
     "output_type": "display_data"
    },
    {
     "data": {
      "text/markdown": [
       "$E_{total}$ :$$\\left(\\frac{p \\left(2 \\mathbf{{x}_{}}^{2} - \\mathbf{{y}_{}}^{2}\\right)}{4 \\pi \\epsilon_{0} \\left(\\mathbf{{x}_{}}^{2} + \\mathbf{{y}_{}}^{2}\\right)^{\\frac{5}{2}}}\\right)\\mathbf{\\hat{i}_{}} + \\left(\\frac{3 \\mathbf{{x}_{}} \\mathbf{{y}_{}} p}{4 \\pi \\epsilon_{0} \\left(\\mathbf{{x}_{}}^{2} + \\mathbf{{y}_{}}^{2}\\right)^{\\frac{5}{2}}}\\right)\\mathbf{\\hat{j}_{}}\\tag{answer}$$"
      ],
      "text/plain": [
       "<IPython.core.display.Markdown object>"
      ]
     },
     "jetTransient": {
      "display_id": null
     },
     "metadata": {},
     "output_type": "display_data"
    }
   ],
   "source": [
    "def f127():\n",
    "    reset()\n",
    "    p = symbols('p')\n",
    "    l = symbols('l')\n",
    "    beautiful_compute(q * l, p, \"by define of $p$:$\")\n",
    "\n",
    "    dx = symbols('dx')\n",
    "    E_appro = beautiful_at(E, {x: x + dx, }, \"because:$\")\n",
    "    E_appro = beautiful_formula(\"E_{approx}\", series_vector(E_appro, dx).simplify(),\n",
    "                                \"so for tiny dx ,let us series it to 2nd:$\")\n",
    "    # E_appro = beautiful_formula('E_{approx}',)\n",
    "    E_1 = beautiful_at(E_appro, {dx: - l / 2, z: 0}, \"$E_1$:$\")\n",
    "    E_2 = beautiful_at(E_appro, {dx: l / 2, z: 0, q: -1 * q}, \"$E_2$:$\")\n",
    "    E_total = simplify(E_1 + E_2)\n",
    "    beautiful_print(substitute_values(E_total), \"$E_{total}$ :$\", tag=\"answer\")\n",
    "\n",
    "\n",
    "f127()"
   ]
  },
  {
   "cell_type": "markdown",
   "id": "d6deb352178ec404",
   "metadata": {},
   "source": [
    "### 12.10"
   ]
  },
  {
   "cell_type": "code",
   "execution_count": 4,
   "id": "2d7af5e923a8584",
   "metadata": {
    "ExecuteTime": {
     "end_time": "2025-09-28T01:44:26.360495Z",
     "start_time": "2025-09-28T01:44:26.055062Z"
    }
   },
   "outputs": [
    {
     "data": {
      "text/markdown": [
       "given :$$\\lambda = \\lambda_{0} \\sin{\\left(\\theta \\right)}$$"
      ],
      "text/plain": [
       "<IPython.core.display.Markdown object>"
      ]
     },
     "jetTransient": {
      "display_id": null
     },
     "metadata": {},
     "output_type": "display_data"
    },
    {
     "data": {
      "text/markdown": [
       "so:$$dq = R d\\theta \\lambda$$"
      ],
      "text/plain": [
       "<IPython.core.display.Markdown object>"
      ]
     },
     "jetTransient": {
      "display_id": null
     },
     "metadata": {},
     "output_type": "display_data"
    },
    {
     "data": {
      "text/markdown": [
       "compute $dE$ : $$E\\bigg|_{\\mathbf{{x}_{}}=- R \\cos{\\left(\\theta \\right)}\\,\\mathbf{{y}_{}}=- R \\sin{\\left(\\theta \\right)}\\,\\mathbf{{z}_{}}=0\\,q=dq}=\\left(- \\frac{dq \\cos{\\left(\\theta \\right)}}{4 \\pi R^{2} \\epsilon_{0}}\\right)\\mathbf{\\hat{i}_{}} + \\left(- \\frac{dq \\sin{\\left(\\theta \\right)}}{4 \\pi R^{2} \\epsilon_{0}}\\right)\\mathbf{\\hat{j}_{}}$$"
      ],
      "text/plain": [
       "<IPython.core.display.Markdown object>"
      ]
     },
     "jetTransient": {
      "display_id": null
     },
     "metadata": {},
     "output_type": "display_data"
    },
    {
     "data": {
      "text/markdown": [
       "inlined:$$\\left(- \\frac{d\\theta \\lambda_{0} \\sin{\\left(2 \\theta \\right)}}{8 \\pi R \\epsilon_{0}}\\right)\\mathbf{\\hat{i}_{}} + \\left(- \\frac{d\\theta \\lambda_{0} \\sin^{2}{\\left(\\theta \\right)}}{4 \\pi R \\epsilon_{0}}\\right)\\mathbf{\\hat{j}_{}}$$"
      ],
      "text/plain": [
       "<IPython.core.display.Markdown object>"
      ]
     },
     "jetTransient": {
      "display_id": null
     },
     "metadata": {},
     "output_type": "display_data"
    },
    {
     "data": {
      "text/markdown": [
       "integrated:$$\\left(- \\frac{\\lambda_{0}}{4 R \\epsilon_{0}}\\right)\\mathbf{\\hat{j}_{}}\\tag{answer}$$"
      ],
      "text/plain": [
       "<IPython.core.display.Markdown object>"
      ]
     },
     "jetTransient": {
      "display_id": null
     },
     "metadata": {},
     "output_type": "display_data"
    }
   ],
   "source": [
    "def f1210():\n",
    "    reset()\n",
    "    lmd = symbols('lambda_0')\n",
    "    angle = Symbol('theta')\n",
    "    R = symbols('R', positive=True)\n",
    "    with D(angle, 'd\\\\theta') as d_theta:\n",
    "        q_dense = beautiful_compute('lambda', lmd * sin(angle), \"given :$\")\n",
    "        dq = beautiful_compute('dq', q_dense * R * d_theta, \"so:$\")\n",
    "\n",
    "        dE = beautiful_at(E, {x: -R * cos(angle), y: -R * sin(angle), z: 0, q: dq}, \"compute $dE$ : $\")\n",
    "        dE = substitute_values(dE)\n",
    "        beautiful_print(dE, \"inlined:$\")\n",
    "\n",
    "        result = integrate_vector(dE, (angle, 0, 2 * pi))\n",
    "\n",
    "    beautiful_answer(result, \"integrated:$\")\n",
    "\n",
    "\n",
    "f1210()"
   ]
  },
  {
   "cell_type": "markdown",
   "id": "e94ae9ff8d8d7f0d",
   "metadata": {},
   "source": [
    "### 12.12"
   ]
  },
  {
   "cell_type": "code",
   "execution_count": 5,
   "id": "e42df101f21a0ff2",
   "metadata": {
    "ExecuteTime": {
     "end_time": "2025-09-28T01:44:28.266941Z",
     "start_time": "2025-09-28T01:44:26.423308Z"
    }
   },
   "outputs": [
    {
     "data": {
      "text/markdown": [
       "define the electric density by line is:$$\\rho$$"
      ],
      "text/plain": [
       "<IPython.core.display.Markdown object>"
      ]
     },
     "jetTransient": {
      "display_id": null
     },
     "metadata": {},
     "output_type": "display_data"
    },
    {
     "data": {
      "text/markdown": [
       "$$dq_{1} = a d\\theta \\rho$$"
      ],
      "text/plain": [
       "<IPython.core.display.Markdown object>"
      ]
     },
     "jetTransient": {
      "display_id": null
     },
     "metadata": {},
     "output_type": "display_data"
    },
    {
     "data": {
      "text/markdown": [
       "compute $dE_1$ :$$E\\bigg|_{\\mathbf{{x}_{}}=a \\cos{\\left(\\theta \\right)}\\,\\mathbf{{y}_{}}=a \\sin{\\left(\\theta \\right)}\\,\\mathbf{{z}_{}}=0\\,q=dq_{1}}=\\left(\\frac{dq_{1} \\cos{\\left(\\theta \\right)}}{4 \\pi a^{2} \\epsilon_{0}}\\right)\\mathbf{\\hat{i}_{}} + \\left(\\frac{dq_{1} \\sin{\\left(\\theta \\right)}}{4 \\pi a^{2} \\epsilon_{0}}\\right)\\mathbf{\\hat{j}_{}}$$"
      ],
      "text/plain": [
       "<IPython.core.display.Markdown object>"
      ]
     },
     "jetTransient": {
      "display_id": null
     },
     "metadata": {},
     "output_type": "display_data"
    },
    {
     "data": {
      "text/markdown": [
       "inlined:$$\\left(\\frac{d\\theta \\rho \\cos{\\left(\\theta \\right)}}{4 \\pi a \\epsilon_{0}}\\right)\\mathbf{\\hat{i}_{}} + \\left(\\frac{d\\theta \\rho \\sin{\\left(\\theta \\right)}}{4 \\pi a \\epsilon_{0}}\\right)\\mathbf{\\hat{j}_{}}$$"
      ],
      "text/plain": [
       "<IPython.core.display.Markdown object>"
      ]
     },
     "jetTransient": {
      "display_id": null
     },
     "metadata": {},
     "output_type": "display_data"
    },
    {
     "data": {
      "text/markdown": [
       "integrated to $E_1$: $$\\left(- \\frac{\\rho}{2 \\pi a \\epsilon_{0}}\\right)\\mathbf{\\hat{i}_{}}$$"
      ],
      "text/plain": [
       "<IPython.core.display.Markdown object>"
      ]
     },
     "jetTransient": {
      "display_id": null
     },
     "metadata": {},
     "output_type": "display_data"
    },
    {
     "data": {
      "text/markdown": [
       "$$dq_{2} = dx \\rho$$"
      ],
      "text/plain": [
       "<IPython.core.display.Markdown object>"
      ]
     },
     "jetTransient": {
      "display_id": null
     },
     "metadata": {},
     "output_type": "display_data"
    },
    {
     "data": {
      "text/markdown": [
       "compute $dE_{line}$ : $$E\\bigg|_{\\mathbf{{x}_{}}=x\\,\\mathbf{{y}_{}}=y\\,\\mathbf{{z}_{}}=0\\,q=dq_{2}}=\\left(\\frac{dq_{2} x}{4 \\pi \\epsilon_{0} \\left(x^{2} + y^{2}\\right)^{\\frac{3}{2}}}\\right)\\mathbf{\\hat{i}_{}} + \\left(\\frac{dq_{2} y}{4 \\pi \\epsilon_{0} \\left(x^{2} + y^{2}\\right)^{\\frac{3}{2}}}\\right)\\mathbf{\\hat{j}_{}}$$"
      ],
      "text/plain": [
       "<IPython.core.display.Markdown object>"
      ]
     },
     "jetTransient": {
      "display_id": null
     },
     "metadata": {},
     "output_type": "display_data"
    },
    {
     "data": {
      "text/markdown": [
       "inlined:$$\\left(\\frac{dx \\rho x}{4 \\pi \\epsilon_{0} \\left(x^{2} + y^{2}\\right)^{\\frac{3}{2}}}\\right)\\mathbf{\\hat{i}_{}} + \\left(\\frac{dx \\rho y}{4 \\pi \\epsilon_{0} \\left(x^{2} + y^{2}\\right)^{\\frac{3}{2}}}\\right)\\mathbf{\\hat{j}_{}}$$"
      ],
      "text/plain": [
       "<IPython.core.display.Markdown object>"
      ]
     },
     "jetTransient": {
      "display_id": null
     },
     "metadata": {},
     "output_type": "display_data"
    },
    {
     "data": {
      "text/markdown": [
       "integrated to $E_2$: $$\\left(\\frac{\\rho}{4 \\pi a \\epsilon_{0}}\\right)\\mathbf{\\hat{i}_{}} + \\left(\\frac{\\rho}{4 \\pi a \\epsilon_{0}}\\right)\\mathbf{\\hat{j}_{}}$$"
      ],
      "text/plain": [
       "<IPython.core.display.Markdown object>"
      ]
     },
     "jetTransient": {
      "display_id": null
     },
     "metadata": {},
     "output_type": "display_data"
    },
    {
     "data": {
      "text/markdown": [
       "integrated to $E_3$: $$\\left(\\frac{\\rho}{4 \\pi a \\epsilon_{0}}\\right)\\mathbf{\\hat{i}_{}} + \\left(- \\frac{\\rho}{4 \\pi a \\epsilon_{0}}\\right)\\mathbf{\\hat{j}_{}}$$"
      ],
      "text/plain": [
       "<IPython.core.display.Markdown object>"
      ]
     },
     "jetTransient": {
      "display_id": null
     },
     "metadata": {},
     "output_type": "display_data"
    },
    {
     "data": {
      "text/markdown": [
       "sub them up:$$E_{total} = \\mathbf{\\hat{0}}$$"
      ],
      "text/plain": [
       "<IPython.core.display.Markdown object>"
      ]
     },
     "jetTransient": {
      "display_id": null
     },
     "metadata": {},
     "output_type": "display_data"
    },
    {
     "data": {
      "text/markdown": [
       "result:$$\\mathbf{\\hat{0}}\\tag{answer}$$"
      ],
      "text/plain": [
       "<IPython.core.display.Markdown object>"
      ]
     },
     "jetTransient": {
      "display_id": null
     },
     "metadata": {},
     "output_type": "display_data"
    }
   ],
   "source": [
    "def f1212():\n",
    "    reset()\n",
    "    theta = Symbol('theta')\n",
    "    a = Symbol('a', positive=True)\n",
    "    p1x = a * cos(theta)\n",
    "    p1y = a * sin(theta)\n",
    "    rho = Symbol('rho')\n",
    "    beautiful_print(rho, \"define the electric density by line is:$\")\n",
    "    with D(theta, 'd\\\\theta') as d_theta:\n",
    "        dq1 = beautiful_compute('dq1', d_theta * a * rho)\n",
    "        dE1 = beautiful_at(E, {x: p1x, y: p1y, z: 0, q: dq1}, \"compute $dE_1$ :$\")\n",
    "        dE1 = substitute_values(dE1)\n",
    "        beautiful_print(dE1, \"inlined:$\")\n",
    "        E1 = integrate_vector(dE1, (theta, pi / 2, pi * 3 / 2))\n",
    "    E1= substitute_values(E1)\n",
    "    beautiful_print(E1, \"integrated to $E_1$: $\")\n",
    "\n",
    "    p2x = Symbol('x')\n",
    "    p2y = Symbol('y')\n",
    "    with D(p2x) as dx:\n",
    "        dq2 = beautiful_compute('dq2', dx * rho)\n",
    "        dEt = beautiful_at(E, {x: p2x, y: p2y, z: 0, q: dq2}, \"compute $dE_{line}$ : $\")\n",
    "        dEt = substitute_values(dEt)\n",
    "        beautiful_print(dEt, \"inlined:$\")\n",
    "        Et = integrate_vector(dEt, (p2x, 0, oo))\n",
    "    Et = substitute_values(Et)\n",
    "    E2 = Et.subs(p2y, a)\n",
    "    beautiful_print(E2, \"integrated to $E_2$: $\")\n",
    "    E3 = spf(Et.subs(p2y, -a))\n",
    "    beautiful_print(E3, \"integrated to $E_3$: $\")\n",
    "\n",
    "    ans = beautiful_compute('E_{total}', E1 + E2 + E3, \"sub them up:$\")\n",
    "    beautiful_answer(ans, \"result:$\")\n",
    "\n",
    "\n",
    "f1212()"
   ]
  },
  {
   "cell_type": "markdown",
   "id": "474467e1e9117ecb",
   "metadata": {},
   "source": [
    "### 12.17\n",
    "![image](data:image/jpeg;base64,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)"
   ]
  },
  {
   "cell_type": "code",
   "execution_count": 6,
   "id": "c39cb82fb5e3dd6f",
   "metadata": {
    "ExecuteTime": {
     "end_time": "2025-09-28T01:44:41.894620Z",
     "start_time": "2025-09-28T01:44:28.852113Z"
    }
   },
   "outputs": [
    {
     "data": {
      "text/markdown": [
       "take a piece of it by length:$$l$$"
      ],
      "text/plain": [
       "<IPython.core.display.Markdown object>"
      ]
     },
     "jetTransient": {
      "display_id": null
     },
     "metadata": {},
     "output_type": "display_data"
    },
    {
     "data": {
      "text/markdown": [
       "so:$$Q_{full} = 2 \\pi a l \\sigma$$"
      ],
      "text/plain": [
       "<IPython.core.display.Markdown object>"
      ]
     },
     "jetTransient": {
      "display_id": null
     },
     "metadata": {},
     "output_type": "display_data"
    },
    {
     "data": {
      "text/markdown": [
       "so:$$Q{\\left(r \\right)} = \\begin{cases} 0 & \\text{for}\\: a > r \\\\Q_{full} & \\text{otherwise} \\end{cases}$$"
      ],
      "text/plain": [
       "<IPython.core.display.Markdown object>"
      ]
     },
     "jetTransient": {
      "display_id": null
     },
     "metadata": {},
     "output_type": "display_data"
    },
    {
     "data": {
      "text/markdown": [
       "make the Gauss surface be a cylinder, and easily the flux of E is:$$\\phi{\\left(r \\right)} = 2 \\pi l r E_{r}{\\left(r \\right)}\\tag{3}$$"
      ],
      "text/plain": [
       "<IPython.core.display.Markdown object>"
      ]
     },
     "jetTransient": {
      "display_id": null
     },
     "metadata": {},
     "output_type": "display_data"
    },
    {
     "data": {
      "text/markdown": [
       "$\\left ( 1 \\right ) ,\\left ( 3 \\right )  \\Longrightarrow$"
      ],
      "text/plain": [
       "<IPython.core.display.Markdown object>"
      ]
     },
     "jetTransient": {
      "display_id": null
     },
     "metadata": {},
     "output_type": "display_data"
    },
    {
     "data": {
      "text/markdown": [
       "$$E_{r}{\\left(r \\right)} = \\frac{Q{\\left(r \\right)}}{2 \\pi \\epsilon_{0} l r}$$"
      ],
      "text/plain": [
       "<IPython.core.display.Markdown object>"
      ]
     },
     "jetTransient": {
      "display_id": null
     },
     "metadata": {},
     "output_type": "display_data"
    },
    {
     "data": {
      "text/markdown": [
       "$$\\phi{\\left(r \\right)} = \\frac{Q{\\left(r \\right)}}{\\epsilon_{0}}$$"
      ],
      "text/plain": [
       "<IPython.core.display.Markdown object>"
      ]
     },
     "jetTransient": {
      "display_id": null
     },
     "metadata": {},
     "output_type": "display_data"
    },
    {
     "data": {
      "text/markdown": [
       "inlined:$$E_{r}{\\left(r \\right)} = \\begin{cases} 0 & \\text{for}\\: a > r \\\\\\frac{a \\sigma}{\\epsilon_{0} r} & \\text{otherwise} \\end{cases}\\tag{answer}$$"
      ],
      "text/plain": [
       "<IPython.core.display.Markdown object>"
      ]
     },
     "jetTransient": {
      "display_id": null
     },
     "metadata": {},
     "output_type": "display_data"
    },
    {
     "data": {
      "image/png": "[encoded data removed]",
      "text/plain": [
       "<Figure size 640x480 with 1 Axes>"
      ]
     },
     "jetTransient": {
      "display_id": null
     },
     "metadata": {},
     "output_type": "display_data"
    }
   ],
   "source": [
    "def f1217():\n",
    "    reset()\n",
    "    r = Symbol('r', positive=True)\n",
    "    dense = Symbol('sigma')\n",
    "    radius = Symbol('a')\n",
    "    length = Symbol('l')\n",
    "    beautiful_print(length, \"take a piece of it by length:$\")\n",
    "    Q_full = beautiful_compute('Q_{full}', 2 * pi * radius * length * dense, 'so:$')\n",
    "\n",
    "    Q = beautiful_compute(Function('Q')(r), Piecewise((0, r < radius), (Q_full, r >= radius)), 'so:$')\n",
    "    E_r = Function('E_r')(r)\n",
    "    flux = Function('phi')(r)\n",
    "    flu = beautiful_condition(Eq(flux, length * E_r * 2 * pi * r),\n",
    "                              'make the Gauss surface be a cylinder, and easily the flux of E is:$')\n",
    "    beautiful_solve([Gauss_law, flu], [flux, E_r], {electric_flux: flux, enclosed_charge_sum: Q})\n",
    "\n",
    "    beautiful_peek(E_r, \"inlined:$\",\"answer\")\n",
    "    save_as_variable(dense, 1)\n",
    "    save_as_variable(radius, 1)\n",
    "    save_as_variable(length, 1)\n",
    "    save_as_variable(epsilon, 1)\n",
    "    plot(substitute_values(E_r), (r, 0, 10))\n",
    "\n",
    "\n",
    "f1217()"
   ]
  },
  {
   "cell_type": "markdown",
   "id": "13601168f8322f37",
   "metadata": {},
   "source": [
    "### 12.18"
   ]
  },
  {
   "cell_type": "code",
   "execution_count": 7,
   "id": "88d19e4ba9047109",
   "metadata": {
    "ExecuteTime": {
     "end_time": "2025-09-28T01:44:42.510041Z",
     "start_time": "2025-09-28T01:44:42.271186Z"
    }
   },
   "outputs": [
    {
     "data": {
      "text/markdown": [
       "reuse the result form 1217:$$E(r)=\\begin{cases} 0 & \\text{for}\\: R > r \\\\\\frac{R \\sigma}{4 \\pi \\epsilon_{0} r} & \\text{otherwise} \\end{cases}\\tag{3}$$"
      ],
      "text/plain": [
       "<IPython.core.display.Markdown object>"
      ]
     },
     "jetTransient": {
      "display_id": null
     },
     "metadata": {},
     "output_type": "display_data"
    },
    {
     "data": {
      "text/markdown": [
       "for $E_1$:$$E(r)\\bigg|_{\\sigma=\\lambda\\,R=R_{1}}=\\begin{cases} 0 & \\text{for}\\: R_{1} > r \\\\\\frac{R_{1} \\lambda}{4 \\pi \\epsilon_{0} r} & \\text{otherwise} \\end{cases}$$"
      ],
      "text/plain": [
       "<IPython.core.display.Markdown object>"
      ]
     },
     "jetTransient": {
      "display_id": null
     },
     "metadata": {},
     "output_type": "display_data"
    },
    {
     "data": {
      "text/markdown": [
       "for $E_2$:$$E(r)\\bigg|_{\\sigma=- \\lambda\\,R=R_{2}}=\\begin{cases} 0 & \\text{for}\\: R_{2} > r \\\\- \\frac{R_{2} \\lambda}{4 \\pi \\epsilon_{0} r} & \\text{otherwise} \\end{cases}$$"
      ],
      "text/plain": [
       "<IPython.core.display.Markdown object>"
      ]
     },
     "jetTransient": {
      "display_id": null
     },
     "metadata": {},
     "output_type": "display_data"
    },
    {
     "data": {
      "text/markdown": [
       "so:$$E_{total} = \\begin{cases} 0 & \\text{for}\\: R_{1} > r \\\\\\frac{R_{1} \\lambda}{4 \\pi \\epsilon_{0} r} & \\text{otherwise} \\end{cases} + \\begin{cases} 0 & \\text{for}\\: R_{2} > r \\\\- \\frac{R_{2} \\lambda}{4 \\pi \\epsilon_{0} r} & \\text{otherwise} \\end{cases}$$"
      ],
      "text/plain": [
       "<IPython.core.display.Markdown object>"
      ]
     },
     "jetTransient": {
      "display_id": null
     },
     "metadata": {},
     "output_type": "display_data"
    }
   ],
   "source": [
    "def f1218():\n",
    "    reset()\n",
    "    dense = Symbol('sigma')\n",
    "    dense1 = Symbol('lambda')\n",
    "    dense2 = -1 * dense1\n",
    "    r = Symbol('r', positive=True)\n",
    "    R = Symbol('R', positive=True)\n",
    "    R1 = Symbol('R_1', positive=True)\n",
    "    R2 = Symbol('R_2', positive=True)\n",
    "\n",
    "    E = beautiful_formula('E(r)',Piecewise((0,r< R),(k* R * dense / (r),r>=R)), \"reuse the result form 1217:$\")\n",
    "    E1 = beautiful_at(E, {dense: dense1, R: R1}, 'for $E_1$:$')\n",
    "    E2 = beautiful_at(E, {dense: dense2, R: R2}, 'for $E_2$:$')\n",
    "\n",
    "    beautiful_compute('E_{total}', E1 + E2, \"so:$\")\n",
    "\n",
    "\n",
    "f1218()"
   ]
  },
  {
   "cell_type": "markdown",
   "id": "8f34a97b59061880",
   "metadata": {},
   "source": [
    "### 1220\n",
    "![image](data:image/jpeg;base64,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)"
   ]
  },
  {
   "cell_type": "code",
   "execution_count": 8,
   "id": "503af0be738502b8",
   "metadata": {
    "ExecuteTime": {
     "end_time": "2025-09-28T01:44:43.026589Z",
     "start_time": "2025-09-28T01:44:42.677811Z"
    }
   },
   "outputs": [
    {
     "data": {
      "text/markdown": [
       "choose the size of the surface:$$S$$"
      ],
      "text/plain": [
       "<IPython.core.display.Markdown object>"
      ]
     },
     "jetTransient": {
      "display_id": null
     },
     "metadata": {},
     "output_type": "display_data"
    },
    {
     "data": {
      "text/markdown": [
       "distribution of q:$$Q{\\left(z \\right)} = \\begin{cases} 2 S \\rho z & \\text{for}\\: z < \\frac{D}{2} \\\\D S \\rho & \\text{otherwise} \\end{cases}$$"
      ],
      "text/plain": [
       "<IPython.core.display.Markdown object>"
      ]
     },
     "jetTransient": {
      "display_id": null
     },
     "metadata": {},
     "output_type": "display_data"
    },
    {
     "data": {
      "text/markdown": [
       "easily the flux of E is:$$\\phi{\\left(z \\right)} = 2 S E{\\left(z \\right)}\\tag{3}$$"
      ],
      "text/plain": [
       "<IPython.core.display.Markdown object>"
      ]
     },
     "jetTransient": {
      "display_id": null
     },
     "metadata": {},
     "output_type": "display_data"
    },
    {
     "data": {
      "text/markdown": [
       "$\\left ( 3 \\right ) ,\\left ( 1 \\right )  \\Longrightarrow$"
      ],
      "text/plain": [
       "<IPython.core.display.Markdown object>"
      ]
     },
     "jetTransient": {
      "display_id": null
     },
     "metadata": {},
     "output_type": "display_data"
    },
    {
     "data": {
      "text/markdown": [
       "$$E{\\left(z \\right)} = \\frac{Q{\\left(z \\right)}}{2 S \\epsilon_{0}}$$"
      ],
      "text/plain": [
       "<IPython.core.display.Markdown object>"
      ]
     },
     "jetTransient": {
      "display_id": null
     },
     "metadata": {},
     "output_type": "display_data"
    },
    {
     "data": {
      "text/markdown": [
       "$$\\phi{\\left(z \\right)} = \\frac{Q{\\left(z \\right)}}{\\epsilon_{0}}$$"
      ],
      "text/plain": [
       "<IPython.core.display.Markdown object>"
      ]
     },
     "jetTransient": {
      "display_id": null
     },
     "metadata": {},
     "output_type": "display_data"
    },
    {
     "data": {
      "text/markdown": [
       "inlined:$$E{\\left(z \\right)} = \\begin{cases} \\frac{\\rho z}{\\epsilon_{0}} & \\text{for}\\: D > 2 z \\\\\\frac{D \\rho}{2 \\epsilon_{0}} & \\text{otherwise} \\end{cases}\\tag{answer}$$"
      ],
      "text/plain": [
       "<IPython.core.display.Markdown object>"
      ]
     },
     "jetTransient": {
      "display_id": null
     },
     "metadata": {},
     "output_type": "display_data"
    },
    {
     "data": {
      "image/png": "[encoded data removed]",
      "text/plain": [
       "<Figure size 640x480 with 1 Axes>"
      ]
     },
     "jetTransient": {
      "display_id": null
     },
     "metadata": {},
     "output_type": "display_data"
    }
   ],
   "source": [
    "def f1220():\n",
    "    reset()\n",
    "    width = Symbol('D')\n",
    "    dense = Symbol('rho')\n",
    "    half_width = width / 2\n",
    "    z = Symbol('z', positive=True)\n",
    "    S = Symbol('S')\n",
    "    beautiful_print(S, \"choose the size of the surface:$\")\n",
    "    Q = beautiful_compute(Function('Q')(z),\n",
    "                          Piecewise((2 * z * S * dense, z < half_width), (width * S * dense, z >= half_width)),\n",
    "                          'distribution of q:$')\n",
    "\n",
    "    E = Function('E')(z)\n",
    "    flux = Function('phi')(z)\n",
    "    flux_cond = beautiful_condition(Eq(flux, 2 * S * E), \"easily the flux of E is:$\")\n",
    "    beautiful_solve([flux_cond, Gauss_law], [flux, E], {electric_flux: flux, enclosed_charge_sum: Q})\n",
    "\n",
    "    beautiful_peek(E, \"inlined:$\",\"answer\")\n",
    "\n",
    "    save_as_variable(S, 1)\n",
    "    save_as_variable(width, 1)\n",
    "    save_as_variable(epsilon, 1)\n",
    "    save_as_variable(dense, 1)\n",
    "\n",
    "    plot(substitute_values(E), (z, 0, 10))\n",
    "\n",
    "\n",
    "f1220()"
   ]
  },
  {
   "cell_type": "markdown",
   "id": "18f5be53e1a5182d",
   "metadata": {},
   "source": [
    "### 12.22\n",
    "![image](data:image/jpeg;base64,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)"
   ]
  },
  {
   "cell_type": "code",
   "execution_count": 9,
   "id": "10e86c05faf02c3d",
   "metadata": {
    "ExecuteTime": {
     "end_time": "2025-09-28T01:44:43.414325Z",
     "start_time": "2025-09-28T01:44:43.304840Z"
    }
   },
   "outputs": [
    {
     "data": {
      "text/markdown": [
       "sum of Q of a sphere:$$Q = \\frac{4 \\pi r^{3} \\rho}{3}$$"
      ],
      "text/plain": [
       "<IPython.core.display.Markdown object>"
      ]
     },
     "jetTransient": {
      "display_id": null
     },
     "metadata": {},
     "output_type": "display_data"
    },
    {
     "data": {
      "text/markdown": [
       "because:$$E\\bigg|_{q=\\frac{4 \\pi \\rho \\left(\\mathbf{{x}_{}}^{2} + \\mathbf{{y}_{}}^{2} + \\mathbf{{z}_{}}^{2}\\right)^{\\frac{3}{2}}}{3}}=\\left(\\frac{\\mathbf{{x}_{}} \\rho}{3 \\epsilon_{0}}\\right)\\mathbf{\\hat{i}_{}} + \\left(\\frac{\\mathbf{{y}_{}} \\rho}{3 \\epsilon_{0}}\\right)\\mathbf{\\hat{j}_{}} + \\left(\\frac{\\mathbf{{z}_{}} \\rho}{3 \\epsilon_{0}}\\right)\\mathbf{\\hat{k}_{}}$$"
      ],
      "text/plain": [
       "<IPython.core.display.Markdown object>"
      ]
     },
     "jetTransient": {
      "display_id": null
     },
     "metadata": {},
     "output_type": "display_data"
    },
    {
     "data": {
      "text/markdown": [
       "$$E_{inside}=\\left(\\frac{\\mathbf{{x}_{}} \\rho}{3 \\epsilon_{0}}\\right)\\mathbf{\\hat{i}_{}} + \\left(\\frac{\\mathbf{{y}_{}} \\rho}{3 \\epsilon_{0}}\\right)\\mathbf{\\hat{j}_{}} + \\left(\\frac{\\mathbf{{z}_{}} \\rho}{3 \\epsilon_{0}}\\right)\\mathbf{\\hat{k}_{}}\\tag{3}$$"
      ],
      "text/plain": [
       "<IPython.core.display.Markdown object>"
      ]
     },
     "jetTransient": {
      "display_id": null
     },
     "metadata": {},
     "output_type": "display_data"
    },
    {
     "data": {
      "text/markdown": [
       "big sphere makes $E_R$:$$E_{inside}\\bigg|_{r=R\\,\\rho=\\rho}=\\left(\\frac{\\mathbf{{x}_{}} \\rho}{3 \\epsilon_{0}}\\right)\\mathbf{\\hat{i}_{}} + \\left(\\frac{\\mathbf{{y}_{}} \\rho}{3 \\epsilon_{0}}\\right)\\mathbf{\\hat{j}_{}} + \\left(\\frac{\\mathbf{{z}_{}} \\rho}{3 \\epsilon_{0}}\\right)\\mathbf{\\hat{k}_{}}$$"
      ],
      "text/plain": [
       "<IPython.core.display.Markdown object>"
      ]
     },
     "jetTransient": {
      "display_id": null
     },
     "metadata": {},
     "output_type": "display_data"
    },
    {
     "data": {
      "text/markdown": [
       "small sphere (think of it as adding a -$\\rho$ electric sphere to the original sphere makes $E_r$:$$E_{inside}\\bigg|_{\\mathbf{{z}_{}}=\\mathbf{{z}_{}} - d\\,r=r\\,\\rho=- \\rho}=\\left(- \\frac{\\mathbf{{x}_{}} \\rho}{3 \\epsilon_{0}}\\right)\\mathbf{\\hat{i}_{}} + \\left(- \\frac{\\mathbf{{y}_{}} \\rho}{3 \\epsilon_{0}}\\right)\\mathbf{\\hat{j}_{}} + \\left(\\frac{\\rho \\left(- \\mathbf{{z}_{}} + d\\right)}{3 \\epsilon_{0}}\\right)\\mathbf{\\hat{k}_{}}$$"
      ],
      "text/plain": [
       "<IPython.core.display.Markdown object>"
      ]
     },
     "jetTransient": {
      "display_id": null
     },
     "metadata": {},
     "output_type": "display_data"
    },
    {
     "data": {
      "text/markdown": [
       "so:$$E_{total} = \\left(\\frac{d \\rho}{3 \\epsilon_{0}}\\right)\\mathbf{\\hat{k}_{}}\\tag{4}$$"
      ],
      "text/plain": [
       "<IPython.core.display.Markdown object>"
      ]
     },
     "jetTransient": {
      "display_id": null
     },
     "metadata": {},
     "output_type": "display_data"
    }
   ],
   "source": [
    "def f1222():\n",
    "    reset()\n",
    "    R = Symbol('R', positive=True)\n",
    "    dense = Symbol('rho', positive=True)\n",
    "    r = Symbol('r', positive=True)\n",
    "    d = Symbol('d', positive=True)\n",
    "    qq = 4 * pi * r ** 3 * dense/3\n",
    "    qq = beautiful_compute('Q',qq,\"sum of Q of a sphere:$\")\n",
    "    qq =substitute_values(qq)\n",
    "    beautiful_at(E,{q:qq.subs(r,pos.magnitude())},\"because:$\")\n",
    "    Ei=beautiful_formula('E_{inside}', E.subs({q: qq.subs(r, pos.magnitude())}))\n",
    "    ER = beautiful_at(Ei,{r:R,dense:dense},\"big sphere makes $E_R$:$\")\n",
    "    Er = beautiful_at(Ei, {z:z-d, r:r,dense:-1* dense},\"small sphere (think of it as adding a -$\\\\rho$ electric sphere to the original sphere makes $E_r$:$\")\n",
    "    beautiful_compute('E_{total}',(ER+Er).simplify(),\"so:$\",\"answer\")\n",
    "\n",
    "\n",
    "f1222()"
   ]
  },
  {
   "cell_type": "markdown",
   "id": "2a2232e1698966f8",
   "metadata": {},
   "source": [
    "### 12.24"
   ]
  },
  {
   "cell_type": "code",
   "execution_count": 13,
   "id": "659899923f448361",
   "metadata": {
    "ExecuteTime": {
     "end_time": "2025-09-29T03:41:47.461798Z",
     "start_time": "2025-09-29T03:41:46.822856Z"
    }
   },
   "outputs": [
    {
     "data": {
      "text/markdown": [
       "given:$$\\rho{\\left(r \\right)} = \\frac{\\textit{e} e^{- \\frac{r}{b}}}{8 \\pi b^{3}}$$"
      ],
      "text/plain": [
       "<IPython.core.display.Markdown object>"
      ]
     },
     "jetTransient": {
      "display_id": null
     },
     "metadata": {},
     "output_type": "display_data"
    },
    {
     "data": {
      "text/markdown": [
       "given:$$Q{\\left(r \\right)} = 4 \\pi \\int\\limits_{0}^{r} r^{2} \\rho{\\left(r \\right)}\\, dr$$"
      ],
      "text/plain": [
       "<IPython.core.display.Markdown object>"
      ]
     },
     "jetTransient": {
      "display_id": null
     },
     "metadata": {},
     "output_type": "display_data"
    },
    {
     "data": {
      "text/markdown": [
       "easily the flux of E for a sphere distribution is:$$\\phi{\\left(r \\right)} = 4 \\pi r^{2} E{\\left(r \\right)}\\tag{3}$$"
      ],
      "text/plain": [
       "<IPython.core.display.Markdown object>"
      ]
     },
     "jetTransient": {
      "display_id": null
     },
     "metadata": {},
     "output_type": "display_data"
    },
    {
     "data": {
      "text/markdown": [
       "$\\left ( 1 \\right ) ,\\left ( 3 \\right )  \\Longrightarrow$"
      ],
      "text/plain": [
       "<IPython.core.display.Markdown object>"
      ]
     },
     "jetTransient": {
      "display_id": null
     },
     "metadata": {},
     "output_type": "display_data"
    },
    {
     "data": {
      "text/markdown": [
       "$$E{\\left(r \\right)} = \\frac{Q{\\left(r \\right)}}{4 \\pi \\epsilon_{0} r^{2}}$$"
      ],
      "text/plain": [
       "<IPython.core.display.Markdown object>"
      ]
     },
     "jetTransient": {
      "display_id": null
     },
     "metadata": {},
     "output_type": "display_data"
    },
    {
     "data": {
      "text/markdown": [
       "$$\\phi{\\left(r \\right)} = \\frac{Q{\\left(r \\right)}}{\\epsilon_{0}}$$"
      ],
      "text/plain": [
       "<IPython.core.display.Markdown object>"
      ]
     },
     "jetTransient": {
      "display_id": null
     },
     "metadata": {},
     "output_type": "display_data"
    },
    {
     "data": {
      "text/markdown": [
       "inlined:$$E{\\left(r \\right)} = \\frac{\\textit{e} \\left(2 b^{2} e^{\\frac{r}{b}} - 2 b^{2} - 2 b r - r^{2}\\right) e^{- \\frac{r}{b}}}{8 \\pi b^{2} \\epsilon_{0} r^{2}}\\tag{answer}$$"
      ],
      "text/plain": [
       "<IPython.core.display.Markdown object>"
      ]
     },
     "jetTransient": {
      "display_id": null
     },
     "metadata": {},
     "output_type": "display_data"
    },
    {
     "data": {
      "text/markdown": [
       "assign:$$b = 2.3 \\cdot 10^{-16}$$"
      ],
      "text/plain": [
       "<IPython.core.display.Markdown object>"
      ]
     },
     "jetTransient": {
      "display_id": null
     },
     "metadata": {},
     "output_type": "display_data"
    },
    {
     "data": {
      "text/markdown": [
       "$$r = 1.0 \\cdot 10^{-15}$$"
      ],
      "text/plain": [
       "<IPython.core.display.Markdown object>"
      ]
     },
     "jetTransient": {
      "display_id": null
     },
     "metadata": {},
     "output_type": "display_data"
    },
    {
     "data": {
      "text/markdown": [
       "$$\\epsilon_{0} = 8.8541878188 \\cdot 10^{-12}$$"
      ],
      "text/plain": [
       "<IPython.core.display.Markdown object>"
      ]
     },
     "jetTransient": {
      "display_id": null
     },
     "metadata": {},
     "output_type": "display_data"
    },
    {
     "data": {
      "text/markdown": [
       "$$\\textit{e} = 1.602176634 \\cdot 10^{-19}$$"
      ],
      "text/plain": [
       "<IPython.core.display.Markdown object>"
      ]
     },
     "jetTransient": {
      "display_id": null
     },
     "metadata": {},
     "output_type": "display_data"
    },
    {
     "data": {
      "text/markdown": [
       "and got her:$$1.1643097573808 \\cdot 10^{21}\\tag{answer}$$"
      ],
      "text/plain": [
       "<IPython.core.display.Markdown object>"
      ]
     },
     "jetTransient": {
      "display_id": null
     },
     "metadata": {},
     "output_type": "display_data"
    }
   ],
   "source": [
    "\n",
    "def f1224():\n",
    "    reset()\n",
    "    b = Symbol('b', positive=True)\n",
    "    r = Symbol('r', positive=True)\n",
    "    ee = Symbol('\\\\textit{e}', positive=True)\n",
    "    dense = Function('rho', positive=True)(r)\n",
    "    E = Function('E')(r)\n",
    "    flux = Function('phi')(r)\n",
    "    beautiful_compute(dense,ee/(8*pi*b**3)*exp(-r/b),\"given:$\")\n",
    "    Q= integrate(dense*4*pi*r**2,(r,0,r))\n",
    "    Q = beautiful_compute(Function('Q')(r),Q,\"given:$\")\n",
    "\n",
    "    flux_cond = beautiful_condition(Eq(flux, 4* pi * r**2*E), \"easily the flux of E for a sphere distribution is:$\")\n",
    "    beautiful_solve([Gauss_law,flux_cond],[E,flux],{electric_flux: flux, enclosed_charge_sum: Q})\n",
    "\n",
    "    beautiful_peek(E, \"inlined:$\",\"answer\")\n",
    "    beautiful_compute(b,0.23E-15,\"assign:$\")\n",
    "    beautiful_compute(r,1.0E-15)\n",
    "    beautiful_compute(epsilon,constants.epsilon_0)\n",
    "    beautiful_compute(ee,constants.e)\n",
    "    beautiful_answer(E.evalf(),\"and got her:$\", f= True)\n",
    "\n",
    "f1224()"
   ]
  },
  {
   "metadata": {
    "ExecuteTime": {
     "end_time": "2025-09-29T03:41:47.461798Z",
     "start_time": "2025-09-29T03:41:46.822856Z"
    }
   },
   "cell_type": "code",
   "outputs": [
    {
     "data": {
      "text/markdown": [
       "given:$$\\rho{\\left(r \\right)} = \\frac{\\textit{e} e^{- \\frac{r}{b}}}{8 \\pi b^{3}}$$"
      ],
      "text/plain": [
       "<IPython.core.display.Markdown object>"
      ]
     },
     "metadata": {},
     "output_type": "display_data",
     "jetTransient": {
      "display_id": null
     }
    },
    {
     "data": {
      "text/markdown": [
       "given:$$Q{\\left(r \\right)} = 4 \\pi \\int\\limits_{0}^{r} r^{2} \\rho{\\left(r \\right)}\\, dr$$"
      ],
      "text/plain": [
       "<IPython.core.display.Markdown object>"
      ]
     },
     "metadata": {},
     "output_type": "display_data",
     "jetTransient": {
      "display_id": null
     }
    },
    {
     "data": {
      "text/markdown": [
       "easily the flux of E for a sphere distribution is:$$\\phi{\\left(r \\right)} = 4 \\pi r^{2} E{\\left(r \\right)}\\tag{3}$$"
      ],
      "text/plain": [
       "<IPython.core.display.Markdown object>"
      ]
     },
     "metadata": {},
     "output_type": "display_data",
     "jetTransient": {
      "display_id": null
     }
    },
    {
     "data": {
      "text/markdown": [
       "$\\left ( 1 \\right ) ,\\left ( 3 \\right )  \\Longrightarrow$"
      ],
      "text/plain": [
       "<IPython.core.display.Markdown object>"
      ]
     },
     "metadata": {},
     "output_type": "display_data",
     "jetTransient": {
      "display_id": null
     }
    },
    {
     "data": {
      "text/markdown": [
       "$$E{\\left(r \\right)} = \\frac{Q{\\left(r \\right)}}{4 \\pi \\epsilon_{0} r^{2}}$$"
      ],
      "text/plain": [
       "<IPython.core.display.Markdown object>"
      ]
     },
     "metadata": {},
     "output_type": "display_data",
     "jetTransient": {
      "display_id": null
     }
    },
    {
     "data": {
      "text/markdown": [
       "$$\\phi{\\left(r \\right)} = \\frac{Q{\\left(r \\right)}}{\\epsilon_{0}}$$"
      ],
      "text/plain": [
       "<IPython.core.display.Markdown object>"
      ]
     },
     "metadata": {},
     "output_type": "display_data",
     "jetTransient": {
      "display_id": null
     }
    },
    {
     "data": {
      "text/markdown": [
       "inlined:$$E{\\left(r \\right)} = \\frac{\\textit{e} \\left(2 b^{2} e^{\\frac{r}{b}} - 2 b^{2} - 2 b r - r^{2}\\right) e^{- \\frac{r}{b}}}{8 \\pi b^{2} \\epsilon_{0} r^{2}}\\tag{answer}$$"
      ],
      "text/plain": [
       "<IPython.core.display.Markdown object>"
      ]
     },
     "metadata": {},
     "output_type": "display_data",
     "jetTransient": {
      "display_id": null
     }
    },
    {
     "data": {
      "text/markdown": [
       "assign:$$b = 2.3 \\cdot 10^{-16}$$"
      ],
      "text/plain": [
       "<IPython.core.display.Markdown object>"
      ]
     },
     "metadata": {},
     "output_type": "display_data",
     "jetTransient": {
      "display_id": null
     }
    },
    {
     "data": {
      "text/markdown": [
       "$$r = 1.0 \\cdot 10^{-15}$$"
      ],
      "text/plain": [
       "<IPython.core.display.Markdown object>"
      ]
     },
     "metadata": {},
     "output_type": "display_data",
     "jetTransient": {
      "display_id": null
     }
    },
    {
     "data": {
      "text/markdown": [
       "$$\\epsilon_{0} = 8.8541878188 \\cdot 10^{-12}$$"
      ],
      "text/plain": [
       "<IPython.core.display.Markdown object>"
      ]
     },
     "metadata": {},
     "output_type": "display_data",
     "jetTransient": {
      "display_id": null
     }
    },
    {
     "data": {
      "text/markdown": [
       "$$\\textit{e} = 1.602176634 \\cdot 10^{-19}$$"
      ],
      "text/plain": [
       "<IPython.core.display.Markdown object>"
      ]
     },
     "metadata": {},
     "output_type": "display_data",
     "jetTransient": {
      "display_id": null
     }
    },
    {
     "data": {
      "text/markdown": [
       "and got her:$$1.1643097573808 \\cdot 10^{21}\\tag{answer}$$"
      ],
      "text/plain": [
       "<IPython.core.display.Markdown object>"
      ]
     },
     "metadata": {},
     "output_type": "display_data",
     "jetTransient": {
      "display_id": null
     }
    }
   ],
   "execution_count": 13,
   "source": [
    "\n",
    "def f1224():\n",
    "    reset()\n",
    "    b = Symbol('b', positive=True)\n",
    "    r = Symbol('r', positive=True)\n",
    "    ee = Symbol('\\\\textit{e}', positive=True)\n",
    "    dense = Function('rho', positive=True)(r)\n",
    "    E = Function('E')(r)\n",
    "    flux = Function('phi')(r)\n",
    "    beautiful_compute(dense,ee/(8*pi*b**3)*exp(-r/b),\"given:$\")\n",
    "    Q= integrate(dense*4*pi*r**2,(r,0,r))\n",
    "    Q = beautiful_compute(Function('Q')(r),Q,\"given:$\")\n",
    "\n",
    "    flux_cond = beautiful_condition(Eq(flux, 4* pi * r**2*E), \"easily the flux of E for a sphere distribution is:$\")\n",
    "    beautiful_solve([Gauss_law,flux_cond],[E,flux],{electric_flux: flux, enclosed_charge_sum: Q})\n",
    "\n",
    "    beautiful_peek(E, \"inlined:$\",\"answer\")\n",
    "    beautiful_compute(b,0.23E-15,\"assign:$\")\n",
    "    beautiful_compute(r,1.0E-15)\n",
    "    beautiful_compute(epsilon,constants.epsilon_0)\n",
    "    beautiful_compute(ee,constants.e)\n",
    "    beautiful_answer(E.evalf(),\"and got her:$\", f= True)\n",
    "\n",
    "f1224()"
   ],
   "id": "d50eafe7910d4d53"
  }
 ],
 "metadata": {
  "kernelspec": {
   "display_name": "Python 3 (ipykernel)",
   "language": "python",
   "name": "python3"
  },
  "language_info": {
   "codemirror_mode": {
    "name": "ipython",
    "version": 3
   },
   "file_extension": ".py",
   "mimetype": "text/x-python",
   "name": "python",
   "nbconvert_exporter": "python",
   "pygments_lexer": "ipython3",
   "version": "3.13.7"
  }
 },
 "nbformat": 4,
 "nbformat_minor": 5
}
