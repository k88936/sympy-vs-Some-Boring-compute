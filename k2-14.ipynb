{
 "cells": [
  {
   "cell_type": "markdown",
   "id": "8a77807f92f26ee",
   "metadata": {},
   "source": [
    "# utils & framework"
   ]
  },
  {
   "cell_type": "code",
   "execution_count": 30,
   "id": "fbc121e30a2defb3",
   "metadata": {
    "ExecuteTime": {
     "end_time": "2025-10-11T04:53:25.746347Z",
     "start_time": "2025-10-11T04:53:25.693849Z"
    }
   },
   "outputs": [],
   "source": [
    "from typing import List, Any\n",
    "from collections.abc import Iterable\n",
    "\n",
    "import scipy.constants\n",
    "from IPython.core.display import Markdown\n",
    "from sympy import *\n",
    "from sympy.vector import *\n",
    "\n",
    "tag_id = 0\n",
    "conditions = {}\n",
    "values = {}\n",
    "formulas_names = {}\n",
    "restore_stack = []\n",
    "\n",
    "\n",
    "def reset():\n",
    "    global tag_id, conditions, values, formulas_names\n",
    "    if restore_stack:\n",
    "        state = restore_stack[-1]\n",
    "        tag_id = state['tag_id']\n",
    "        conditions = state['conditions'].copy()\n",
    "        values = state['values'].copy()\n",
    "        formulas_names = state['formulas_names'].copy()\n",
    "\n",
    "\n",
    "def push_state():\n",
    "    global restore_stack\n",
    "    restore_stack.append({\n",
    "        'tag_id': tag_id,\n",
    "        'conditions': conditions.copy(),\n",
    "        'values': values.copy(),\n",
    "        'formulas_names': formulas_names.copy()\n",
    "    })\n",
    "\n",
    "\n",
    "def pop_state():\n",
    "    global restore_stack\n",
    "    return restore_stack.pop()\n",
    "\n",
    "\n",
    "def save_as_condition(condition):\n",
    "    global tag_id, conditions\n",
    "    cached_condition_id = tag_id\n",
    "    conditions[tag_id] = condition\n",
    "    tag_id += 1\n",
    "    return cached_condition_id\n",
    "\n",
    "\n",
    "def substitute_values(expression, mask=None):\n",
    "    while True:\n",
    "        left = False\n",
    "        items = values.items() if mask is None else filter(lambda item: item[0] in mask, values.items())\n",
    "        for (key, value) in items:\n",
    "            before = str(expression)\n",
    "            expression = expression.subs(key, value)\n",
    "            expression = simplify(expression)\n",
    "            if str(expression) != before:\n",
    "                left = True\n",
    "        if not left:\n",
    "            break\n",
    "\n",
    "    return expression\n",
    "\n",
    "\n",
    "def save_as_variable(symbol, value):\n",
    "    global values\n",
    "    if symbol in values.keys():\n",
    "        raise ValueError(f\"variable {symbol} already exists\")\n",
    "    values[symbol] = substitute_values(S(value))\n",
    "\n",
    "\n",
    "def save_as_formula_name(symbol, formula):\n",
    "    global tag_id, formulas_names\n",
    "    tag_id += 1\n",
    "    if symbol in formulas_names.keys():\n",
    "        raise ValueError(f\"formula {symbol} already exists\")\n",
    "    formulas_names[symbol] = formula\n",
    "\n",
    "\n",
    "def beautiful_print(expression, message=\"\", tag=None):\n",
    "    expression = expression if isinstance(expression, str) else latex(expression)\n",
    "    inline = not message.endswith('$')\n",
    "    tag_str = f'\\\\tag{{{tag}}}' if tag is not None else \"\"\n",
    "    if inline:\n",
    "        full_latex = message + '$' + expression + '$'\n",
    "    else:\n",
    "        full_latex = message + '$' + expression + tag_str + '$$'\n",
    "    display(Markdown(full_latex))\n",
    "\n",
    "\n",
    "def beautiful_answer(expression, message=\"$\", f: bool = False):\n",
    "    symbol= expression\n",
    "    expression = spf(expression)\n",
    "    expression = expression.evalf() if f else expression\n",
    "    beautiful_print(Eq(symbol,expression,evaluate=false), message, tag=\"answer\")\n",
    "\n",
    "\n",
    "def beautiful_peek(symbol, message=\"$\", tag=None):\n",
    "    value = substitute_values(symbol)\n",
    "    beautiful_print(Eq(symbol, value, evaluate=False), message, tag)\n",
    "\n",
    "\n",
    "def beautiful_solve(cond, variables, apply: dict = None):\n",
    "    cond = [cond] if not isinstance(cond, Iterable) else cond\n",
    "    display(Markdown(f\"${','.join(f\"\\\\left ( {i} \\\\right ) \" for i in cond)} \\\\Longrightarrow$\"))\n",
    "\n",
    "    variables = [variables] if not isinstance(variables, Iterable) else variables\n",
    "\n",
    "    apply = apply if apply is not None else {}\n",
    "\n",
    "    cond = tuple(map(lambda i: conditions[i].subs(apply), cond))\n",
    "    solution = solve(cond, tuple(variables), dict=True)[0]\n",
    "    conclusions = []\n",
    "    for (variable, conclusion) in solution.items():\n",
    "        beautiful_print(Eq(variable, conclusion), \"$\")\n",
    "        save_as_variable(variable, conclusion)\n",
    "        conclusions.append(conclusion)\n",
    "\n",
    "\n",
    "def beautiful_condition(expression, message=\"$\"):\n",
    "    beautiful_print(expression(False) if callable(expression) else expression, message, tag_id)\n",
    "    return save_as_condition(expression(True) if callable(expression) else expression)\n",
    "\n",
    "\n",
    "def beautiful_compute(symbol, expression, message=\"$\", tag=None):\n",
    "    symbol = symbols(symbol) if isinstance(symbol, str) else symbol\n",
    "    global tag_id\n",
    "    beautiful_print(Eq(symbol, expression(False) if callable(expression) else expression, evaluate=False), message,\n",
    "                    tag_id if tag else None)\n",
    "    if tag:\n",
    "        tag_id += 1\n",
    "    save_as_variable(symbol, expression(True) if callable(expression) else expression)\n",
    "    return symbol\n",
    "\n",
    "\n",
    "def beautiful_formula(symbol: str, expression: object, message: object = \"$\", ) -> Any:\n",
    "    beautiful_print(f\"{symbol}=\" + latex(expression), message, tag_id)\n",
    "    save_as_formula_name(expression, symbol)\n",
    "    return expression\n",
    "\n",
    "\n",
    "def beautiful_at(formula, subs: dict, message=\"$\", tag: bool = None):\n",
    "    result = simplify(formula.subs(subs))\n",
    "    param = '\\\\,'.join(f\"{latex(item[0])}={latex(item[1])}\" for item in subs.items())\n",
    "    beautiful_print(formulas_names[formula] + f\"\\\\bigg|_{{{param}}}=\" + latex(result), message, tag)\n",
    "    return result\n",
    "\n",
    "\n",
    "def spf(expression):\n",
    "    expression = substitute_values(expression)\n",
    "    expression = simplify(expression)\n",
    "    return expression\n",
    "\n",
    "\n",
    "class D:\n",
    "    def __init__(self, symbol: Symbol, name: str = None):\n",
    "        symbol = 'd' + latex(symbol) if name is None else name\n",
    "        self.symbol = Symbol(symbol)\n",
    "\n",
    "    def __enter__(self):\n",
    "        return self.symbol\n",
    "\n",
    "    def __exit__(self, type, value, traceback):\n",
    "        save_as_variable(self.symbol, 1)\n",
    "\n",
    "\n",
    "def map_vector(vec, func):\n",
    "    return sum(\n",
    "        # 0 is i/j/k sharp, 1 is expr\n",
    "        map(lambda item: func(item[1]) * item[0], vec.components.items()),\n",
    "        Vector.zero\n",
    "    )\n",
    "\n",
    "\n",
    "def series_vector(vec, param, x0=0, n=2):\n",
    "    return map_vector(vec, lambda e: series(e, param, x0, n).removeO())\n",
    "\n",
    "\n",
    "def integrate_vector(vec, param):\n",
    "    return map_vector(vec, lambda e: integrate(e, param))\n",
    "\n",
    "\n",
    "def beautiful_vector(xi=0, yj=0, zk=0):\n",
    "    xi = Symbol(xi) if isinstance(xi, str) else xi\n",
    "    yj = Symbol(yj) if isinstance(yj, str) else yj\n",
    "    zk = Symbol(zk) if isinstance(zk, str) else zk\n",
    "    return xi * coord.i + yj * coord.j + zk * coord.k\n",
    "\n",
    "\n",
    "coord = CoordSys3D('')\n",
    "\n",
    "\n",
    "def refine_piecewise(pw_expr, assume):\n",
    "    \"\"\"Refine a Piecewise expression with given assumptions.\"\"\"\n",
    "    if not isinstance(pw_expr, Piecewise):\n",
    "        return refine(pw_expr, assume)\n",
    "\n",
    "    for expr_val, cond in pw_expr.args:\n",
    "        if cond:  # Default/otherwise branch\n",
    "            return refine(expr_val, assume)\n",
    "        elif ask(cond, assume):\n",
    "            return refine(expr_val, assume)\n",
    "\n",
    "    # If no branch can be definitively chosen, refine each branch\n",
    "    refined_args = [(refine(expr_val, assume), cond)\n",
    "                    for expr_val, cond in pw_expr.args]\n",
    "    return Piecewise(*refined_args)\n"
   ]
  },
  {
   "cell_type": "markdown",
   "id": "55036118566e2ec8",
   "metadata": {},
   "source": [
    "## Common"
   ]
  },
  {
   "cell_type": "code",
   "execution_count": 31,
   "id": "3c1bcc504bcddd3f",
   "metadata": {
    "ExecuteTime": {
     "end_time": "2025-10-11T04:53:25.759336Z",
     "start_time": "2025-10-11T04:53:25.748096Z"
    }
   },
   "outputs": [
    {
     "data": {
      "text/markdown": [
       "by Coulomb's law:$$E=\\left(\\frac{\\mathbf{{x}_{}} q}{4 \\pi \\epsilon_{0} \\left(\\mathbf{{x}_{}}^{2} + \\mathbf{{y}_{}}^{2} + \\mathbf{{z}_{}}^{2}\\right)^{\\frac{3}{2}}}\\right)\\mathbf{\\hat{i}_{}} + \\left(\\frac{\\mathbf{{y}_{}} q}{4 \\pi \\epsilon_{0} \\left(\\mathbf{{x}_{}}^{2} + \\mathbf{{y}_{}}^{2} + \\mathbf{{z}_{}}^{2}\\right)^{\\frac{3}{2}}}\\right)\\mathbf{\\hat{j}_{}} + \\left(\\frac{\\mathbf{{z}_{}} q}{4 \\pi \\epsilon_{0} \\left(\\mathbf{{x}_{}}^{2} + \\mathbf{{y}_{}}^{2} + \\mathbf{{z}_{}}^{2}\\right)^{\\frac{3}{2}}}\\right)\\mathbf{\\hat{k}_{}}\\tag{0}$$"
      ],
      "text/plain": [
       "<IPython.core.display.Markdown object>"
      ]
     },
     "jetTransient": {
      "display_id": null
     },
     "metadata": {},
     "output_type": "display_data"
    },
    {
     "data": {
      "text/markdown": [
       "by Gauss's law:$$\\phi_{e} = \\frac{Q_{sum}}{\\epsilon_{0}}\\tag{1}$$"
      ],
      "text/plain": [
       "<IPython.core.display.Markdown object>"
      ]
     },
     "jetTransient": {
      "display_id": null
     },
     "metadata": {},
     "output_type": "display_data"
    },
    {
     "data": {
      "text/markdown": [
       "electric potential:$$\\varphi=\\frac{q}{4 \\pi \\epsilon_{0} \\sqrt{\\mathbf{{x}_{}}^{2} + \\mathbf{{y}_{}}^{2} + \\mathbf{{z}_{}}^{2}}}\\tag{2}$$"
      ],
      "text/plain": [
       "<IPython.core.display.Markdown object>"
      ]
     },
     "jetTransient": {
      "display_id": null
     },
     "metadata": {},
     "output_type": "display_data"
    }
   ],
   "source": [
    "epsilon = symbols('epsilon_0', positive=True)\n",
    "k = 1 / (4 * pi * epsilon)\n",
    "charge = symbols('q')\n",
    "x = coord.x\n",
    "y = coord.y\n",
    "z = coord.z\n",
    "pos = x * coord.i + y * coord.j + z * coord.k\n",
    "E = beautiful_formula('E', k * charge * pos / pos.magnitude() ** 3, \"by Coulomb's law:$\")\n",
    "electric_flux = Symbol('phi_e')\n",
    "enclosed_charge_sum = Symbol('Q_{sum}')\n",
    "Gauss_law = beautiful_condition(Eq(electric_flux, enclosed_charge_sum / epsilon), \"by Gauss's law:$\")\n",
    "def fn_potential(q,r):\n",
    "    return k*q/r\n",
    "P = beautiful_formula('\\\\varphi', fn_potential(charge , pos.magnitude()), 'electric potential:$')\n",
    "def save_common_consts():\n",
    "    save_as_variable(epsilon, scipy.constants.epsilon_0)\n",
    "    save_as_variable(pi, scipy.constants.pi)\n",
    "push_state()"
   ]
  },
  {
   "cell_type": "markdown",
   "id": "2f195090d1213387",
   "metadata": {},
   "source": [
    "# 14.2\n",
    "<img src=\"data:image/jpeg;base64,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\" alt=\"screenshot\" />"
   ]
  },
  {
   "cell_type": "code",
   "execution_count": 32,
   "id": "dcbd219d44747589",
   "metadata": {
    "ExecuteTime": {
     "end_time": "2025-10-11T04:53:29.030138Z",
     "start_time": "2025-10-11T04:53:25.804927Z"
    }
   },
   "outputs": [
    {
     "data": {
      "text/markdown": [
       "given:$$q_{2} + q_{3} = Q\\tag{3}$$"
      ],
      "text/plain": [
       "<IPython.core.display.Markdown object>"
      ]
     },
     "jetTransient": {
      "display_id": null
     },
     "metadata": {},
     "output_type": "display_data"
    },
    {
     "data": {
      "text/markdown": [
       "given:$$\\phi_{1} = \\frac{q_{3}}{4 \\pi R_{3} \\epsilon_{0}} + \\frac{q_{2}}{4 \\pi R_{2} \\epsilon_{0}} + \\frac{q_{1}}{4 \\pi R_{1} \\epsilon_{0}}\\tag{4}$$"
      ],
      "text/plain": [
       "<IPython.core.display.Markdown object>"
      ]
     },
     "jetTransient": {
      "display_id": null
     },
     "metadata": {},
     "output_type": "display_data"
    },
    {
     "data": {
      "text/markdown": [
       "by Gauss law:$$q_{1} + q_{2} = 0\\tag{5}$$"
      ],
      "text/plain": [
       "<IPython.core.display.Markdown object>"
      ]
     },
     "jetTransient": {
      "display_id": null
     },
     "metadata": {},
     "output_type": "display_data"
    },
    {
     "data": {
      "text/markdown": [
       "$\\left ( 3 \\right ) ,\\left ( 4 \\right ) ,\\left ( 5 \\right )  \\Longrightarrow$"
      ],
      "text/plain": [
       "<IPython.core.display.Markdown object>"
      ]
     },
     "jetTransient": {
      "display_id": null
     },
     "metadata": {},
     "output_type": "display_data"
    },
    {
     "data": {
      "text/markdown": [
       "$$q_{1} = \\frac{- Q R_{1} R_{2} + 4 \\pi R_{1} R_{2} R_{3} \\epsilon_{0} \\phi_{1}}{R_{1} R_{2} - R_{1} R_{3} + R_{2} R_{3}}$$"
      ],
      "text/plain": [
       "<IPython.core.display.Markdown object>"
      ]
     },
     "jetTransient": {
      "display_id": null
     },
     "metadata": {},
     "output_type": "display_data"
    },
    {
     "data": {
      "text/markdown": [
       "$$q_{2} = \\frac{Q R_{1} R_{2} - 4 \\pi R_{1} R_{2} R_{3} \\epsilon_{0} \\phi_{1}}{R_{1} R_{2} - R_{1} R_{3} + R_{2} R_{3}}$$"
      ],
      "text/plain": [
       "<IPython.core.display.Markdown object>"
      ]
     },
     "jetTransient": {
      "display_id": null
     },
     "metadata": {},
     "output_type": "display_data"
    },
    {
     "data": {
      "text/markdown": [
       "$$q_{3} = \\frac{- Q R_{1} R_{3} + Q R_{2} R_{3} + 4 \\pi R_{1} R_{2} R_{3} \\epsilon_{0} \\phi_{1}}{R_{1} R_{2} - R_{1} R_{3} + R_{2} R_{3}}$$"
      ],
      "text/plain": [
       "<IPython.core.display.Markdown object>"
      ]
     },
     "jetTransient": {
      "display_id": null
     },
     "metadata": {},
     "output_type": "display_data"
    },
    {
     "data": {
      "text/markdown": [
       "get the potential:$$\\phi{\\left(r \\right)} = \\begin{cases} \\frac{q_{1}}{4 \\pi \\epsilon_{0} r} + \\frac{q_{2}}{4 \\pi \\epsilon_{0} r} + \\frac{q_{3}}{4 \\pi \\epsilon_{0} r} & \\text{for}\\: R_{3} < r \\\\\\frac{q_{1}}{4 \\pi \\epsilon_{0} r} + \\frac{q_{2}}{4 \\pi \\epsilon_{0} r} + \\frac{q_{3}}{4 \\pi R_{3} \\epsilon_{0}} & \\text{for}\\: R_{2} < r \\\\\\frac{q_{1}}{4 \\pi \\epsilon_{0} r} + \\frac{q_{3}}{4 \\pi R_{3} \\epsilon_{0}} + \\frac{q_{2}}{4 \\pi R_{2} \\epsilon_{0}} & \\text{for}\\: R_{1} < r \\\\\\phi_{1} & \\text{otherwise} \\end{cases}$$"
      ],
      "text/plain": [
       "<IPython.core.display.Markdown object>"
      ]
     },
     "jetTransient": {
      "display_id": null
     },
     "metadata": {},
     "output_type": "display_data"
    },
    {
     "data": {
      "text/markdown": [
       "inlined:$$\\phi{\\left(r \\right)} = \\begin{cases} \\frac{R_{3} \\left(- Q R_{1} + Q R_{2} + 4 \\pi R_{1} R_{2} \\epsilon_{0} \\phi_{1}\\right)}{4 \\pi \\epsilon_{0} r \\left(R_{1} R_{2} - R_{1} R_{3} + R_{2} R_{3}\\right)} & \\text{for}\\: R_{3} < r \\\\\\frac{- Q R_{1} + Q R_{2} + 4 \\pi R_{1} R_{2} \\epsilon_{0} \\phi_{1}}{4 \\pi \\epsilon_{0} \\left(R_{1} R_{2} - R_{1} R_{3} + R_{2} R_{3}\\right)} & \\text{for}\\: R_{2} < r \\\\\\frac{- R_{1} R_{2} \\left(Q - 4 \\pi R_{3} \\epsilon_{0} \\phi_{1}\\right) + R_{1} r \\left(Q - 4 \\pi R_{3} \\epsilon_{0} \\phi_{1}\\right) + r \\left(- Q R_{1} + Q R_{2} + 4 \\pi R_{1} R_{2} \\epsilon_{0} \\phi_{1}\\right)}{4 \\pi \\epsilon_{0} r \\left(R_{1} R_{2} - R_{1} R_{3} + R_{2} R_{3}\\right)} & \\text{for}\\: R_{1} < r \\\\\\phi_{1} & \\text{otherwise} \\end{cases}\\tag{answer}$$"
      ],
      "text/plain": [
       "<IPython.core.display.Markdown object>"
      ]
     },
     "jetTransient": {
      "display_id": null
     },
     "metadata": {},
     "output_type": "display_data"
    },
    {
     "data": {
      "text/markdown": [
       "and $E$:$$- \\frac{d}{d r} \\phi{\\left(r \\right)} = \\begin{cases} \\frac{R_{3} \\left(- Q R_{1} + Q R_{2} + 4 \\pi R_{1} R_{2} \\epsilon_{0} \\phi_{1}\\right)}{4 \\pi \\epsilon_{0} r^{2} \\left(R_{1} R_{2} - R_{1} R_{3} + R_{2} R_{3}\\right)} & \\text{for}\\: R_{3} < r \\\\0 & \\text{for}\\: R_{2} < r \\\\\\frac{R_{1} R_{2} \\left(- Q + 4 \\pi R_{3} \\epsilon_{0} \\phi_{1}\\right)}{4 \\pi \\epsilon_{0} r^{2} \\left(R_{1} R_{2} - R_{1} R_{3} + R_{2} R_{3}\\right)} & \\text{for}\\: R_{1} < r \\\\0 & \\text{otherwise} \\end{cases}$$"
      ],
      "text/plain": [
       "<IPython.core.display.Markdown object>"
      ]
     },
     "jetTransient": {
      "display_id": null
     },
     "metadata": {},
     "output_type": "display_data"
    }
   ],
   "source": [
    "def t142():\n",
    "    reset()\n",
    "    q1= Symbol('q_1')\n",
    "    q2 = Symbol('q_2')\n",
    "    q3 = Symbol('q_3')\n",
    "    QQ = Symbol('Q')\n",
    "    phi_1 = Symbol('phi_1')\n",
    "    R_1 = Symbol('R_1')\n",
    "    R_2 = Symbol('R_2')\n",
    "    R_3 = Symbol('R_3')\n",
    "    \n",
    "    r = Symbol('r',positive=True)\n",
    "    \n",
    "    c1 = beautiful_condition(Eq(q3+q2,QQ),\"given:$\")\n",
    "    c2= beautiful_condition(Eq(phi_1,fn_potential(q1,R_1)+fn_potential(q2,R_2)+fn_potential(q3,R_3)),\"given:$\")\n",
    "    c3 = beautiful_condition(Eq(q1+q2,0),\"by Gauss law:$\")\n",
    "    \n",
    "    beautiful_solve([c1,c2,c3],[q1,q2,q3])\n",
    "    ppp=beautiful_compute(Function('phi')(r),Piecewise((fn_potential(q1,r)+fn_potential(q2,r)+fn_potential(q3,r),r>R_3)\n",
    "                                                   ,(fn_potential(q1,r)+fn_potential(q2,r)+fn_potential(q3,R_3),(r<=R_3)&(r>R_2))\n",
    "                                                   ,(fn_potential(q1,r)+fn_potential(q2,R_2)+fn_potential(q3,R_3),(r<=R_2)&(r>R_1))\n",
    "                                                   ,(phi_1,True)\n",
    "                                                   ),\"get the potential:$\")\n",
    "    beautiful_answer(ppp,\"inlined:$\")\n",
    "    beautiful_peek(-diff(ppp,r),\"and $E$:$\")\n",
    "\n",
    "t142()"
   ]
  },
  {
   "cell_type": "markdown",
   "id": "f81bd294a52ecf13",
   "metadata": {},
   "source": [
    "# 143\n",
    "<img src=\"data:image/jpeg;base64,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\" alt=\"screenshot\" />"
   ]
  },
  {
   "cell_type": "code",
   "execution_count": 33,
   "id": "a453bfdec2a3e345",
   "metadata": {
    "ExecuteTime": {
     "end_time": "2025-10-11T04:53:30.322439Z",
     "start_time": "2025-10-11T04:53:29.031896Z"
    }
   },
   "outputs": [
    {
     "name": "stdout",
     "output_type": "stream",
     "text": [
      "sub question(1)\n"
     ]
    },
    {
     "data": {
      "text/markdown": [
       "given:$$q_{2} + q_{3} = Q_{B}\\tag{3}$$"
      ],
      "text/plain": [
       "<IPython.core.display.Markdown object>"
      ]
     },
     "jetTransient": {
      "display_id": null
     },
     "metadata": {},
     "output_type": "display_data"
    },
    {
     "data": {
      "text/markdown": [
       "by Gauss law:$$Q_{A} + q_{2} = 0\\tag{4}$$"
      ],
      "text/plain": [
       "<IPython.core.display.Markdown object>"
      ]
     },
     "jetTransient": {
      "display_id": null
     },
     "metadata": {},
     "output_type": "display_data"
    },
    {
     "data": {
      "text/markdown": [
       "$\\left ( 3 \\right ) ,\\left ( 4 \\right )  \\Longrightarrow$"
      ],
      "text/plain": [
       "<IPython.core.display.Markdown object>"
      ]
     },
     "jetTransient": {
      "display_id": null
     },
     "metadata": {},
     "output_type": "display_data"
    },
    {
     "data": {
      "text/markdown": [
       "$$q_{2} = - Q_{A}$$"
      ],
      "text/plain": [
       "<IPython.core.display.Markdown object>"
      ]
     },
     "jetTransient": {
      "display_id": null
     },
     "metadata": {},
     "output_type": "display_data"
    },
    {
     "data": {
      "text/markdown": [
       "$$q_{3} = Q_{A} + Q_{B}$$"
      ],
      "text/plain": [
       "<IPython.core.display.Markdown object>"
      ]
     },
     "jetTransient": {
      "display_id": null
     },
     "metadata": {},
     "output_type": "display_data"
    },
    {
     "data": {
      "text/markdown": [
       "inlined:$$q_{2} = -3.0 \\cdot 10^{-8}\\tag{answer}$$"
      ],
      "text/plain": [
       "<IPython.core.display.Markdown object>"
      ]
     },
     "jetTransient": {
      "display_id": null
     },
     "metadata": {},
     "output_type": "display_data"
    },
    {
     "data": {
      "text/markdown": [
       "inlined:$$q_{3} = 5.0 \\cdot 10^{-8}\\tag{answer}$$"
      ],
      "text/plain": [
       "<IPython.core.display.Markdown object>"
      ]
     },
     "jetTransient": {
      "display_id": null
     },
     "metadata": {},
     "output_type": "display_data"
    },
    {
     "data": {
      "text/markdown": [
       "$$\\phi_{A} = \\frac{Q_{A}}{4 \\pi R_{1} \\epsilon_{0}} + \\frac{q_{3}}{4 \\pi R_{3} \\epsilon_{0}} + \\frac{q_{2}}{4 \\pi R_{2} \\epsilon_{0}}$$"
      ],
      "text/plain": [
       "<IPython.core.display.Markdown object>"
      ]
     },
     "jetTransient": {
      "display_id": null
     },
     "metadata": {},
     "output_type": "display_data"
    },
    {
     "data": {
      "text/markdown": [
       "inlined:$$\\phi_{A} = 5620.06900182962\\tag{answer}$$"
      ],
      "text/plain": [
       "<IPython.core.display.Markdown object>"
      ]
     },
     "jetTransient": {
      "display_id": null
     },
     "metadata": {},
     "output_type": "display_data"
    },
    {
     "data": {
      "text/markdown": [
       "$$\\phi_{B} = \\frac{Q_{A}}{4 \\pi R_{3} \\epsilon_{0}} + \\frac{q_{2}}{4 \\pi R_{3} \\epsilon_{0}} + \\frac{q_{3}}{4 \\pi R_{3} \\epsilon_{0}}$$"
      ],
      "text/plain": [
       "<IPython.core.display.Markdown object>"
      ]
     },
     "jetTransient": {
      "display_id": null
     },
     "metadata": {},
     "output_type": "display_data"
    },
    {
     "data": {
      "text/markdown": [
       "inlined:$$\\phi_{B} = 4496.05520146369\\tag{answer}$$"
      ],
      "text/plain": [
       "<IPython.core.display.Markdown object>"
      ]
     },
     "jetTransient": {
      "display_id": null
     },
     "metadata": {},
     "output_type": "display_data"
    },
    {
     "name": "stdout",
     "output_type": "stream",
     "text": [
      "sub question(2)\n"
     ]
    },
    {
     "data": {
      "text/markdown": [
       "by Gauss law:$$Q_{A} + q_{2} = 0\\tag{3}$$"
      ],
      "text/plain": [
       "<IPython.core.display.Markdown object>"
      ]
     },
     "jetTransient": {
      "display_id": null
     },
     "metadata": {},
     "output_type": "display_data"
    },
    {
     "data": {
      "text/markdown": [
       "$\\left ( 3 \\right )  \\Longrightarrow$"
      ],
      "text/plain": [
       "<IPython.core.display.Markdown object>"
      ]
     },
     "jetTransient": {
      "display_id": null
     },
     "metadata": {},
     "output_type": "display_data"
    },
    {
     "data": {
      "text/markdown": [
       "$$q_{2} = - Q_{A}$$"
      ],
      "text/plain": [
       "<IPython.core.display.Markdown object>"
      ]
     },
     "jetTransient": {
      "display_id": null
     },
     "metadata": {},
     "output_type": "display_data"
    },
    {
     "data": {
      "text/markdown": [
       "by contact ground:$$q_{3} = 0$$"
      ],
      "text/plain": [
       "<IPython.core.display.Markdown object>"
      ]
     },
     "jetTransient": {
      "display_id": null
     },
     "metadata": {},
     "output_type": "display_data"
    },
    {
     "data": {
      "text/markdown": [
       "outer sphere charge sum:$$Q_{new2} + Q_{new3} = q_{2}\\tag{4}$$"
      ],
      "text/plain": [
       "<IPython.core.display.Markdown object>"
      ]
     },
     "jetTransient": {
      "display_id": null
     },
     "metadata": {},
     "output_type": "display_data"
    },
    {
     "data": {
      "text/markdown": [
       "by contact ground:$$\\frac{Q_{new2}}{4 \\pi R_{2} \\epsilon_{0}} + \\frac{Q_{new3}}{4 \\pi R_{3} \\epsilon_{0}} + \\frac{Q_{newA}}{4 \\pi R_{1} \\epsilon_{0}} = 0\\tag{5}$$"
      ],
      "text/plain": [
       "<IPython.core.display.Markdown object>"
      ]
     },
     "jetTransient": {
      "display_id": null
     },
     "metadata": {},
     "output_type": "display_data"
    },
    {
     "data": {
      "text/markdown": [
       "by Gauss law:$$Q_{new2} + Q_{newA} = 0\\tag{6}$$"
      ],
      "text/plain": [
       "<IPython.core.display.Markdown object>"
      ]
     },
     "jetTransient": {
      "display_id": null
     },
     "metadata": {},
     "output_type": "display_data"
    },
    {
     "data": {
      "text/markdown": [
       "$\\left ( 4 \\right ) ,\\left ( 5 \\right ) ,\\left ( 6 \\right )  \\Longrightarrow$"
      ],
      "text/plain": [
       "<IPython.core.display.Markdown object>"
      ]
     },
     "jetTransient": {
      "display_id": null
     },
     "metadata": {},
     "output_type": "display_data"
    },
    {
     "data": {
      "text/markdown": [
       "$$Q_{new2} = \\frac{R_{1} R_{2} q_{2}}{R_{1} R_{2} - R_{1} R_{3} + R_{2} R_{3}}$$"
      ],
      "text/plain": [
       "<IPython.core.display.Markdown object>"
      ]
     },
     "jetTransient": {
      "display_id": null
     },
     "metadata": {},
     "output_type": "display_data"
    },
    {
     "data": {
      "text/markdown": [
       "$$Q_{new3} = \\frac{- R_{1} R_{3} q_{2} + R_{2} R_{3} q_{2}}{R_{1} R_{2} - R_{1} R_{3} + R_{2} R_{3}}$$"
      ],
      "text/plain": [
       "<IPython.core.display.Markdown object>"
      ]
     },
     "jetTransient": {
      "display_id": null
     },
     "metadata": {},
     "output_type": "display_data"
    },
    {
     "data": {
      "text/markdown": [
       "$$Q_{newA} = - \\frac{R_{1} R_{2} q_{2}}{R_{1} R_{2} - R_{1} R_{3} + R_{2} R_{3}}$$"
      ],
      "text/plain": [
       "<IPython.core.display.Markdown object>"
      ]
     },
     "jetTransient": {
      "display_id": null
     },
     "metadata": {},
     "output_type": "display_data"
    },
    {
     "data": {
      "text/markdown": [
       "inlined:$$Q_{newA} = 2.11764705882353 \\cdot 10^{-8}\\tag{answer}$$"
      ],
      "text/plain": [
       "<IPython.core.display.Markdown object>"
      ]
     },
     "jetTransient": {
      "display_id": null
     },
     "metadata": {},
     "output_type": "display_data"
    },
    {
     "data": {
      "text/markdown": [
       "inlined:$$Q_{new2} = -2.11764705882353 \\cdot 10^{-8}\\tag{answer}$$"
      ],
      "text/plain": [
       "<IPython.core.display.Markdown object>"
      ]
     },
     "jetTransient": {
      "display_id": null
     },
     "metadata": {},
     "output_type": "display_data"
    },
    {
     "data": {
      "text/markdown": [
       "inlined:$$Q_{new3} = -8.82352941176471 \\cdot 10^{-9}\\tag{answer}$$"
      ],
      "text/plain": [
       "<IPython.core.display.Markdown object>"
      ]
     },
     "jetTransient": {
      "display_id": null
     },
     "metadata": {},
     "output_type": "display_data"
    },
    {
     "data": {
      "text/markdown": [
       "$$\\phi_{A} = \\frac{Q_{new2}}{4 \\pi R_{2} \\epsilon_{0}} + \\frac{Q_{new3}}{4 \\pi R_{3} \\epsilon_{0}} + \\frac{Q_{newA}}{4 \\pi R_{1} \\epsilon_{0}}$$"
      ],
      "text/plain": [
       "<IPython.core.display.Markdown object>"
      ]
     },
     "jetTransient": {
      "display_id": null
     },
     "metadata": {},
     "output_type": "display_data"
    },
    {
     "data": {
      "text/markdown": [
       "inlined:$$\\phi_{A} = 0\\tag{answer}$$"
      ],
      "text/plain": [
       "<IPython.core.display.Markdown object>"
      ]
     },
     "jetTransient": {
      "display_id": null
     },
     "metadata": {},
     "output_type": "display_data"
    },
    {
     "data": {
      "text/markdown": [
       "$$\\phi_{B} = \\frac{Q_{new2}}{4 \\pi R_{3} \\epsilon_{0}} + \\frac{Q_{new3}}{4 \\pi R_{3} \\epsilon_{0}} + \\frac{Q_{newA}}{4 \\pi R_{3} \\epsilon_{0}}$$"
      ],
      "text/plain": [
       "<IPython.core.display.Markdown object>"
      ]
     },
     "jetTransient": {
      "display_id": null
     },
     "metadata": {},
     "output_type": "display_data"
    },
    {
     "data": {
      "text/markdown": [
       "inlined:$$\\phi_{B} = -793.019275250365\\tag{answer}$$"
      ],
      "text/plain": [
       "<IPython.core.display.Markdown object>"
      ]
     },
     "jetTransient": {
      "display_id": null
     },
     "metadata": {},
     "output_type": "display_data"
    }
   ],
   "source": [
    "def t143():\n",
    "    reset()\n",
    "    print(\"sub question(1)\")\n",
    "    q1 = Symbol('Q_A')\n",
    "    q2 = Symbol('q_2')\n",
    "    q3 = Symbol('q_3')\n",
    "    QQ = Symbol('Q_B')\n",
    "    R_1 = Symbol('R_1')\n",
    "    R_2 = Symbol('R_2')\n",
    "    R_3 = Symbol('R_3')\n",
    "\n",
    "    r = Symbol('r', positive=True)\n",
    "\n",
    "    c1 = beautiful_condition(Eq(q3 + q2, QQ), \"given:$\")\n",
    "\n",
    "    c3 = beautiful_condition(Eq(q1 + q2, 0), \"by Gauss law:$\")\n",
    "\n",
    "    beautiful_solve([c1, c3], [q2, q3])\n",
    "    save_as_variable(epsilon,scipy.constants.epsilon_0)\n",
    "    save_as_variable(q1,3E-8)\n",
    "    save_as_variable(QQ,2E-8)\n",
    "    save_as_variable(R_1,0.06)\n",
    "    save_as_variable(R_2,0.08)\n",
    "    save_as_variable(R_3,0.10)\n",
    "    save_as_variable(pi,3.14)\n",
    "    beautiful_answer(q2,\"inlined:$\")\n",
    "    beautiful_answer(q3,\"inlined:$\")\n",
    "    ppppp = beautiful_compute(Symbol('\\\\phi_{A}'),fn_potential(q1,R_1)+fn_potential(q2,R_2)+fn_potential(q3,R_3),)\n",
    "    beautiful_answer(ppppp,\"inlined:$\")\n",
    "    ppppp = beautiful_compute(Symbol('\\\\phi_{B}'),fn_potential(q1,R_3)+fn_potential(q2,R_3)+fn_potential(q3,R_3),)\n",
    "    beautiful_answer(ppppp,\"inlined:$\")\n",
    "    # ppp = beautiful_compute(Function('phi')(r),\n",
    "    #                         Piecewise((fn_potential(q1, r) + fn_potential(q2, r) + fn_potential(q3, r), r > R_3)\n",
    "    #                                   , (fn_potential(q1, r) + fn_potential(q2, r) + fn_potential(q3, R_3),\n",
    "    #                                      (r <= R_3) & (r > R_2))\n",
    "    #                                   , (fn_potential(q1, r) + fn_potential(q2, R_2) + fn_potential(q3, R_3),\n",
    "    #                                      (r <= R_2) & (r > R_1))\n",
    "    #                                   , (fn_potential(q1,R_1)+ fn_potential(q2,R_2)+ fn_potential(q3,R_3), True)\n",
    "    #                                   ), \"get the potential:$\")\n",
    "    # beautiful_answer(ppp, \"inlined:$\")\n",
    "    # beautiful_peek(-diff(ppp, r), \"and $E$:$\")\n",
    "    \n",
    "    reset()\n",
    "    print(\"sub question(2)\")\n",
    "   \n",
    "    \n",
    "    nq1= Symbol('Q_{newA}')\n",
    "    nq2 = Symbol('Q_{new2}')\n",
    "    nq3 = Symbol('Q_{new3}')\n",
    "    c5 = beautiful_condition(Eq(q1 + q2, 0), \"by Gauss law:$\")\n",
    "    beautiful_solve(c5,q2)\n",
    "    beautiful_compute(q3,0,\"by contact ground:$\")\n",
    "    \n",
    "    c6 = beautiful_condition(Eq(nq2+nq3,q2),\"outer sphere charge sum:$\")\n",
    "    c7 = beautiful_condition(Eq(fn_potential(nq1,R_1)+ fn_potential(nq2,R_2)+fn_potential(nq3,R_3),0),\"by contact ground:$\")\n",
    "\n",
    "    c8 = beautiful_condition(Eq(nq1 + nq2, 0), \"by Gauss law:$\")\n",
    "    beautiful_solve([c6,c7,c8],[nq1,nq2\n",
    "                        ,nq3])\n",
    "    save_common_consts()\n",
    "    save_as_variable(q1,3E-8)\n",
    "    save_as_variable(QQ,2E-8)\n",
    "    save_as_variable(R_1,0.06)\n",
    "    save_as_variable(R_2,0.08)\n",
    "    save_as_variable(R_3,0.10)\n",
    "    \n",
    "    beautiful_answer(nq1,\"inlined:$\")\n",
    "    beautiful_answer(nq2,\"inlined:$\")\n",
    "    beautiful_answer(nq3,\"inlined:$\")\n",
    "    ppppp = beautiful_compute(Symbol('\\\\phi_{A}'),fn_potential(nq1,R_1)+fn_potential(nq2,R_2)+fn_potential(nq3,R_3),)\n",
    "    beautiful_answer(ppppp,\"inlined:$\")\n",
    "    ppppp = beautiful_compute(Symbol('\\\\phi_{B}'),fn_potential(nq1,R_3)+fn_potential(nq2,R_3)+fn_potential(nq3,R_3),)\n",
    "    beautiful_answer(ppppp,\"inlined:$\")\n",
    "\n",
    "\n",
    "\n",
    "\n",
    "t143()\n"
   ]
  },
  {
   "cell_type": "markdown",
   "id": "2ba13ce0991ddb15",
   "metadata": {},
   "source": [
    "# 14.5"
   ]
  },
  {
   "cell_type": "code",
   "execution_count": 34,
   "id": "5e70584ee2968ccb",
   "metadata": {
    "ExecuteTime": {
     "end_time": "2025-10-11T04:53:31.400095Z",
     "start_time": "2025-10-11T04:53:31.021064Z"
    }
   },
   "outputs": [
    {
     "data": {
      "text/markdown": [
       "by geometry:$$d_{3} = - d_{1} + d_{2}$$"
      ],
      "text/plain": [
       "<IPython.core.display.Markdown object>"
      ]
     },
     "jetTransient": {
      "display_id": null
     },
     "metadata": {},
     "output_type": "display_data"
    },
    {
     "data": {
      "text/markdown": [
       "given:$$\\sigma_{3} + \\sigma_{4} = sum_{mid}\\tag{3}$$"
      ],
      "text/plain": [
       "<IPython.core.display.Markdown object>"
      ]
     },
     "jetTransient": {
      "display_id": null
     },
     "metadata": {},
     "output_type": "display_data"
    },
    {
     "data": {
      "text/markdown": [
       "by Gauss law to Gauss surface 1:$$\\sigma_{2} + \\sigma_{3} = 0\\tag{4}$$"
      ],
      "text/plain": [
       "<IPython.core.display.Markdown object>"
      ]
     },
     "jetTransient": {
      "display_id": null
     },
     "metadata": {},
     "output_type": "display_data"
    },
    {
     "data": {
      "text/markdown": [
       "by Gauss law to Gauss surface 2:$$\\sigma_{4} + \\sigma_{5} = 0\\tag{5}$$"
      ],
      "text/plain": [
       "<IPython.core.display.Markdown object>"
      ]
     },
     "jetTransient": {
      "display_id": null
     },
     "metadata": {},
     "output_type": "display_data"
    },
    {
     "data": {
      "text/markdown": [
       "by connection of board 1 and 3:$$\\sigma_{1} + \\sigma_{2} + \\sigma_{5} + \\sigma_{6} = 0\\tag{6}$$"
      ],
      "text/plain": [
       "<IPython.core.display.Markdown object>"
      ]
     },
     "jetTransient": {
      "display_id": null
     },
     "metadata": {},
     "output_type": "display_data"
    },
    {
     "data": {
      "text/markdown": [
       "by connection of board 1 and 3, equal potential:$$- d_{2} \\left(\\sigma_{1} + \\sigma_{2}\\right) + d_{2} \\left(\\sigma_{5} + \\sigma_{6}\\right) + \\left(d_{1} - d_{3}\\right) \\left(\\sigma_{3} + \\sigma_{4}\\right) = 0\\tag{7}$$"
      ],
      "text/plain": [
       "<IPython.core.display.Markdown object>"
      ]
     },
     "jetTransient": {
      "display_id": null
     },
     "metadata": {},
     "output_type": "display_data"
    },
    {
     "data": {
      "text/markdown": [
       "by inside the mid board  $E$ is zero:$$\\sigma_{1} + \\sigma_{2} + \\sigma_{3} = \\sigma_{4} + \\sigma_{5} + \\sigma_{6}\\tag{8}$$"
      ],
      "text/plain": [
       "<IPython.core.display.Markdown object>"
      ]
     },
     "jetTransient": {
      "display_id": null
     },
     "metadata": {},
     "output_type": "display_data"
    },
    {
     "data": {
      "text/markdown": [
       "$\\left ( 3 \\right ) ,\\left ( 4 \\right ) ,\\left ( 5 \\right ) ,\\left ( 6 \\right ) ,\\left ( 7 \\right ) ,\\left ( 8 \\right )  \\Longrightarrow$"
      ],
      "text/plain": [
       "<IPython.core.display.Markdown object>"
      ]
     },
     "jetTransient": {
      "display_id": null
     },
     "metadata": {},
     "output_type": "display_data"
    },
    {
     "data": {
      "text/markdown": [
       "$$\\sigma_{1} = \\frac{sum_{mid}}{2}$$"
      ],
      "text/plain": [
       "<IPython.core.display.Markdown object>"
      ]
     },
     "jetTransient": {
      "display_id": null
     },
     "metadata": {},
     "output_type": "display_data"
    },
    {
     "data": {
      "text/markdown": [
       "$$\\sigma_{2} = \\frac{d_{1} sum_{mid} - d_{2} sum_{mid} - d_{3} sum_{mid}}{2 d_{2}}$$"
      ],
      "text/plain": [
       "<IPython.core.display.Markdown object>"
      ]
     },
     "jetTransient": {
      "display_id": null
     },
     "metadata": {},
     "output_type": "display_data"
    },
    {
     "data": {
      "text/markdown": [
       "$$\\sigma_{3} = \\frac{- d_{1} sum_{mid} + d_{2} sum_{mid} + d_{3} sum_{mid}}{2 d_{2}}$$"
      ],
      "text/plain": [
       "<IPython.core.display.Markdown object>"
      ]
     },
     "jetTransient": {
      "display_id": null
     },
     "metadata": {},
     "output_type": "display_data"
    },
    {
     "data": {
      "text/markdown": [
       "$$\\sigma_{4} = \\frac{d_{1} sum_{mid} + d_{2} sum_{mid} - d_{3} sum_{mid}}{2 d_{2}}$$"
      ],
      "text/plain": [
       "<IPython.core.display.Markdown object>"
      ]
     },
     "jetTransient": {
      "display_id": null
     },
     "metadata": {},
     "output_type": "display_data"
    },
    {
     "data": {
      "text/markdown": [
       "$$\\sigma_{5} = \\frac{- d_{1} sum_{mid} - d_{2} sum_{mid} + d_{3} sum_{mid}}{2 d_{2}}$$"
      ],
      "text/plain": [
       "<IPython.core.display.Markdown object>"
      ]
     },
     "jetTransient": {
      "display_id": null
     },
     "metadata": {},
     "output_type": "display_data"
    },
    {
     "data": {
      "text/markdown": [
       "$$\\sigma_{6} = \\frac{sum_{mid}}{2}$$"
      ],
      "text/plain": [
       "<IPython.core.display.Markdown object>"
      ]
     },
     "jetTransient": {
      "display_id": null
     },
     "metadata": {},
     "output_type": "display_data"
    },
    {
     "data": {
      "text/markdown": [
       "inlined:$$\\sigma_{1} = 6.5 \\cdot 10^{-6}\\tag{answer}$$"
      ],
      "text/plain": [
       "<IPython.core.display.Markdown object>"
      ]
     },
     "jetTransient": {
      "display_id": null
     },
     "metadata": {},
     "output_type": "display_data"
    },
    {
     "data": {
      "text/markdown": [
       "$$\\sigma_{2} = -4.875 \\cdot 10^{-6}\\tag{answer}$$"
      ],
      "text/plain": [
       "<IPython.core.display.Markdown object>"
      ]
     },
     "jetTransient": {
      "display_id": null
     },
     "metadata": {},
     "output_type": "display_data"
    },
    {
     "data": {
      "text/markdown": [
       "$$\\sigma_{3} = 4.875 \\cdot 10^{-6}\\tag{answer}$$"
      ],
      "text/plain": [
       "<IPython.core.display.Markdown object>"
      ]
     },
     "jetTransient": {
      "display_id": null
     },
     "metadata": {},
     "output_type": "display_data"
    },
    {
     "data": {
      "text/markdown": [
       "$$\\sigma_{4} = 8.125 \\cdot 10^{-6}\\tag{answer}$$"
      ],
      "text/plain": [
       "<IPython.core.display.Markdown object>"
      ]
     },
     "jetTransient": {
      "display_id": null
     },
     "metadata": {},
     "output_type": "display_data"
    },
    {
     "data": {
      "text/markdown": [
       "$$\\sigma_{5} = -8.125 \\cdot 10^{-6}\\tag{answer}$$"
      ],
      "text/plain": [
       "<IPython.core.display.Markdown object>"
      ]
     },
     "jetTransient": {
      "display_id": null
     },
     "metadata": {},
     "output_type": "display_data"
    },
    {
     "data": {
      "text/markdown": [
       "$$\\sigma_{6} = 6.5 \\cdot 10^{-6}\\tag{answer}$$"
      ],
      "text/plain": [
       "<IPython.core.display.Markdown object>"
      ]
     },
     "jetTransient": {
      "display_id": null
     },
     "metadata": {},
     "output_type": "display_data"
    }
   ],
   "source": [
    "def t145():\n",
    "    reset()\n",
    "    sigma_1 = Symbol('sigma_1')\n",
    "    sigma_2 = Symbol('sigma_2')\n",
    "    sigma_3 = Symbol('sigma_3')\n",
    "    sigma_4 = Symbol('sigma_4')\n",
    "    sigma_5 = Symbol('sigma_5')\n",
    "    sigma_6 = Symbol('sigma_6')\n",
    "    sum_mid = Symbol('sum_mid')\n",
    "    \n",
    "    d1= Symbol('d1')\n",
    "    d2 = Symbol('d2')\n",
    "    d3 = Symbol('d3')\n",
    "    \n",
    "    beautiful_compute(d3,d2-d1,\"by geometry:$\")\n",
    "    c1=beautiful_condition(Eq(sigma_3+ sigma_4, sum_mid),\"given:$\")\n",
    "    c2= beautiful_condition(Eq(sigma_2+sigma_3,0),\"by Gauss law to Gauss surface 1:$\")\n",
    "    c3= beautiful_condition(Eq(sigma_4+sigma_5,0),\"by Gauss law to Gauss surface 2:$\")\n",
    "    c4 = beautiful_condition(Eq(sigma_1+sigma_2+sigma_5+sigma_6,0),\"by connection of board 1 and 3:$\")\n",
    "    c5 = beautiful_condition(Eq((sigma_6+sigma_5)*d2 + (sigma_4+ sigma_3)*(d1-d3)+(sigma_1+ sigma_2)*(-d2),0),\"by connection of board 1 and 3, equal potential:$\")\n",
    "    c6= beautiful_condition(Eq(sigma_1+ sigma_2+ sigma_3 , sigma_4+ sigma_5+ sigma_6), \"by inside the mid board  $E$ is zero:$\")\n",
    "\n",
    "    beautiful_solve([c1,c2,c3,c4,c5,c6],[sigma_1,sigma_2,sigma_3,sigma_4,sigma_5,sigma_6])\n",
    "\n",
    "    save_as_variable(sum_mid,1.3E-5)\n",
    "    save_as_variable(d1,0.05)\n",
    "    save_as_variable(d2,0.08)\n",
    "\n",
    "    beautiful_answer(sigma_1,\"inlined:$\")\n",
    "    beautiful_answer(sigma_2)\n",
    "    beautiful_answer(sigma_3)\n",
    "    beautiful_answer(sigma_4)\n",
    "    beautiful_answer(sigma_5)\n",
    "    beautiful_answer(sigma_6)\n",
    "    \n",
    "    \n",
    "t145()"
   ]
  },
  {
   "cell_type": "markdown",
   "id": "7a1cf91ae833f643",
   "metadata": {},
   "source": [
    "# 14.6\n",
    "<img src=\"data:image/jpeg;base64,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\" alt=\"screenshot\" />"
   ]
  },
  {
   "cell_type": "code",
   "execution_count": 36,
   "id": "e43a8a7e613ce618",
   "metadata": {
    "ExecuteTime": {
     "end_time": "2025-10-11T04:53:55.173656Z",
     "start_time": "2025-10-11T04:53:55.015778Z"
    }
   },
   "outputs": [
    {
     "data": {
      "text/markdown": [
       "## take surface1, for inside, the outer world equals nothing , that means , the $q_1$ should distributes evenly on the inner sphere, and apply **no** force to $q_c$"
      ],
      "text/plain": [
       "<IPython.core.display.Markdown object>"
      ]
     },
     "jetTransient": {
      "display_id": null
     },
     "metadata": {},
     "output_type": "display_data"
    },
    {
     "data": {
      "text/markdown": [
       "that is :$$F_{c} = 0\\tag{3}$$"
      ],
      "text/plain": [
       "<IPython.core.display.Markdown object>"
      ]
     },
     "jetTransient": {
      "display_id": null
     },
     "metadata": {},
     "output_type": "display_data"
    },
    {
     "data": {
      "text/markdown": [
       "## that is same to $q_b$"
      ],
      "text/plain": [
       "<IPython.core.display.Markdown object>"
      ]
     },
     "jetTransient": {
      "display_id": null
     },
     "metadata": {},
     "output_type": "display_data"
    },
    {
     "data": {
      "text/markdown": [
       "$$F_{b} = 0\\tag{4}$$"
      ],
      "text/plain": [
       "<IPython.core.display.Markdown object>"
      ]
     },
     "jetTransient": {
      "display_id": null
     },
     "metadata": {},
     "output_type": "display_data"
    },
    {
     "data": {
      "text/markdown": [
       "apply Gauss law to surface1:$$q_{1} = - q_{c}$$"
      ],
      "text/plain": [
       "<IPython.core.display.Markdown object>"
      ]
     },
     "jetTransient": {
      "display_id": null
     },
     "metadata": {},
     "output_type": "display_data"
    },
    {
     "data": {
      "text/markdown": [
       "apply Gauss law to surface2:$$q_{2} = - q_{b}$$"
      ],
      "text/plain": [
       "<IPython.core.display.Markdown object>"
      ]
     },
     "jetTransient": {
      "display_id": null
     },
     "metadata": {},
     "output_type": "display_data"
    },
    {
     "data": {
      "text/markdown": [
       "by zero charge sum:$$q_{3} = - q_{1} - q_{2}$$"
      ],
      "text/plain": [
       "<IPython.core.display.Markdown object>"
      ]
     },
     "jetTransient": {
      "display_id": null
     },
     "metadata": {},
     "output_type": "display_data"
    },
    {
     "data": {
      "text/markdown": [
       "as $q_d$ is far away from the sphere, we can approximately assume A as a point charge with $q_3$, and compute $E$:$$F_{d} = \\frac{q_{3} q_{d}}{4 \\pi \\epsilon_{0} r^{2}}$$"
      ],
      "text/plain": [
       "<IPython.core.display.Markdown object>"
      ]
     },
     "jetTransient": {
      "display_id": null
     },
     "metadata": {},
     "output_type": "display_data"
    },
    {
     "data": {
      "text/markdown": [
       "inlined:$$F_{d} = \\frac{q_{d} \\left(q_{b} + q_{c}\\right)}{4 \\pi \\epsilon_{0} r^{2}}\\tag{answer}$$"
      ],
      "text/plain": [
       "<IPython.core.display.Markdown object>"
      ]
     },
     "jetTransient": {
      "display_id": null
     },
     "metadata": {},
     "output_type": "display_data"
    }
   ],
   "source": [
    "def t146():\n",
    "    reset()\n",
    "    q1= Symbol('q_1')\n",
    "    q2 = Symbol('q_2')\n",
    "    q3 = Symbol('q_3')\n",
    "    qb = Symbol('q_b')\n",
    "    qc = Symbol('q_c')\n",
    "    qd = Symbol('q_d')\n",
    "\n",
    "    display(Markdown(\"## take surface1, for inside, the outer world equals nothing , that means , the $q_1$ should distributes evenly on the inner sphere, and apply **no** force to $q_c$\"))\n",
    "    beautiful_compute('F_c',0,\"that is :$\",tag= \"answer\")\n",
    "    display(Markdown(\"## that is same to $q_b$\"))\n",
    "    beautiful_compute('F_b',0,tag= \"answer\")\n",
    "\n",
    "    beautiful_compute(q1,-qc, \"apply Gauss law to surface1:$\")\n",
    "    beautiful_compute(q2,-qb,\"apply Gauss law to surface2:$\")\n",
    "    beautiful_compute(q3,-q1-q2,\"by zero charge sum:$\")\n",
    "    r= Symbol('r')\n",
    "    fd=beautiful_compute(Symbol('F_{d}'), k* q3*qd /r**2,\"as $q_d$ is far away from the sphere, we can approximately assume A as a point charge with $q_3$, and compute $E$:$\")\n",
    "    beautiful_answer(fd,\"inlined:$\")\n",
    "t146()"
   ]
  }
 ],
 "metadata": {
  "kernelspec": {
   "display_name": "Python 3 (ipykernel)",
   "language": "python",
   "name": "python3"
  },
  "language_info": {
   "codemirror_mode": {
    "name": "ipython",
    "version": 3
   },
   "file_extension": ".py",
   "mimetype": "text/x-python",
   "name": "python",
   "nbconvert_exporter": "python",
   "pygments_lexer": "ipython3",
   "version": "3.14.0"
  }
 },
 "nbformat": 4,
 "nbformat_minor": 5
}
