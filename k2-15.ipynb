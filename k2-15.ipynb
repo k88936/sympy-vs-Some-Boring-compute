{
 "cells": [
  {
   "cell_type": "markdown",
   "id": "8a77807f92f26ee",
   "metadata": {},
   "source": [
    "# utils & framework"
   ]
  },
  {
   "cell_type": "code",
   "id": "fbc121e30a2defb3",
   "metadata": {
    "ExecuteTime": {
     "end_time": "2025-10-25T14:00:50.033052Z",
     "start_time": "2025-10-25T14:00:50.018885Z"
    }
   },
   "source": [
    "from collections.abc import Iterable\n",
    "\n",
    "import scipy.constants\n",
    "import sympy\n",
    "from IPython.core.display import Markdown\n",
    "from sympy import *\n",
    "from sympy.vector import *\n",
    "\n",
    "ASSUM = sympy.Q\n",
    "\n",
    "tag_id = 0\n",
    "conditions = {}\n",
    "values = {}\n",
    "formulas_names = {}\n",
    "restore_stack = []\n",
    "\n",
    "\n",
    "def reset():\n",
    "    global tag_id, conditions, values, formulas_names\n",
    "    if restore_stack:\n",
    "        state = restore_stack[-1]\n",
    "        tag_id = state['tag_id']\n",
    "        conditions = state['conditions'].copy()\n",
    "        values = state['values'].copy()\n",
    "        formulas_names = state['formulas_names'].copy()\n",
    "\n",
    "\n",
    "def push_state():\n",
    "    global restore_stack\n",
    "    restore_stack.append({\n",
    "        'tag_id': tag_id,\n",
    "        'conditions': conditions.copy(),\n",
    "        'values': values.copy(),\n",
    "        'formulas_names': formulas_names.copy()\n",
    "    })\n",
    "\n",
    "\n",
    "def pop_state():\n",
    "    global restore_stack\n",
    "    return restore_stack.pop()\n",
    "\n",
    "\n",
    "def save_as_condition(condition):\n",
    "    global tag_id, conditions\n",
    "    cached_condition_id = tag_id\n",
    "    condition = spf(condition)\n",
    "    conditions[tag_id] = condition\n",
    "    tag_id += 1\n",
    "    return cached_condition_id\n",
    "\n",
    "\n",
    "def substitute_values(expression, mask=None):\n",
    "    while True:\n",
    "        left = False\n",
    "        items = values.items() if mask is None else filter(lambda item: item[0] in mask, values.items())\n",
    "        for (key, value) in items:\n",
    "            before = str(expression)\n",
    "            expression = expression.subs(key, value)\n",
    "            expression = simplify(expression)\n",
    "            if str(expression) != before:\n",
    "                left = True\n",
    "        if not left:\n",
    "            break\n",
    "\n",
    "    return expression\n",
    "\n",
    "\n",
    "def save_as_variable(symbol, value):\n",
    "    global values\n",
    "    if symbol in values.keys():\n",
    "        raise ValueError(f\"variable {symbol} already exists\")\n",
    "    values[symbol] = substitute_values(S(value))\n",
    "\n",
    "\n",
    "def save_as_formula_name(symbol, formula):\n",
    "    global tag_id, formulas_names\n",
    "    tag_id += 1\n",
    "    if symbol in formulas_names.keys():\n",
    "        raise ValueError(f\"formula {symbol} already exists\")\n",
    "    formulas_names[symbol] = formula\n",
    "\n",
    "\n",
    "def beautiful_print(expression, message=\"\", tag=None):\n",
    "    expression = expression if isinstance(expression, str) else latex(expression)\n",
    "    inline = not message.endswith('$')\n",
    "    tag_str = f'\\\\tag{{{tag}}}' if tag is not None else \"\"\n",
    "    if inline:\n",
    "        full_latex = message + '$' + expression + '$'\n",
    "    else:\n",
    "        full_latex = message + '$' + expression + tag_str + '$$'\n",
    "    display(Markdown(full_latex))\n",
    "\n",
    "\n",
    "def beautiful_answer(expression, message=\"$\", f: bool = False):\n",
    "    symbol = expression\n",
    "    expression = spf(expression)\n",
    "    expression = expression.evalf() if f else expression\n",
    "    beautiful_print(Eq(symbol, expression, evaluate=false), message, tag=\"answer\")\n",
    "\n",
    "\n",
    "def beautiful_inlined(expression, tag=None):\n",
    "    expression = spf(expression)\n",
    "    beautiful_print(expression, \"inlined:$\", tag)\n",
    "\n",
    "\n",
    "def beautiful_peek(symbol, message=\"$\", tag=None):\n",
    "    value = spf(symbol)\n",
    "    beautiful_print(Eq(symbol, value, evaluate=False), message, tag)\n",
    "\n",
    "\n",
    "def beautiful_solve(cond, variables, apply: dict = None):\n",
    "    cond = [cond] if not isinstance(cond, Iterable) else cond\n",
    "    display(Markdown(f\"${','.join(f\"\\\\left ( {i} \\\\right ) \" for i in cond)} \\\\Longrightarrow$\"))\n",
    "\n",
    "    variables = [variables] if not isinstance(variables, Iterable) else variables\n",
    "\n",
    "    apply = apply if apply is not None else {}\n",
    "\n",
    "    cond = tuple(map(lambda i: conditions[i].subs(apply), cond))\n",
    "    cond = map(lambda i: substitute_values(i), cond)\n",
    "    solution = solve(cond, tuple(variables), dict=True)[0]\n",
    "    conclusions = []\n",
    "    for (variable, conclusion) in solution.items():\n",
    "        beautiful_print(Eq(variable, conclusion), \"$\")\n",
    "        save_as_variable(variable, conclusion)\n",
    "        conclusions.append(conclusion)\n",
    "\n",
    "\n",
    "def beautiful_condition(expression, message=\"$\"):\n",
    "    beautiful_print(expression(False) if callable(expression) else expression, message, tag_id)\n",
    "    return save_as_condition(expression(True) if callable(expression) else expression)\n",
    "\n",
    "\n",
    "def beautiful_compute(symbol, expression, message=\"$\", tag=None):\n",
    "    symbol = symbols(symbol) if isinstance(symbol, str) else symbol\n",
    "    global tag_id\n",
    "    beautiful_print(Eq(symbol, expression(False) if callable(expression) else expression, evaluate=False), message,\n",
    "                    tag_id if tag else None)\n",
    "    if tag:\n",
    "        tag_id += 1\n",
    "    save_as_variable(symbol, expression(True) if callable(expression) else expression)\n",
    "    return symbol\n",
    "\n",
    "\n",
    "def beautiful_compute_at(symbol, expression, subs: dict, message=\"$\", tag=None):\n",
    "    symbol = symbols(symbol) if isinstance(symbol, str) else symbol\n",
    "    global tag_id\n",
    "    beautiful_print(Eq(symbol, expression.subs(subs), evaluate=False), message,\n",
    "                    tag_id if tag else None)\n",
    "    if tag:\n",
    "        tag_id += 1\n",
    "    save_as_variable(symbol, substitute_values(expression).subs(subs))\n",
    "    return symbol\n",
    "\n",
    "\n",
    "def beautiful_formula(symbol: str, expression: object, message: object = \"$\", ) -> Any:\n",
    "    beautiful_print(f\"{symbol}=\" + latex(expression), message, tag_id)\n",
    "    save_as_formula_name(expression, symbol)\n",
    "    return expression\n",
    "\n",
    "\n",
    "def beautiful_at(formula, subs: dict, message=\"$\", tag: bool = None):\n",
    "    result = simplify(formula.subs(subs))\n",
    "    param = '\\\\,'.join(f\"{latex(item[0])}={latex(item[1])}\" for item in subs.items())\n",
    "    beautiful_print(formulas_names[formula] + f\"\\\\bigg|_{{{param}}}=\" + latex(result), message, tag)\n",
    "    return result\n",
    "\n",
    "\n",
    "def spf(expression):\n",
    "    expression = substitute_values(expression)\n",
    "    expression = simplify(expression)\n",
    "    expression = expression.doit()\n",
    "    return expression\n",
    "\n",
    "\n",
    "class D:\n",
    "    def __init__(self, symbol: Symbol, name: str = None):\n",
    "        symbol = 'd' + latex(symbol) if name is None else name\n",
    "        self.symbol = Symbol(symbol)\n",
    "\n",
    "    def __enter__(self):\n",
    "        return self.symbol\n",
    "\n",
    "    def __exit__(self, type, value, traceback):\n",
    "        save_as_variable(self.symbol, 1)\n",
    "\n",
    "\n",
    "def map_vector(vec, func):\n",
    "    return sum(\n",
    "        # 0 is i/j/k sharp, 1 is expr\n",
    "        map(lambda item: func(item[1]) * item[0], vec.components.items()),\n",
    "        Vector.zero\n",
    "    )\n",
    "\n",
    "\n",
    "def series_vector(vec, param, x0=0, n=2):\n",
    "    return map_vector(vec, lambda e: series(e, param, x0, n).removeO())\n",
    "\n",
    "\n",
    "def integrate_vector(vec, param):\n",
    "    return map_vector(vec, lambda e: integrate(e, param))\n",
    "\n",
    "\n",
    "def md(msg):\n",
    "    display(Markdown(msg))\n",
    "\n",
    "\n",
    "def beautiful_vector(xi=0, yj=0, zk=0):\n",
    "    xi = Symbol(xi) if isinstance(xi, str) else xi\n",
    "    yj = Symbol(yj) if isinstance(yj, str) else yj\n",
    "    zk = Symbol(zk) if isinstance(zk, str) else zk\n",
    "    return xi * coord.i + yj * coord.j + zk * coord.k\n",
    "\n",
    "\n",
    "def beautiful_branch_at(expression, index):\n",
    "    expression = spf(expression)\n",
    "    branch, cond = expression.args[index]\n",
    "    return branch\n",
    "\n",
    "\n",
    "def refine_piecewise(pw_expr, assume):\n",
    "    pw_expr = spf(pw_expr)\n",
    "\n",
    "    for expr_val, cond in pw_expr.args:\n",
    "        if ask(cond, assume):\n",
    "            return refine(expr_val, assume)\n",
    "\n",
    "    # If no branch can be definitively chosen, refine each branch\n",
    "    refined_args = [(refine(expr_val, assume), cond)\n",
    "                    for expr_val, cond in pw_expr.args]\n",
    "    return Piecewise(*refined_args)\n",
    "\n",
    "\n",
    "coord = CoordSys3D('')"
   ],
   "outputs": [],
   "execution_count": 30
  },
  {
   "cell_type": "markdown",
   "id": "55036118566e2ec8",
   "metadata": {},
   "source": [
    "## Common"
   ]
  },
  {
   "cell_type": "code",
   "id": "3c1bcc504bcddd3f",
   "metadata": {
    "ExecuteTime": {
     "end_time": "2025-10-25T14:00:50.069580Z",
     "start_time": "2025-10-25T14:00:50.042762Z"
    }
   },
   "source": [
    "epsilon_0 = symbols('epsilon_0', positive=True)\n",
    "k = 1 / (4 * pi * epsilon_0)\n",
    "charge = symbols('q')\n",
    "x = coord.x\n",
    "y = coord.y\n",
    "z = coord.z\n",
    "pos = x * coord.i + y * coord.j + z * coord.k\n",
    "E = beautiful_formula('E', k * charge * pos / pos.magnitude() ** 3, \"by Coulomb's law:$\")\n",
    "electric_flux = Symbol('phi_e')\n",
    "enclosed_charge_sum = Symbol('Q_{sum}')\n",
    "Gauss_law = beautiful_condition(Eq(electric_flux, enclosed_charge_sum / epsilon_0), \"by Gauss's law:$\")\n",
    "\n",
    "\n",
    "def fn_potential(q, r):\n",
    "    return k * q / r\n",
    "\n",
    "\n",
    "P = beautiful_formula('\\\\varphi', fn_potential(charge, pos.magnitude()), 'electric potential:$')\n",
    "\n",
    "\n",
    "def save_common_consts():\n",
    "    save_as_variable(epsilon_0, scipy.constants.epsilon_0)\n",
    "    save_as_variable(pi, scipy.constants.pi)\n",
    "\n",
    "\n",
    "push_state()"
   ],
   "outputs": [
    {
     "data": {
      "text/plain": [
       "<IPython.core.display.Markdown object>"
      ],
      "text/markdown": "by Coulomb's law:$$E=\\left(\\frac{\\mathbf{{x}_{}} q}{4 \\pi \\epsilon_{0} \\left(\\mathbf{{x}_{}}^{2} + \\mathbf{{y}_{}}^{2} + \\mathbf{{z}_{}}^{2}\\right)^{\\frac{3}{2}}}\\right)\\mathbf{\\hat{i}_{}} + \\left(\\frac{\\mathbf{{y}_{}} q}{4 \\pi \\epsilon_{0} \\left(\\mathbf{{x}_{}}^{2} + \\mathbf{{y}_{}}^{2} + \\mathbf{{z}_{}}^{2}\\right)^{\\frac{3}{2}}}\\right)\\mathbf{\\hat{j}_{}} + \\left(\\frac{\\mathbf{{z}_{}} q}{4 \\pi \\epsilon_{0} \\left(\\mathbf{{x}_{}}^{2} + \\mathbf{{y}_{}}^{2} + \\mathbf{{z}_{}}^{2}\\right)^{\\frac{3}{2}}}\\right)\\mathbf{\\hat{k}_{}}\\tag{0}$$"
     },
     "metadata": {},
     "output_type": "display_data",
     "jetTransient": {
      "display_id": null
     }
    },
    {
     "data": {
      "text/plain": [
       "<IPython.core.display.Markdown object>"
      ],
      "text/markdown": "by Gauss's law:$$\\phi_{e} = \\frac{Q_{sum}}{\\epsilon_{0}}\\tag{1}$$"
     },
     "metadata": {},
     "output_type": "display_data",
     "jetTransient": {
      "display_id": null
     }
    },
    {
     "data": {
      "text/plain": [
       "<IPython.core.display.Markdown object>"
      ],
      "text/markdown": "electric potential:$$\\varphi=\\frac{q}{4 \\pi \\epsilon_{0} \\sqrt{\\mathbf{{x}_{}}^{2} + \\mathbf{{y}_{}}^{2} + \\mathbf{{z}_{}}^{2}}}\\tag{2}$$"
     },
     "metadata": {},
     "output_type": "display_data",
     "jetTransient": {
      "display_id": null
     }
    }
   ],
   "execution_count": 31
  },
  {
   "metadata": {},
   "cell_type": "markdown",
   "source": [
    "# 15.2\n",
    "<img src=\"data:image/jpeg;base64,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\" alt=\"screenshot\" />"
   ],
   "id": "a626ca17a3f1bec2"
  },
  {
   "metadata": {
    "ExecuteTime": {
     "end_time": "2025-10-25T14:00:52.654012Z",
     "start_time": "2025-10-25T14:00:50.105633Z"
    }
   },
   "cell_type": "code",
   "source": [
    "reset()\n",
    "\n",
    "\n",
    "def t152():\n",
    "    Q, R1, R2, R, epsilon_r1, epsilon_r2, sigma = symbols('Q R1 R2 R epsilon_r1 epsilon_r2 sigma', positive=True)\n",
    "    save_as_variable(Q, -6E-8)\n",
    "    save_as_variable(R, 0.04)\n",
    "    save_as_variable(R1, 0.02)\n",
    "    save_as_variable(R2, 0.06)\n",
    "    save_as_variable(epsilon_r1, 6)\n",
    "    save_as_variable(epsilon_r2, 3)\n",
    "    save_common_consts()\n",
    "\n",
    "    r = Symbol('r', positive=True)\n",
    "    D = Function('D')(r)\n",
    "    E = Function('E')(r)\n",
    "    xxxx = Piecewise((epsilon_0, r < R1),\n",
    "                     (epsilon_0 * epsilon_r1, (r <= R)),\n",
    "                     (epsilon_r2 * epsilon_0, (r <= R2)),\n",
    "                     (epsilon_0, (r > R2)))\n",
    "    epsilon = beautiful_compute(Function('epsilon')(r), xxxx, \"given:$\")\n",
    "    beautiful_compute(E, D / epsilon, \"by define:$\")\n",
    "    beautiful_peek(E, \"inlined:$\")\n",
    "\n",
    "    c1 = beautiful_condition(Eq(4 * pi * r ** 2 * D, Q), \"by gauss:$\")\n",
    "    beautiful_solve(c1, D)\n",
    "    beautiful_answer(E)\n",
    "\n",
    "    U = beautiful_compute(Symbol('U'), integrate(E, (r, R1, R2)))\n",
    "    beautiful_answer(U)\n",
    "\n",
    "    E_1 = beautiful_compute_at(Symbol('E_1'), E, {r: R1}, \"near sphere1:$\")\n",
    "    beautiful_peek(E_1, \"inlined:$\")\n",
    "    P = beautiful_compute('sigma', epsilon_0 * (epsilon_r1 - 1) * E_1, \" by define:$\")\n",
    "    beautiful_answer(P)\n",
    "\n",
    "\n",
    "t152()"
   ],
   "id": "14009dac85a4f789",
   "outputs": [
    {
     "data": {
      "text/plain": [
       "<IPython.core.display.Markdown object>"
      ],
      "text/markdown": "given:$$\\epsilon{\\left(r \\right)} = \\begin{cases} \\epsilon_{0} & \\text{for}\\: R_{1} > r \\\\\\epsilon_{0} \\epsilon_{r1} & \\text{for}\\: R \\geq r \\\\\\epsilon_{0} \\epsilon_{r2} & \\text{for}\\: R_{2} \\geq r \\\\\\epsilon_{0} & \\text{otherwise} \\end{cases}$$"
     },
     "metadata": {},
     "output_type": "display_data",
     "jetTransient": {
      "display_id": null
     }
    },
    {
     "data": {
      "text/plain": [
       "<IPython.core.display.Markdown object>"
      ],
      "text/markdown": "by define:$$E{\\left(r \\right)} = \\frac{D{\\left(r \\right)}}{\\epsilon{\\left(r \\right)}}$$"
     },
     "metadata": {},
     "output_type": "display_data",
     "jetTransient": {
      "display_id": null
     }
    },
    {
     "data": {
      "text/plain": [
       "<IPython.core.display.Markdown object>"
      ],
      "text/markdown": "inlined:$$E{\\left(r \\right)} = \\begin{cases} 112940906660.768 D{\\left(r \\right)} & \\text{for}\\: r < 0.02 \\\\18823484443.4613 D{\\left(r \\right)} & \\text{for}\\: r \\leq 0.04 \\\\37646968886.9227 D{\\left(r \\right)} & \\text{for}\\: r \\leq 0.06 \\\\112940906660.768 D{\\left(r \\right)} & \\text{otherwise} \\end{cases}$$"
     },
     "metadata": {},
     "output_type": "display_data",
     "jetTransient": {
      "display_id": null
     }
    },
    {
     "data": {
      "text/plain": [
       "<IPython.core.display.Markdown object>"
      ],
      "text/markdown": "by gauss:$$4 \\pi r^{2} D{\\left(r \\right)} = Q\\tag{3}$$"
     },
     "metadata": {},
     "output_type": "display_data",
     "jetTransient": {
      "display_id": null
     }
    },
    {
     "data": {
      "text/plain": [
       "<IPython.core.display.Markdown object>"
      ],
      "text/markdown": "$\\left ( 3 \\right )  \\Longrightarrow$"
     },
     "metadata": {},
     "output_type": "display_data",
     "jetTransient": {
      "display_id": null
     }
    },
    {
     "data": {
      "text/plain": [
       "<IPython.core.display.Markdown object>"
      ],
      "text/markdown": "$$D{\\left(r \\right)} = - \\frac{4.77464829275685 \\cdot 10^{-9}}{r^{2}}$$"
     },
     "metadata": {},
     "output_type": "display_data",
     "jetTransient": {
      "display_id": null
     }
    },
    {
     "data": {
      "text/plain": [
       "<IPython.core.display.Markdown object>"
      ],
      "text/markdown": "$$E{\\left(r \\right)} = \\begin{cases} - \\frac{539.253107170247}{r^{2}} & \\text{for}\\: r < 0.02 \\\\- \\frac{89.8755178617078}{r^{2}} & \\text{for}\\: r \\leq 0.04 \\\\- \\frac{179.751035723416}{r^{2}} & \\text{for}\\: r \\leq 0.06 \\\\- \\frac{539.253107170247}{r^{2}} & \\text{otherwise} \\end{cases}\\tag{answer}$$"
     },
     "metadata": {},
     "output_type": "display_data",
     "jetTransient": {
      "display_id": null
     }
    },
    {
     "data": {
      "text/plain": [
       "<IPython.core.display.Markdown object>"
      ],
      "text/markdown": "$$U = \\int\\limits_{R_{1}}^{R_{2}} E{\\left(r \\right)}\\, dr$$"
     },
     "metadata": {},
     "output_type": "display_data",
     "jetTransient": {
      "display_id": null
     }
    },
    {
     "data": {
      "text/plain": [
       "<IPython.core.display.Markdown object>"
      ],
      "text/markdown": "$$U = -3744.81324423782\\tag{answer}$$"
     },
     "metadata": {},
     "output_type": "display_data",
     "jetTransient": {
      "display_id": null
     }
    },
    {
     "data": {
      "text/plain": [
       "<IPython.core.display.Markdown object>"
      ],
      "text/markdown": "near sphere1:$$E_{1} = E{\\left(R_{1} \\right)}$$"
     },
     "metadata": {},
     "output_type": "display_data",
     "jetTransient": {
      "display_id": null
     }
    },
    {
     "data": {
      "text/plain": [
       "<IPython.core.display.Markdown object>"
      ],
      "text/markdown": "inlined:$$E_{1} = -224688.794654269$$"
     },
     "metadata": {},
     "output_type": "display_data",
     "jetTransient": {
      "display_id": null
     }
    },
    {
     "data": {
      "text/plain": [
       "<IPython.core.display.Markdown object>"
      ],
      "text/markdown": " by define:$$\\sigma = E_{1} \\epsilon_{0} \\left(\\epsilon_{r1} - 1\\right)$$"
     },
     "metadata": {},
     "output_type": "display_data",
     "jetTransient": {
      "display_id": null
     }
    },
    {
     "data": {
      "text/plain": [
       "<IPython.core.display.Markdown object>"
      ],
      "text/markdown": "$$\\sigma = -9.94718394324344 \\cdot 10^{-6}\\tag{answer}$$"
     },
     "metadata": {},
     "output_type": "display_data",
     "jetTransient": {
      "display_id": null
     }
    }
   ],
   "execution_count": 32
  },
  {
   "metadata": {},
   "cell_type": "markdown",
   "source": [
    "# 15.3\n",
    "<img src=\"data:image/jpeg;base64,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\" alt=\"screenshot\" />"
   ],
   "id": "4b334634112ae64e"
  },
  {
   "metadata": {
    "ExecuteTime": {
     "end_time": "2025-10-25T14:01:00.478110Z",
     "start_time": "2025-10-25T14:00:52.932731Z"
    }
   },
   "cell_type": "code",
   "source": [
    "reset()\n",
    "\n",
    "\n",
    "def t153():\n",
    "    R1, R2, r0, epsilon_r1, epsilon_r2, U = symbols('R1 R2 r0 epsilon_r1 epsilon_r2 U', positive=True)\n",
    "\n",
    "    beautiful_compute(epsilon_r2, epsilon_r1 / 2, \"given:$\")\n",
    "    r = Symbol('r', positive=True)\n",
    "    Q = symbols('Q')\n",
    "    D = Function('D')(r)\n",
    "    E = Function('E')(r)\n",
    "    xxxx = Piecewise((epsilon_0, r < R1),\n",
    "                     (epsilon_0 * epsilon_r1, (r <= r0)),\n",
    "                     (epsilon_r2 * epsilon_0, (r <= R2)),\n",
    "                     (epsilon_0, (r > R2)))\n",
    "    epsilon = beautiful_compute(Function('epsilon')(r), xxxx, \"given:$\")\n",
    "    beautiful_compute(E, D / epsilon, \"by define:$\")\n",
    "    beautiful_peek(E, \"inlined:$\")\n",
    "\n",
    "    c1 = beautiful_condition(Eq(2 * pi * r * D, Q), \"by gauss:$\")\n",
    "    beautiful_solve(c1, D)\n",
    "\n",
    "    md(\"so $E_{max}$ happens on r2\")\n",
    "    E_max = Symbol(\"E_{max}\")\n",
    "    E_2 = beautiful_compute_at('E_2', beautiful_branch_at(E, 2), {r: R2})\n",
    "    beautiful_peek(E_2, \"inlined:$\")\n",
    "    c1 = beautiful_condition(Eq(E_max, E_2))\n",
    "\n",
    "    beautiful_solve(c1, Q)\n",
    "\n",
    "    beautiful_answer(E)\n",
    "\n",
    "    U = beautiful_compute(Symbol('U'), integrate(E, (r, R1, R2)))\n",
    "    beautiful_peek(U)\n",
    "    U = refine_piecewise(U, ASSUM.lt(R1, r0) & ASSUM.lt\n",
    "    (r0, R2))\n",
    "\n",
    "\n",
    "    beautiful_inlined(U, \"answer\")\n",
    "    print(spf(U))\n",
    "\n",
    "\n",
    "\n",
    "t153()"
   ],
   "id": "52bb230692694c83",
   "outputs": [
    {
     "data": {
      "text/plain": [
       "<IPython.core.display.Markdown object>"
      ],
      "text/markdown": "given:$$\\epsilon_{r2} = \\frac{\\epsilon_{r1}}{2}$$"
     },
     "metadata": {},
     "output_type": "display_data",
     "jetTransient": {
      "display_id": null
     }
    },
    {
     "data": {
      "text/plain": [
       "<IPython.core.display.Markdown object>"
      ],
      "text/markdown": "given:$$\\epsilon{\\left(r \\right)} = \\begin{cases} \\epsilon_{0} & \\text{for}\\: R_{1} > r \\\\\\epsilon_{0} \\epsilon_{r1} & \\text{for}\\: r \\leq r_{0} \\\\\\epsilon_{0} \\epsilon_{r2} & \\text{for}\\: R_{2} \\geq r \\\\\\epsilon_{0} & \\text{otherwise} \\end{cases}$$"
     },
     "metadata": {},
     "output_type": "display_data",
     "jetTransient": {
      "display_id": null
     }
    },
    {
     "data": {
      "text/plain": [
       "<IPython.core.display.Markdown object>"
      ],
      "text/markdown": "by define:$$E{\\left(r \\right)} = \\frac{D{\\left(r \\right)}}{\\epsilon{\\left(r \\right)}}$$"
     },
     "metadata": {},
     "output_type": "display_data",
     "jetTransient": {
      "display_id": null
     }
    },
    {
     "data": {
      "text/plain": [
       "<IPython.core.display.Markdown object>"
      ],
      "text/markdown": "inlined:$$E{\\left(r \\right)} = \\begin{cases} \\frac{D{\\left(r \\right)}}{\\epsilon_{0}} & \\text{for}\\: R_{1} > r \\\\\\frac{D{\\left(r \\right)}}{\\epsilon_{0} \\epsilon_{r1}} & \\text{for}\\: r \\leq r_{0} \\\\\\frac{2 D{\\left(r \\right)}}{\\epsilon_{0} \\epsilon_{r1}} & \\text{for}\\: R_{2} \\geq r \\\\\\frac{D{\\left(r \\right)}}{\\epsilon_{0}} & \\text{otherwise} \\end{cases}$$"
     },
     "metadata": {},
     "output_type": "display_data",
     "jetTransient": {
      "display_id": null
     }
    },
    {
     "data": {
      "text/plain": [
       "<IPython.core.display.Markdown object>"
      ],
      "text/markdown": "by gauss:$$2 \\pi r D{\\left(r \\right)} = Q\\tag{3}$$"
     },
     "metadata": {},
     "output_type": "display_data",
     "jetTransient": {
      "display_id": null
     }
    },
    {
     "data": {
      "text/plain": [
       "<IPython.core.display.Markdown object>"
      ],
      "text/markdown": "$\\left ( 3 \\right )  \\Longrightarrow$"
     },
     "metadata": {},
     "output_type": "display_data",
     "jetTransient": {
      "display_id": null
     }
    },
    {
     "data": {
      "text/plain": [
       "<IPython.core.display.Markdown object>"
      ],
      "text/markdown": "$$D{\\left(r \\right)} = \\frac{Q}{2 \\pi r}$$"
     },
     "metadata": {},
     "output_type": "display_data",
     "jetTransient": {
      "display_id": null
     }
    },
    {
     "data": {
      "text/plain": [
       "<IPython.core.display.Markdown object>"
      ],
      "text/markdown": "so $E_{max}$ happens on r2"
     },
     "metadata": {},
     "output_type": "display_data",
     "jetTransient": {
      "display_id": null
     }
    },
    {
     "data": {
      "text/plain": [
       "<IPython.core.display.Markdown object>"
      ],
      "text/markdown": "$$E_{2} = \\frac{Q}{\\pi R_{2} \\epsilon_{0} \\epsilon_{r1}}$$"
     },
     "metadata": {},
     "output_type": "display_data",
     "jetTransient": {
      "display_id": null
     }
    },
    {
     "data": {
      "text/plain": [
       "<IPython.core.display.Markdown object>"
      ],
      "text/markdown": "inlined:$$E_{2} = \\frac{Q}{\\pi R_{2} \\epsilon_{0} \\epsilon_{r1}}$$"
     },
     "metadata": {},
     "output_type": "display_data",
     "jetTransient": {
      "display_id": null
     }
    },
    {
     "data": {
      "text/plain": [
       "<IPython.core.display.Markdown object>"
      ],
      "text/markdown": "$$E_{max} = E_{2}\\tag{4}$$"
     },
     "metadata": {},
     "output_type": "display_data",
     "jetTransient": {
      "display_id": null
     }
    },
    {
     "data": {
      "text/plain": [
       "<IPython.core.display.Markdown object>"
      ],
      "text/markdown": "$\\left ( 4 \\right )  \\Longrightarrow$"
     },
     "metadata": {},
     "output_type": "display_data",
     "jetTransient": {
      "display_id": null
     }
    },
    {
     "data": {
      "text/plain": [
       "<IPython.core.display.Markdown object>"
      ],
      "text/markdown": "$$Q = \\pi E_{max} R_{2} \\epsilon_{0} \\epsilon_{r1}$$"
     },
     "metadata": {},
     "output_type": "display_data",
     "jetTransient": {
      "display_id": null
     }
    },
    {
     "data": {
      "text/plain": [
       "<IPython.core.display.Markdown object>"
      ],
      "text/markdown": "$$E{\\left(r \\right)} = \\begin{cases} \\frac{E_{max} R_{2} \\epsilon_{r1}}{2 r} & \\text{for}\\: R_{1} > r \\\\\\frac{E_{max} R_{2}}{2 r} & \\text{for}\\: r \\leq r_{0} \\\\\\frac{E_{max} R_{2}}{r} & \\text{for}\\: R_{2} \\geq r \\\\\\frac{E_{max} R_{2} \\epsilon_{r1}}{2 r} & \\text{otherwise} \\end{cases}\\tag{answer}$$"
     },
     "metadata": {},
     "output_type": "display_data",
     "jetTransient": {
      "display_id": null
     }
    },
    {
     "data": {
      "text/plain": [
       "<IPython.core.display.Markdown object>"
      ],
      "text/markdown": "$$U = \\int\\limits_{R_{1}}^{R_{2}} E{\\left(r \\right)}\\, dr$$"
     },
     "metadata": {},
     "output_type": "display_data",
     "jetTransient": {
      "display_id": null
     }
    },
    {
     "data": {
      "text/plain": [
       "<IPython.core.display.Markdown object>"
      ],
      "text/markdown": "$$U = \\begin{cases} - \\frac{E_{max} R_{2} \\log{\\left(R_{1} \\right)}}{2} + E_{max} R_{2} \\log{\\left(R_{2} \\right)} - \\frac{E_{max} R_{2} \\log{\\left(\\min\\left(R_{2}, \\max\\left(R_{1}, r_{0}\\right)\\right) \\right)}}{2} & \\text{for}\\: R_{1} < R_{2} \\\\- \\frac{E_{max} R_{2} \\epsilon_{r1} \\log{\\left(R_{1} \\right)}}{2} + \\frac{E_{max} R_{2} \\epsilon_{r1} \\log{\\left(R_{2} \\right)}}{2} & \\text{otherwise} \\end{cases}$$"
     },
     "metadata": {},
     "output_type": "display_data",
     "jetTransient": {
      "display_id": null
     }
    },
    {
     "data": {
      "text/plain": [
       "<IPython.core.display.Markdown object>"
      ],
      "text/markdown": "inlined:$$E_{max} \\log{\\left(\\left(\\frac{R_{2}^{2}}{R_{1} \\min\\left(R_{2}, \\max\\left(R_{1}, r_{0}\\right)\\right)}\\right)^{\\frac{R_{2}}{2}} \\right)}\\tag{answer}$$"
     },
     "metadata": {},
     "output_type": "display_data",
     "jetTransient": {
      "display_id": null
     }
    },
    {
     "name": "stdout",
     "output_type": "stream",
     "text": [
      "E_{max}*log((R2**2/(R1*Min(R2, Max(R1, r0))))**(R2/2))\n"
     ]
    }
   ],
   "execution_count": 33
  },
  {
   "metadata": {},
   "cell_type": "markdown",
   "source": [
    "that is :\n",
    "$$\n",
    "\\boxed{E_{\\text{max}} \\cdot \\frac{R2}{2} \\cdot \\log\\left( \\frac{R2^2}{R1\\, r0} \\right)}\n",
    "$$"
   ],
   "id": "6e19155bdaad3ca9"
  },
  {
   "metadata": {},
   "cell_type": "markdown",
   "source": [
    "# 15.14\n",
    "<img src=\"data:image/jpeg;base64,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\" alt=\"screenshot\" />\n"
   ],
   "id": "2338dabde65b6238"
  },
  {
   "metadata": {
    "ExecuteTime": {
     "end_time": "2025-10-25T14:01:08.088842Z",
     "start_time": "2025-10-25T14:01:00.757986Z"
    }
   },
   "cell_type": "code",
   "source": [
    "reset()\n",
    "\n",
    "\n",
    "def t15141():\n",
    "    D, d, S = symbols('D d S')\n",
    "    save_as_variable(D, 0.5 * 1E-3)\n",
    "    save_as_variable(d, 0.25 * 1E-3)\n",
    "    save_as_variable(S, 0.02)\n",
    "    save_common_consts()\n",
    "    sigma_1, sigma_2, sigma_3, sigma_4, sigma_5, sigma_6 = symbols('sigma_1 sigma_2 sigma_3 sigma_4 sigma_5 sigma_6')\n",
    "    q = Symbol('q')\n",
    "    c1 = beautiful_condition(Eq(sigma_4 + sigma_5 + sigma_1 + sigma_2 + sigma_3 + sigma_6, 0), \"by zero charge sum:$\")\n",
    "    c2 = beautiful_condition(Eq(sigma_4 + sigma_5, -q / S))\n",
    "    c5 = beautiful_condition(Eq(sigma_2 + sigma_3, q / S))\n",
    "    c6 = beautiful_condition(\n",
    "        Eq(+sigma_6 * (D + d + d) + (sigma_4 + sigma_5) * D - (sigma_2 + sigma_3) * (D) - sigma_1 * (D + d + d),\n",
    "           0), \"by zero potential diff between box top and bottom:$\")\n",
    "    c3 = beautiful_condition(Eq(sigma_1 + sigma_2, sigma_3 + sigma_4 + sigma_5 + sigma_6), \"by upper board zero E:$\")\n",
    "    c4 = beautiful_condition(Eq(sigma_1 + sigma_2 + sigma_3 + sigma_4, sigma_5 + sigma_6), \"by lower board zero E:$\")\n",
    "\n",
    "    beautiful_solve([c1, c2, c3, c4, c5, c6], [sigma_1, sigma_2, sigma_3, sigma_4, sigma_5, sigma_6])\n",
    "\n",
    "    def Eboard(dense):\n",
    "        return dense / (2 * epsilon_0)\n",
    "\n",
    "    E = beautiful_compute('E', Eboard(sigma_1 + sigma_2 + sigma_3 - sigma_4 - sigma_5 - sigma_6))\n",
    "    beautiful_inlined(E)\n",
    "    U = beautiful_compute('U', E * D)\n",
    "    C = beautiful_compute('C', q / U)\n",
    "    beautiful_answer(C)\n",
    "\n",
    "\n",
    "t15141()\n",
    "md(\"-------------------------------\")\n",
    "reset()\n",
    "\n",
    "\n",
    "def t1514():\n",
    "    D, d, S = symbols('D d S')\n",
    "    save_as_variable(D, 0.5 * 1E-3)\n",
    "    save_as_variable(d, 0.25 * 1E-3)\n",
    "    save_as_variable(S, 0.02)\n",
    "    save_common_consts()\n",
    "    sigma_1, sigma_2, sigma_3, sigma_4, sigma_5, sigma_6 = symbols('sigma_1 sigma_2 sigma_3 sigma_4 sigma_5 sigma_6')\n",
    "    q = Symbol('q')\n",
    "    c1 = beautiful_condition(Eq(sigma_4 + sigma_5 + sigma_1 + sigma_2 + sigma_3 + sigma_6, 0), \"by zero charge sum:$\")\n",
    "    c2 = beautiful_condition(Eq(sigma_4 + sigma_5, -q / S))\n",
    "    c3 = beautiful_condition(Eq(sigma_1 + sigma_2, sigma_3 + sigma_4 + sigma_5 + sigma_6), \"by upper board zero E:$\")\n",
    "    c4 = beautiful_condition(Eq(sigma_1 + sigma_2 + sigma_3 + sigma_4, sigma_5 + sigma_6), \"by lower board zero E:$\")\n",
    "    c5 = beautiful_condition(\n",
    "        Eq((-sigma_1) * d + (sigma_2 + sigma_3) * d + (sigma_4 + sigma_5) * (d + D) + sigma_6 * (D + d + d), 0),\n",
    "        \"by connect box and upper board, zero potential:$\")\n",
    "    c6 = beautiful_condition(\n",
    "        Eq(+sigma_6 * (D + d + d) + (sigma_4 + sigma_5) * D - (sigma_2 + sigma_3) * (D) - sigma_1 * (D + d + d),\n",
    "           0), \"by zero potential diff between box top and bottom:$\")\n",
    "    beautiful_solve([c1, c2, c3, c4, c5, c6], [sigma_1, sigma_2, sigma_3, sigma_4, sigma_5, sigma_6])\n",
    "\n",
    "    def Eboard(dense):\n",
    "        return dense / (2 * epsilon_0)\n",
    "\n",
    "    E = beautiful_compute('E', Eboard(sigma_1 + sigma_2 + sigma_3 - sigma_4 - sigma_5 - sigma_6))\n",
    "    beautiful_inlined(E)\n",
    "    U = beautiful_compute('U', E * D)\n",
    "    C = beautiful_compute('C', q / U)\n",
    "    beautiful_answer(C)\n",
    "\n",
    "\n",
    "t1514()\n"
   ],
   "id": "94060bf7ab70586b",
   "outputs": [
    {
     "data": {
      "text/plain": [
       "<IPython.core.display.Markdown object>"
      ],
      "text/markdown": "by zero charge sum:$$\\sigma_{1} + \\sigma_{2} + \\sigma_{3} + \\sigma_{4} + \\sigma_{5} + \\sigma_{6} = 0\\tag{3}$$"
     },
     "metadata": {},
     "output_type": "display_data",
     "jetTransient": {
      "display_id": null
     }
    },
    {
     "data": {
      "text/plain": [
       "<IPython.core.display.Markdown object>"
      ],
      "text/markdown": "$$\\sigma_{4} + \\sigma_{5} = - \\frac{q}{S}\\tag{4}$$"
     },
     "metadata": {},
     "output_type": "display_data",
     "jetTransient": {
      "display_id": null
     }
    },
    {
     "data": {
      "text/plain": [
       "<IPython.core.display.Markdown object>"
      ],
      "text/markdown": "$$\\sigma_{2} + \\sigma_{3} = \\frac{q}{S}\\tag{5}$$"
     },
     "metadata": {},
     "output_type": "display_data",
     "jetTransient": {
      "display_id": null
     }
    },
    {
     "data": {
      "text/plain": [
       "<IPython.core.display.Markdown object>"
      ],
      "text/markdown": "by zero potential diff between box top and bottom:$$- D \\left(\\sigma_{2} + \\sigma_{3}\\right) + D \\left(\\sigma_{4} + \\sigma_{5}\\right) - \\sigma_{1} \\left(D + 2 d\\right) + \\sigma_{6} \\left(D + 2 d\\right) = 0\\tag{6}$$"
     },
     "metadata": {},
     "output_type": "display_data",
     "jetTransient": {
      "display_id": null
     }
    },
    {
     "data": {
      "text/plain": [
       "<IPython.core.display.Markdown object>"
      ],
      "text/markdown": "by upper board zero E:$$\\sigma_{1} + \\sigma_{2} = \\sigma_{3} + \\sigma_{4} + \\sigma_{5} + \\sigma_{6}\\tag{7}$$"
     },
     "metadata": {},
     "output_type": "display_data",
     "jetTransient": {
      "display_id": null
     }
    },
    {
     "data": {
      "text/plain": [
       "<IPython.core.display.Markdown object>"
      ],
      "text/markdown": "by lower board zero E:$$\\sigma_{1} + \\sigma_{2} + \\sigma_{3} + \\sigma_{4} = \\sigma_{5} + \\sigma_{6}\\tag{8}$$"
     },
     "metadata": {},
     "output_type": "display_data",
     "jetTransient": {
      "display_id": null
     }
    },
    {
     "data": {
      "text/plain": [
       "<IPython.core.display.Markdown object>"
      ],
      "text/markdown": "$\\left ( 3 \\right ) ,\\left ( 4 \\right ) ,\\left ( 7 \\right ) ,\\left ( 8 \\right ) ,\\left ( 5 \\right ) ,\\left ( 6 \\right )  \\Longrightarrow$"
     },
     "metadata": {},
     "output_type": "display_data",
     "jetTransient": {
      "display_id": null
     }
    },
    {
     "data": {
      "text/plain": [
       "<IPython.core.display.Markdown object>"
      ],
      "text/markdown": "$$\\sigma_{1} = - 25.0 q$$"
     },
     "metadata": {},
     "output_type": "display_data",
     "jetTransient": {
      "display_id": null
     }
    },
    {
     "data": {
      "text/plain": [
       "<IPython.core.display.Markdown object>"
      ],
      "text/markdown": "$$\\sigma_{2} = 25.0 q$$"
     },
     "metadata": {},
     "output_type": "display_data",
     "jetTransient": {
      "display_id": null
     }
    },
    {
     "data": {
      "text/plain": [
       "<IPython.core.display.Markdown object>"
      ],
      "text/markdown": "$$\\sigma_{3} = 25.0 q$$"
     },
     "metadata": {},
     "output_type": "display_data",
     "jetTransient": {
      "display_id": null
     }
    },
    {
     "data": {
      "text/plain": [
       "<IPython.core.display.Markdown object>"
      ],
      "text/markdown": "$$\\sigma_{4} = - 25.0 q$$"
     },
     "metadata": {},
     "output_type": "display_data",
     "jetTransient": {
      "display_id": null
     }
    },
    {
     "data": {
      "text/plain": [
       "<IPython.core.display.Markdown object>"
      ],
      "text/markdown": "$$\\sigma_{5} = - 25.0 q$$"
     },
     "metadata": {},
     "output_type": "display_data",
     "jetTransient": {
      "display_id": null
     }
    },
    {
     "data": {
      "text/plain": [
       "<IPython.core.display.Markdown object>"
      ],
      "text/markdown": "$$\\sigma_{6} = 25.0 q$$"
     },
     "metadata": {},
     "output_type": "display_data",
     "jetTransient": {
      "display_id": null
     }
    },
    {
     "data": {
      "text/plain": [
       "<IPython.core.display.Markdown object>"
      ],
      "text/markdown": "$$E = \\frac{\\sigma_{1} + \\sigma_{2} + \\sigma_{3} - \\sigma_{4} - \\sigma_{5} - \\sigma_{6}}{2 \\epsilon_{0}}$$"
     },
     "metadata": {},
     "output_type": "display_data",
     "jetTransient": {
      "display_id": null
     }
    },
    {
     "data": {
      "text/plain": [
       "<IPython.core.display.Markdown object>"
      ],
      "text/markdown": "inlined:$$2823522666519.2 q$$"
     },
     "metadata": {},
     "output_type": "display_data",
     "jetTransient": {
      "display_id": null
     }
    },
    {
     "data": {
      "text/plain": [
       "<IPython.core.display.Markdown object>"
      ],
      "text/markdown": "$$U = D E$$"
     },
     "metadata": {},
     "output_type": "display_data",
     "jetTransient": {
      "display_id": null
     }
    },
    {
     "data": {
      "text/plain": [
       "<IPython.core.display.Markdown object>"
      ],
      "text/markdown": "$$C = \\frac{q}{U}$$"
     },
     "metadata": {},
     "output_type": "display_data",
     "jetTransient": {
      "display_id": null
     }
    },
    {
     "data": {
      "text/plain": [
       "<IPython.core.display.Markdown object>"
      ],
      "text/markdown": "$$C = 7.08335025504 \\cdot 10^{-10}\\tag{answer}$$"
     },
     "metadata": {},
     "output_type": "display_data",
     "jetTransient": {
      "display_id": null
     }
    },
    {
     "data": {
      "text/plain": [
       "<IPython.core.display.Markdown object>"
      ],
      "text/markdown": "-------------------------------"
     },
     "metadata": {},
     "output_type": "display_data",
     "jetTransient": {
      "display_id": null
     }
    },
    {
     "data": {
      "text/plain": [
       "<IPython.core.display.Markdown object>"
      ],
      "text/markdown": "by zero charge sum:$$\\sigma_{1} + \\sigma_{2} + \\sigma_{3} + \\sigma_{4} + \\sigma_{5} + \\sigma_{6} = 0\\tag{3}$$"
     },
     "metadata": {},
     "output_type": "display_data",
     "jetTransient": {
      "display_id": null
     }
    },
    {
     "data": {
      "text/plain": [
       "<IPython.core.display.Markdown object>"
      ],
      "text/markdown": "$$\\sigma_{4} + \\sigma_{5} = - \\frac{q}{S}\\tag{4}$$"
     },
     "metadata": {},
     "output_type": "display_data",
     "jetTransient": {
      "display_id": null
     }
    },
    {
     "data": {
      "text/plain": [
       "<IPython.core.display.Markdown object>"
      ],
      "text/markdown": "by upper board zero E:$$\\sigma_{1} + \\sigma_{2} = \\sigma_{3} + \\sigma_{4} + \\sigma_{5} + \\sigma_{6}\\tag{5}$$"
     },
     "metadata": {},
     "output_type": "display_data",
     "jetTransient": {
      "display_id": null
     }
    },
    {
     "data": {
      "text/plain": [
       "<IPython.core.display.Markdown object>"
      ],
      "text/markdown": "by lower board zero E:$$\\sigma_{1} + \\sigma_{2} + \\sigma_{3} + \\sigma_{4} = \\sigma_{5} + \\sigma_{6}\\tag{6}$$"
     },
     "metadata": {},
     "output_type": "display_data",
     "jetTransient": {
      "display_id": null
     }
    },
    {
     "data": {
      "text/plain": [
       "<IPython.core.display.Markdown object>"
      ],
      "text/markdown": "by connect box and upper board, zero potential:$$- d \\sigma_{1} + d \\left(\\sigma_{2} + \\sigma_{3}\\right) + \\sigma_{6} \\left(D + 2 d\\right) + \\left(D + d\\right) \\left(\\sigma_{4} + \\sigma_{5}\\right) = 0\\tag{7}$$"
     },
     "metadata": {},
     "output_type": "display_data",
     "jetTransient": {
      "display_id": null
     }
    },
    {
     "data": {
      "text/plain": [
       "<IPython.core.display.Markdown object>"
      ],
      "text/markdown": "by zero potential diff between box top and bottom:$$- D \\left(\\sigma_{2} + \\sigma_{3}\\right) + D \\left(\\sigma_{4} + \\sigma_{5}\\right) - \\sigma_{1} \\left(D + 2 d\\right) + \\sigma_{6} \\left(D + 2 d\\right) = 0\\tag{8}$$"
     },
     "metadata": {},
     "output_type": "display_data",
     "jetTransient": {
      "display_id": null
     }
    },
    {
     "data": {
      "text/plain": [
       "<IPython.core.display.Markdown object>"
      ],
      "text/markdown": "$\\left ( 3 \\right ) ,\\left ( 4 \\right ) ,\\left ( 5 \\right ) ,\\left ( 6 \\right ) ,\\left ( 7 \\right ) ,\\left ( 8 \\right )  \\Longrightarrow$"
     },
     "metadata": {},
     "output_type": "display_data",
     "jetTransient": {
      "display_id": null
     }
    },
    {
     "data": {
      "text/plain": [
       "<IPython.core.display.Markdown object>"
      ],
      "text/markdown": "$$\\sigma_{1} = 0.0$$"
     },
     "metadata": {},
     "output_type": "display_data",
     "jetTransient": {
      "display_id": null
     }
    },
    {
     "data": {
      "text/plain": [
       "<IPython.core.display.Markdown object>"
      ],
      "text/markdown": "$$\\sigma_{2} = 0.0$$"
     },
     "metadata": {},
     "output_type": "display_data",
     "jetTransient": {
      "display_id": null
     }
    },
    {
     "data": {
      "text/plain": [
       "<IPython.core.display.Markdown object>"
      ],
      "text/markdown": "$$\\sigma_{3} = 16.6666666666667 q$$"
     },
     "metadata": {},
     "output_type": "display_data",
     "jetTransient": {
      "display_id": null
     }
    },
    {
     "data": {
      "text/plain": [
       "<IPython.core.display.Markdown object>"
      ],
      "text/markdown": "$$\\sigma_{4} = - 16.6666666666667 q$$"
     },
     "metadata": {},
     "output_type": "display_data",
     "jetTransient": {
      "display_id": null
     }
    },
    {
     "data": {
      "text/plain": [
       "<IPython.core.display.Markdown object>"
      ],
      "text/markdown": "$$\\sigma_{5} = - 33.3333333333333 q$$"
     },
     "metadata": {},
     "output_type": "display_data",
     "jetTransient": {
      "display_id": null
     }
    },
    {
     "data": {
      "text/plain": [
       "<IPython.core.display.Markdown object>"
      ],
      "text/markdown": "$$\\sigma_{6} = 33.3333333333333 q$$"
     },
     "metadata": {},
     "output_type": "display_data",
     "jetTransient": {
      "display_id": null
     }
    },
    {
     "data": {
      "text/plain": [
       "<IPython.core.display.Markdown object>"
      ],
      "text/markdown": "$$E = \\frac{\\sigma_{1} + \\sigma_{2} + \\sigma_{3} - \\sigma_{4} - \\sigma_{5} - \\sigma_{6}}{2 \\epsilon_{0}}$$"
     },
     "metadata": {},
     "output_type": "display_data",
     "jetTransient": {
      "display_id": null
     }
    },
    {
     "data": {
      "text/plain": [
       "<IPython.core.display.Markdown object>"
      ],
      "text/markdown": "inlined:$$1882348444346.13 q$$"
     },
     "metadata": {},
     "output_type": "display_data",
     "jetTransient": {
      "display_id": null
     }
    },
    {
     "data": {
      "text/plain": [
       "<IPython.core.display.Markdown object>"
      ],
      "text/markdown": "$$U = D E$$"
     },
     "metadata": {},
     "output_type": "display_data",
     "jetTransient": {
      "display_id": null
     }
    },
    {
     "data": {
      "text/plain": [
       "<IPython.core.display.Markdown object>"
      ],
      "text/markdown": "$$C = \\frac{q}{U}$$"
     },
     "metadata": {},
     "output_type": "display_data",
     "jetTransient": {
      "display_id": null
     }
    },
    {
     "data": {
      "text/plain": [
       "<IPython.core.display.Markdown object>"
      ],
      "text/markdown": "$$C = 1.062502538256 \\cdot 10^{-9}\\tag{answer}$$"
     },
     "metadata": {},
     "output_type": "display_data",
     "jetTransient": {
      "display_id": null
     }
    }
   ],
   "execution_count": 34
  },
  {
   "metadata": {},
   "cell_type": "markdown",
   "source": [
    "# 1515\n",
    "<img src=\"data:image/jpeg;base64,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\" alt=\"screenshot\" />"
   ],
   "id": "742209e8a0d0854b"
  },
  {
   "metadata": {
    "ExecuteTime": {
     "end_time": "2025-10-25T14:01:09.300911Z",
     "start_time": "2025-10-25T14:01:08.380020Z"
    }
   },
   "cell_type": "code",
   "source": [
    "reset()\n",
    "\n",
    "\n",
    "def t1515():\n",
    "    theta, d, l, b, a = symbols('theta d l b a', positive=True)\n",
    "    c1 = beautiful_condition(Eq(a * tan(theta), d))\n",
    "    beautiful_solve(c1, theta)\n",
    "\n",
    "    q = Symbol('q')\n",
    "\n",
    "    def Eboard(dense):\n",
    "        return dense / (2 * epsilon_0)\n",
    "\n",
    "    S = beautiful_compute('S', a * b)\n",
    "    E_1 = beautiful_compute('E_1', Eboard(q / S))\n",
    "    E_2 = beautiful_compute('E_2', Eboard(q / S) * cos(theta))\n",
    "    E = beautiful_compute('E', E_1 + E_2)\n",
    "    beautiful_inlined(E)\n",
    "    U = beautiful_compute('U', E * (l + d / 2))\n",
    "    C = beautiful_compute('C', q / U)\n",
    "    beautiful_answer(C)\n",
    "    md(\"to approx it:\")\n",
    "    dx = symbols('dx')\n",
    "    C = spf(C).subs(d, dx * l)\n",
    "    beautiful_print(C, \"for this expr:$\")\n",
    "    C = C.series(dx, 0, 2)\n",
    "    beautiful_print(C, \"series to 3nd:$\")\n",
    "\n",
    "    beautiful_print(C.removeO().subs(dx, d / l), \"so :$\")\n",
    "\n",
    "\n",
    "t1515()"
   ],
   "id": "24c61af67d00d5bf",
   "outputs": [
    {
     "data": {
      "text/plain": [
       "<IPython.core.display.Markdown object>"
      ],
      "text/markdown": "$$a \\tan{\\left(\\theta \\right)} = d\\tag{3}$$"
     },
     "metadata": {},
     "output_type": "display_data",
     "jetTransient": {
      "display_id": null
     }
    },
    {
     "data": {
      "text/plain": [
       "<IPython.core.display.Markdown object>"
      ],
      "text/markdown": "$\\left ( 3 \\right )  \\Longrightarrow$"
     },
     "metadata": {},
     "output_type": "display_data",
     "jetTransient": {
      "display_id": null
     }
    },
    {
     "data": {
      "text/plain": [
       "<IPython.core.display.Markdown object>"
      ],
      "text/markdown": "$$\\theta = \\operatorname{atan}{\\left(\\frac{d}{a} \\right)}$$"
     },
     "metadata": {},
     "output_type": "display_data",
     "jetTransient": {
      "display_id": null
     }
    },
    {
     "data": {
      "text/plain": [
       "<IPython.core.display.Markdown object>"
      ],
      "text/markdown": "$$S = a b$$"
     },
     "metadata": {},
     "output_type": "display_data",
     "jetTransient": {
      "display_id": null
     }
    },
    {
     "data": {
      "text/plain": [
       "<IPython.core.display.Markdown object>"
      ],
      "text/markdown": "$$E_{1} = \\frac{q}{2 S \\epsilon_{0}}$$"
     },
     "metadata": {},
     "output_type": "display_data",
     "jetTransient": {
      "display_id": null
     }
    },
    {
     "data": {
      "text/plain": [
       "<IPython.core.display.Markdown object>"
      ],
      "text/markdown": "$$E_{2} = \\frac{q \\cos{\\left(\\theta \\right)}}{2 S \\epsilon_{0}}$$"
     },
     "metadata": {},
     "output_type": "display_data",
     "jetTransient": {
      "display_id": null
     }
    },
    {
     "data": {
      "text/plain": [
       "<IPython.core.display.Markdown object>"
      ],
      "text/markdown": "$$E = E_{1} + E_{2}$$"
     },
     "metadata": {},
     "output_type": "display_data",
     "jetTransient": {
      "display_id": null
     }
    },
    {
     "data": {
      "text/plain": [
       "<IPython.core.display.Markdown object>"
      ],
      "text/markdown": "inlined:$$\\frac{q}{2 b \\epsilon_{0} \\sqrt{a^{2} + d^{2}}} + \\frac{q}{2 a b \\epsilon_{0}}$$"
     },
     "metadata": {},
     "output_type": "display_data",
     "jetTransient": {
      "display_id": null
     }
    },
    {
     "data": {
      "text/plain": [
       "<IPython.core.display.Markdown object>"
      ],
      "text/markdown": "$$U = E \\left(\\frac{d}{2} + l\\right)$$"
     },
     "metadata": {},
     "output_type": "display_data",
     "jetTransient": {
      "display_id": null
     }
    },
    {
     "data": {
      "text/plain": [
       "<IPython.core.display.Markdown object>"
      ],
      "text/markdown": "$$C = \\frac{q}{U}$$"
     },
     "metadata": {},
     "output_type": "display_data",
     "jetTransient": {
      "display_id": null
     }
    },
    {
     "data": {
      "text/plain": [
       "<IPython.core.display.Markdown object>"
      ],
      "text/markdown": "$$C = \\frac{4 a b \\epsilon_{0} \\sqrt{a^{2} + d^{2}}}{\\left(a + \\sqrt{a^{2} + d^{2}}\\right) \\left(d + 2 l\\right)}\\tag{answer}$$"
     },
     "metadata": {},
     "output_type": "display_data",
     "jetTransient": {
      "display_id": null
     }
    },
    {
     "data": {
      "text/plain": [
       "<IPython.core.display.Markdown object>"
      ],
      "text/markdown": "to approx it:"
     },
     "metadata": {},
     "output_type": "display_data",
     "jetTransient": {
      "display_id": null
     }
    },
    {
     "data": {
      "text/plain": [
       "<IPython.core.display.Markdown object>"
      ],
      "text/markdown": "for this expr:$$\\frac{4 a b \\epsilon_{0} \\sqrt{a^{2} + dx^{2} l^{2}}}{\\left(a + \\sqrt{a^{2} + dx^{2} l^{2}}\\right) \\left(dx l + 2 l\\right)}$$"
     },
     "metadata": {},
     "output_type": "display_data",
     "jetTransient": {
      "display_id": null
     }
    },
    {
     "data": {
      "text/plain": [
       "<IPython.core.display.Markdown object>"
      ],
      "text/markdown": "series to 3nd:$$\\frac{a b \\epsilon_{0}}{l} - \\frac{a b dx \\epsilon_{0}}{2 l} + O\\left(dx^{2}\\right)$$"
     },
     "metadata": {},
     "output_type": "display_data",
     "jetTransient": {
      "display_id": null
     }
    },
    {
     "data": {
      "text/plain": [
       "<IPython.core.display.Markdown object>"
      ],
      "text/markdown": "so :$$- \\frac{a b d \\epsilon_{0}}{2 l^{2}} + \\frac{a b \\epsilon_{0}}{l}$$"
     },
     "metadata": {},
     "output_type": "display_data",
     "jetTransient": {
      "display_id": null
     }
    }
   ],
   "execution_count": 35
  },
  {
   "metadata": {},
   "cell_type": "markdown",
   "source": [
    "# 15.19\n",
    "<img src=\"data:image/jpeg;base64,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\" alt=\"screenshot\" />"
   ],
   "id": "444cdd4d6b4fcc24"
  },
  {
   "metadata": {
    "ExecuteTime": {
     "end_time": "2025-10-25T14:01:09.844248Z",
     "start_time": "2025-10-25T14:01:09.619337Z"
    }
   },
   "cell_type": "code",
   "source": [
    "reset()\n",
    "\n",
    "\n",
    "def t1519():\n",
    "    Q, epsilon_r1, epsilon_r2 = symbols('Q epsilon_r1 epsilon_r2')\n",
    "    md(\"we do the middle apart and got a reasonable charge distribution as the above\")\n",
    "    d = symbols('d')\n",
    "    S = symbols('S')\n",
    "\n",
    "    def Eboard(dense):\n",
    "        return dense / (epsilon_0)\n",
    "\n",
    "    l = beautiful_compute('l', d / 2, )\n",
    "    U_1, U_2, C_1, C_2 = symbols('U_1 U_2 C_1 C_2')\n",
    "    beautiful_compute(U_1, l * Eboard(Q / S) / epsilon_r1)\n",
    "    beautiful_compute(U_2, l * Eboard(Q / S) / epsilon_r2)\n",
    "    U = beautiful_compute('U', U_1 + U_2)\n",
    "    beautiful_peek(U)\n",
    "    C = beautiful_compute('C', Q / U)\n",
    "    beautiful_answer(C)\n",
    "\n",
    "\n",
    "t1519()"
   ],
   "id": "b750d0db2655a592",
   "outputs": [
    {
     "data": {
      "text/plain": [
       "<IPython.core.display.Markdown object>"
      ],
      "text/markdown": "we do the middle apart and got a reasonable charge distribution as the above"
     },
     "metadata": {},
     "output_type": "display_data",
     "jetTransient": {
      "display_id": null
     }
    },
    {
     "data": {
      "text/plain": [
       "<IPython.core.display.Markdown object>"
      ],
      "text/markdown": "$$l = \\frac{d}{2}$$"
     },
     "metadata": {},
     "output_type": "display_data",
     "jetTransient": {
      "display_id": null
     }
    },
    {
     "data": {
      "text/plain": [
       "<IPython.core.display.Markdown object>"
      ],
      "text/markdown": "$$U_{1} = \\frac{Q l}{S \\epsilon_{0} \\epsilon_{r1}}$$"
     },
     "metadata": {},
     "output_type": "display_data",
     "jetTransient": {
      "display_id": null
     }
    },
    {
     "data": {
      "text/plain": [
       "<IPython.core.display.Markdown object>"
      ],
      "text/markdown": "$$U_{2} = \\frac{Q l}{S \\epsilon_{0} \\epsilon_{r2}}$$"
     },
     "metadata": {},
     "output_type": "display_data",
     "jetTransient": {
      "display_id": null
     }
    },
    {
     "data": {
      "text/plain": [
       "<IPython.core.display.Markdown object>"
      ],
      "text/markdown": "$$U = U_{1} + U_{2}$$"
     },
     "metadata": {},
     "output_type": "display_data",
     "jetTransient": {
      "display_id": null
     }
    },
    {
     "data": {
      "text/plain": [
       "<IPython.core.display.Markdown object>"
      ],
      "text/markdown": "$$U = \\frac{Q d \\left(\\epsilon_{r1} + \\epsilon_{r2}\\right)}{2 S \\epsilon_{0} \\epsilon_{r1} \\epsilon_{r2}}$$"
     },
     "metadata": {},
     "output_type": "display_data",
     "jetTransient": {
      "display_id": null
     }
    },
    {
     "data": {
      "text/plain": [
       "<IPython.core.display.Markdown object>"
      ],
      "text/markdown": "$$C = \\frac{Q}{U}$$"
     },
     "metadata": {},
     "output_type": "display_data",
     "jetTransient": {
      "display_id": null
     }
    },
    {
     "data": {
      "text/plain": [
       "<IPython.core.display.Markdown object>"
      ],
      "text/markdown": "$$C = \\frac{2 S \\epsilon_{0} \\epsilon_{r1} \\epsilon_{r2}}{d \\left(\\epsilon_{r1} + \\epsilon_{r2}\\right)}\\tag{answer}$$"
     },
     "metadata": {},
     "output_type": "display_data",
     "jetTransient": {
      "display_id": null
     }
    }
   ],
   "execution_count": 36
  }
 ],
 "metadata": {
  "kernelspec": {
   "display_name": "Python 3 (ipykernel)",
   "language": "python",
   "name": "python3"
  },
  "language_info": {
   "codemirror_mode": {
    "name": "ipython",
    "version": 3
   },
   "file_extension": ".py",
   "mimetype": "text/x-python",
   "name": "python",
   "nbconvert_exporter": "python",
   "pygments_lexer": "ipython3",
   "version": "3.14.0"
  }
 },
 "nbformat": 4,
 "nbformat_minor": 5
}
