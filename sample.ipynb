{
 "cells": [
  {
   "cell_type": "markdown",
   "id": "8a77807f92f26ee",
   "metadata": {},
   "source": [
    "# utils & framework"
   ]
  },
  {
   "cell_type": "code",
   "id": "fbc121e30a2defb3",
   "metadata": {
    "ExecuteTime": {
     "end_time": "2025-09-22T16:44:19.801897Z",
     "start_time": "2025-09-22T16:44:19.453019Z"
    }
   },
   "source": [
    "from collections.abc import Iterable\n",
    "\n",
    "from IPython.core.display import Markdown\n",
    "from sympy import *\n",
    "\n",
    "cond_id = 0\n",
    "var_id = 0\n",
    "\n",
    "conditions = []\n",
    "variables = {}\n",
    "\n",
    "def save_as_condition(condition):\n",
    "    global cond_id, conditions\n",
    "    cached_condition_id = cond_id\n",
    "    conditions.append(condition)\n",
    "    cond_id += 1\n",
    "    return cached_condition_id\n",
    "\n",
    "def substitute_values(expression):\n",
    "    while True:\n",
    "        left= False\n",
    "        for (key, value) in variables.items():\n",
    "            before = str(expression)\n",
    "            expression = expression.subs(key, value)\n",
    "            expression = simplify(expression)\n",
    "            if str(expression) != before:\n",
    "                left = True\n",
    "\n",
    "        if not left:\n",
    "            break\n",
    "\n",
    "    return expression\n",
    "\n",
    "\n",
    "def save_as_variable(symbol, value):\n",
    "    global variables\n",
    "    variables[symbol] = substitute_values(value)\n",
    "\n",
    "def get_conditions(ids) -> tuple:\n",
    "    return tuple(map(lambda i: conditions[i], ids))\n",
    "\n",
    "\n",
    "def beautiful_print(expression, message=\"\", tag=None):\n",
    "    # escape the message for LaTeX and append the expression\n",
    "    inline = not message.endswith('$')\n",
    "    tag_str = f'\\\\tag{{{tag}}}' if tag is not None else \"\"\n",
    "    if inline:\n",
    "        full_latex = message + '$' + latex(expression) + '$'\n",
    "    else:\n",
    "        full_latex = message + '$' + latex(expression) + tag_str + '$$'\n",
    "    display(Markdown(full_latex))\n",
    "\n",
    "\n",
    "def beautiful_solve(cond, variable):\n",
    "    cond = [cond] if not isinstance(cond, Iterable) else cond\n",
    "    variable = [variable] if not isinstance(variable, Iterable) else variable\n",
    "    solution = solve(get_conditions(cond), tuple(variable), dict=True)[0]\n",
    "    conclusions = []\n",
    "    display(Markdown(f\"${','.join(f\"\\\\left ( {i} \\\\right ) \" for i in cond)} \\\\Longrightarrow$\"))\n",
    "    for v in variable:\n",
    "        conclusion = solution[v]\n",
    "        beautiful_print(Eq(v, conclusion), \"$\")\n",
    "        save_as_variable(v, conclusion)\n",
    "        conclusions.append(conclusion)\n",
    "    return tuple(conclusions)\n",
    "\n",
    "\n",
    "def beautiful_condition(expression, message=\"$\"):\n",
    "    beautiful_print(expression(False) if callable(expression) else expression, message, cond_id)\n",
    "    return save_as_condition(expression(True) if callable(expression) else expression)\n",
    "\n",
    "def beautiful_compute(symbol, expression,message=\"$\",tag:bool=False):\n",
    "    beautiful_print(Eq(symbol,expression(False) if callable(expression) else expression), message,cond_id if tag else None)\n",
    "    save_as_variable(symbol, expression)\n",
    "\n",
    "\n"
   ],
   "outputs": [],
   "execution_count": 1
  },
  {
   "cell_type": "markdown",
   "id": "7c055ce8b6caccf7",
   "metadata": {},
   "source": [
    "# Define variables"
   ]
  },
  {
   "cell_type": "code",
   "id": "1307e74f74a7b3a",
   "metadata": {
    "ExecuteTime": {
     "end_time": "2025-09-22T16:44:19.811892Z",
     "start_time": "2025-09-22T16:44:19.807692Z"
    }
   },
   "source": [
    "t = symbols('t')\n",
    "varphi = Function('varphi')(t)\n",
    "rho = Function('rho')(t)\n",
    "V_a = symbols('V_a')\n",
    "a = symbols('a')\n",
    "b = symbols('b')\n"
   ],
   "outputs": [],
   "execution_count": 2
  },
  {
   "cell_type": "code",
   "id": "68ca6cbf5554382",
   "metadata": {
    "ExecuteTime": {
     "end_time": "2025-09-22T16:44:19.875964Z",
     "start_time": "2025-09-22T16:44:19.832328Z"
    }
   },
   "source": [
    "cond1 = beautiful_condition(lambda e: Eq(V_a, diff(a * tan(varphi), t, evaluate=e)), \"by geometry:$\")"
   ],
   "outputs": [
    {
     "data": {
      "text/plain": [
       "<IPython.core.display.Markdown object>"
      ],
      "text/markdown": "by geometry:$$V_{a} = \\frac{\\partial}{\\partial t} a \\tan{\\left(\\varphi{\\left(t \\right)} \\right)}\\tag{0}$$"
     },
     "metadata": {},
     "output_type": "display_data",
     "jetTransient": {
      "display_id": null
     }
    }
   ],
   "execution_count": 3
  },
  {
   "cell_type": "code",
   "id": "182899c697b865a3",
   "metadata": {
    "ExecuteTime": {
     "end_time": "2025-09-22T16:44:20.116714Z",
     "start_time": "2025-09-22T16:44:19.905462Z"
    }
   },
   "source": [
    "varphi_d1 = diff(varphi, t, 1)\n",
    "varphi_d2 = diff(varphi, t, 2)\n",
    "beautiful_print(Eq(diff(V_a, t, evaluate=False), 0), \"$V_a$ as const :$\")\n",
    "cond2 = beautiful_condition(lambda e: Eq(0, diff(a * tan(varphi), t, 2, evaluate=e)), \"so as to:$\")\n",
    "_=beautiful_solve([cond1, cond2], [varphi_d1, varphi_d2])"
   ],
   "outputs": [
    {
     "data": {
      "text/plain": [
       "<IPython.core.display.Markdown object>"
      ],
      "text/markdown": "$V_a$ as const :$$\\frac{d}{d t} V_{a} = 0$$"
     },
     "metadata": {},
     "output_type": "display_data",
     "jetTransient": {
      "display_id": null
     }
    },
    {
     "data": {
      "text/plain": [
       "<IPython.core.display.Markdown object>"
      ],
      "text/markdown": "so as to:$$0 = \\frac{\\partial^{2}}{\\partial t^{2}} a \\tan{\\left(\\varphi{\\left(t \\right)} \\right)}\\tag{1}$$"
     },
     "metadata": {},
     "output_type": "display_data",
     "jetTransient": {
      "display_id": null
     }
    },
    {
     "data": {
      "text/plain": [
       "<IPython.core.display.Markdown object>"
      ],
      "text/markdown": "$\\left ( 0 \\right ) ,\\left ( 1 \\right )  \\Longrightarrow$"
     },
     "metadata": {},
     "output_type": "display_data",
     "jetTransient": {
      "display_id": null
     }
    },
    {
     "data": {
      "text/plain": [
       "<IPython.core.display.Markdown object>"
      ],
      "text/markdown": "$$\\frac{d}{d t} \\varphi{\\left(t \\right)} = \\frac{V_{a}}{a \\left(\\tan^{2}{\\left(\\varphi{\\left(t \\right)} \\right)} + 1\\right)}$$"
     },
     "metadata": {},
     "output_type": "display_data",
     "jetTransient": {
      "display_id": null
     }
    },
    {
     "data": {
      "text/plain": [
       "<IPython.core.display.Markdown object>"
      ],
      "text/markdown": "$$\\frac{d^{2}}{d t^{2}} \\varphi{\\left(t \\right)} = - \\frac{2 V_{a}^{2} \\tan{\\left(\\varphi{\\left(t \\right)} \\right)}}{a^{2} \\left(\\tan^{2}{\\left(\\varphi{\\left(t \\right)} \\right)} + 1\\right)^{2}}$$"
     },
     "metadata": {},
     "output_type": "display_data",
     "jetTransient": {
      "display_id": null
     }
    }
   ],
   "execution_count": 4
  },
  {
   "cell_type": "code",
   "id": "fdbf6165384682fb",
   "metadata": {
    "ExecuteTime": {
     "end_time": "2025-09-22T16:44:20.186946Z",
     "start_time": "2025-09-22T16:44:20.136159Z"
    }
   },
   "source": [
    "beautiful_compute(rho,(a * sec(varphi) - b),\"by geometry: $\",True)"
   ],
   "outputs": [
    {
     "data": {
      "text/plain": [
       "<IPython.core.display.Markdown object>"
      ],
      "text/markdown": "by geometry: $$\\rho{\\left(t \\right)} = a \\sec{\\left(\\varphi{\\left(t \\right)} \\right)} - b\\tag{2}$$"
     },
     "metadata": {},
     "output_type": "display_data",
     "jetTransient": {
      "display_id": null
     }
    }
   ],
   "execution_count": 5
  },
  {
   "cell_type": "code",
   "id": "e112f07bff252cdb",
   "metadata": {
    "ExecuteTime": {
     "end_time": "2025-09-22T16:44:20.643080Z",
     "start_time": "2025-09-22T16:44:20.214417Z"
    }
   },
   "source": [
    "velocity = Matrix([diff(rho,t), rho * diff(varphi,t)])\n",
    "beautiful_print(velocity, r\"velocity vector in polar coordinates:$\")\n",
    "velocity = substitute_values(velocity)\n",
    "beautiful_print(velocity, r\"and inlined:$\")\n",
    "beautiful_print(simplify(velocity.norm()), r\"speed magnitude:$\",tag=\"answer\")\n"
   ],
   "outputs": [
    {
     "data": {
      "text/plain": [
       "<IPython.core.display.Markdown object>"
      ],
      "text/markdown": "velocity vector in polar coordinates:$$\\left[\\begin{matrix}\\frac{d}{d t} \\rho{\\left(t \\right)}\\\\\\rho{\\left(t \\right)} \\frac{d}{d t} \\varphi{\\left(t \\right)}\\end{matrix}\\right]$$"
     },
     "metadata": {},
     "output_type": "display_data",
     "jetTransient": {
      "display_id": null
     }
    },
    {
     "data": {
      "text/plain": [
       "<IPython.core.display.Markdown object>"
      ],
      "text/markdown": "and inlined:$$\\left[\\begin{matrix}V_{a} \\sin{\\left(\\varphi{\\left(t \\right)} \\right)}\\\\\\frac{V_{a} \\left(a - b \\cos{\\left(\\varphi{\\left(t \\right)} \\right)}\\right) \\cos{\\left(\\varphi{\\left(t \\right)} \\right)}}{a}\\end{matrix}\\right]$$"
     },
     "metadata": {},
     "output_type": "display_data",
     "jetTransient": {
      "display_id": null
     }
    },
    {
     "data": {
      "text/plain": [
       "<IPython.core.display.Markdown object>"
      ],
      "text/markdown": "speed magnitude:$$\\sqrt{\\left|{V_{a} \\sin{\\left(\\varphi{\\left(t \\right)} \\right)}}\\right|^{2} + \\left|{\\frac{V_{a} \\left(a - b \\cos{\\left(\\varphi{\\left(t \\right)} \\right)}\\right) \\cos{\\left(\\varphi{\\left(t \\right)} \\right)}}{a}}\\right|^{2}}\\tag{answer}$$"
     },
     "metadata": {},
     "output_type": "display_data",
     "jetTransient": {
      "display_id": null
     }
    }
   ],
   "execution_count": 6
  },
  {
   "cell_type": "code",
   "id": "65e51ee8de4318c9",
   "metadata": {
    "ExecuteTime": {
     "end_time": "2025-09-22T16:44:22.728317Z",
     "start_time": "2025-09-22T16:44:20.668027Z"
    }
   },
   "source": [
    "acceleration = Matrix([(diff(rho, t, 2) - rho * diff(varphi, t) ** 2),\n",
    "                       (rho * diff(varphi, t, 2) + 2 * diff(rho, t) * diff(varphi, t))])\n",
    "beautiful_print(acceleration, r\"acceleration vector in polar coordinates:$\")\n",
    "acceleration = substitute_values(acceleration)\n",
    "beautiful_print(acceleration, r\"and inlined:$\")\n",
    "beautiful_print(simplify(acceleration.norm()), r\"acceleration magnitude:$\",tag=\"answer\")\n"
   ],
   "outputs": [
    {
     "data": {
      "text/plain": [
       "<IPython.core.display.Markdown object>"
      ],
      "text/markdown": "acceleration vector in polar coordinates:$$\\left[\\begin{matrix}- \\rho{\\left(t \\right)} \\left(\\frac{d}{d t} \\varphi{\\left(t \\right)}\\right)^{2} + \\frac{d^{2}}{d t^{2}} \\rho{\\left(t \\right)}\\\\\\rho{\\left(t \\right)} \\frac{d^{2}}{d t^{2}} \\varphi{\\left(t \\right)} + 2 \\frac{d}{d t} \\rho{\\left(t \\right)} \\frac{d}{d t} \\varphi{\\left(t \\right)}\\end{matrix}\\right]$$"
     },
     "metadata": {},
     "output_type": "display_data",
     "jetTransient": {
      "display_id": null
     }
    },
    {
     "data": {
      "text/plain": [
       "<IPython.core.display.Markdown object>"
      ],
      "text/markdown": "and inlined:$$\\left[\\begin{matrix}\\frac{V_{a}^{2} b \\cos^{4}{\\left(\\varphi{\\left(t \\right)} \\right)}}{a^{2}}\\\\\\frac{2 V_{a}^{2} b \\sin{\\left(\\varphi{\\left(t \\right)} \\right)} \\cos^{3}{\\left(\\varphi{\\left(t \\right)} \\right)}}{a^{2}}\\end{matrix}\\right]$$"
     },
     "metadata": {},
     "output_type": "display_data",
     "jetTransient": {
      "display_id": null
     }
    },
    {
     "data": {
      "text/plain": [
       "<IPython.core.display.Markdown object>"
      ],
      "text/markdown": "acceleration magnitude:$$\\sqrt{\\left|{\\frac{V_{a}^{2} b \\cos^{4}{\\left(\\varphi{\\left(t \\right)} \\right)}}{a^{2}}}\\right|^{2} + 4 \\left|{\\frac{V_{a}^{2} b \\sin{\\left(\\varphi{\\left(t \\right)} \\right)} \\cos^{3}{\\left(\\varphi{\\left(t \\right)} \\right)}}{a^{2}}}\\right|^{2}}\\tag{answer}$$"
     },
     "metadata": {},
     "output_type": "display_data",
     "jetTransient": {
      "display_id": null
     }
    }
   ],
   "execution_count": 7
  }
 ],
 "metadata": {
  "kernelspec": {
   "display_name": "Python 3 (ipykernel)",
   "language": "python",
   "name": "python3"
  },
  "language_info": {
   "codemirror_mode": {
    "name": "ipython",
    "version": 3
   },
   "file_extension": ".py",
   "mimetype": "text/x-python",
   "name": "python",
   "nbconvert_exporter": "python",
   "pygments_lexer": "ipython3",
   "version": "3.13.7"
  }
 },
 "nbformat": 4,
 "nbformat_minor": 5
}
